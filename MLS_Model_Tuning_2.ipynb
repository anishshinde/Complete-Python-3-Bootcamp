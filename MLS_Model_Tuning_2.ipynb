{
  "nbformat": 4,
  "nbformat_minor": 0,
  "metadata": {
    "kernelspec": {
      "display_name": "Python 3",
      "language": "python",
      "name": "python3"
    },
    "language_info": {
      "codemirror_mode": {
        "name": "ipython",
        "version": 3
      },
      "file_extension": ".py",
      "mimetype": "text/x-python",
      "name": "python",
      "nbconvert_exporter": "python",
      "pygments_lexer": "ipython3",
      "version": "3.8.3"
    },
    "colab": {
      "name": "MLS_Model_Tuning-2.ipynb",
      "provenance": [],
      "toc_visible": true,
      "include_colab_link": true
    }
  },
  "cells": [
    {
      "cell_type": "markdown",
      "metadata": {
        "id": "view-in-github",
        "colab_type": "text"
      },
      "source": [
        "<a href=\"https://colab.research.google.com/github/anishshinde/Complete-Python-3-Bootcamp/blob/master/MLS_Model_Tuning_2.ipynb\" target=\"_parent\"><img src=\"https://colab.research.google.com/assets/colab-badge.svg\" alt=\"Open In Colab\"/></a>"
      ]
    },
    {
      "cell_type": "markdown",
      "metadata": {
        "id": "ubvbaK0byZra"
      },
      "source": [
        "### Problem Statement\n",
        "\n",
        "An Ed-Tech company wants to hire data scientists among people who have successfully passed some courses and then signed up for training. The company wants to know which of the people are really looking for a job change and will prefer working with them, after completion of training because it helps to reduce the cost and time for categorization of candidates. \n",
        "\n",
        "Information related to demographics, education, the experience is in hands from candidates signup and enrollment."
      ]
    },
    {
      "cell_type": "markdown",
      "metadata": {
        "id": "0pU1qMX_yZrc"
      },
      "source": [
        "* enrollee_id: Unique ID for the candidate\n",
        "\n",
        "* city: City code\n",
        "\n",
        "* city_ development _index: Development index of the city (scaled)\n",
        "\n",
        "* gender: Gender of the candidate\n",
        "\n",
        "* relevent_experience: Relevant experience of the candidate\n",
        "\n",
        "* enrolled_university: Type of University course enrolled if any\n",
        "\n",
        "* education_level: Education level of candidate\n",
        "\n",
        "* major_discipline: Education major discipline of the candidate\n",
        "\n",
        "* experience: Candidate total experience in years\n",
        "\n",
        "* company_size: No of employees in current employer's company\n",
        "\n",
        "* company_type: Type of current employer\n",
        "\n",
        "* lastnewjob: Difference in years between previous job and current job\n",
        "\n",
        "* training_hours: training hours completed\n",
        "\n",
        "* target: 0 – Not looking for a job change, 1 – Looking for a job change\n",
        "\n",
        "\n",
        "#### What is City Development Index?\n",
        "\n",
        "* The City Development Index was developed for the Second United Nations Conference on Human Settlements (Habitat II) in 1996 and measures the level of development in cities. The Urban Indicators Programme of the United Nations Human Settlements Programme (UN-Habitat) developed the indicator so that they could rank cities of the world according to their level of development and as a display of indicators depicting development. The CDI cuts across the different clusters identified in the Urban Indicator Framework as it is based on five sub-indices namely, infrastructure, waste, health, education, and city product. It is useful as it provides a snap-shot view of how cities are doing concerning the different indices"
      ]
    },
    {
      "cell_type": "code",
      "metadata": {
        "id": "qphRTt3CQQAl"
      },
      "source": [
        ""
      ],
      "execution_count": null,
      "outputs": []
    },
    {
      "cell_type": "code",
      "metadata": {
        "id": "TgS7sexYyZrk"
      },
      "source": [
        "# Libraries to help with reading and manipulating data\n",
        "import numpy as np\n",
        "import pandas as pd\n",
        "# Libraries to help with data visualization\n",
        "import matplotlib.pyplot as plt\n",
        "import seaborn as sns\n",
        "# Libraries to tune model, get different metric scores, and split data\n",
        "from sklearn.model_selection import GridSearchCV\n",
        "from sklearn.model_selection import train_test_split, StratifiedKFold, cross_val_score\n",
        "from sklearn.metrics import accuracy_score,precision_score,recall_score\n",
        "from sklearn import metrics\n",
        "# Library to impute missing values\n",
        "from sklearn.impute import KNNImputer\n",
        "# Library to build a logistic regression model\n",
        "from sklearn.linear_model import LogisticRegression\n",
        "# Library to supress the warning\n",
        "import warnings\n",
        "warnings.filterwarnings('ignore')"
      ],
      "execution_count": null,
      "outputs": []
    },
    {
      "cell_type": "code",
      "metadata": {
        "id": "UL9bAS4EHpYv"
      },
      "source": [
        ""
      ],
      "execution_count": null,
      "outputs": []
    },
    {
      "cell_type": "code",
      "metadata": {
        "id": "QE-HUsf2yZrl"
      },
      "source": [
        "job = pd.read_csv('jobs_data.csv')"
      ],
      "execution_count": null,
      "outputs": []
    },
    {
      "cell_type": "code",
      "metadata": {
        "id": "YyIJVpqWyZrl"
      },
      "source": [
        "\n",
        "# copying data to another varaible to avoid any changes to original data\n",
        "data = job.copy()"
      ],
      "execution_count": null,
      "outputs": []
    },
    {
      "cell_type": "markdown",
      "metadata": {
        "id": "wU4ZaH3wyZrl"
      },
      "source": [
        "### View the first and last 5 rows of the dataset."
      ]
    },
    {
      "cell_type": "code",
      "metadata": {
        "scrolled": true,
        "colab": {
          "base_uri": "https://localhost:8080/",
          "height": 257
        },
        "id": "tgghfrhjyZrm",
        "outputId": "8b701e2b-8bb7-406e-abbd-1acaa38ce926"
      },
      "source": [
        "data.head()"
      ],
      "execution_count": null,
      "outputs": [
        {
          "output_type": "execute_result",
          "data": {
            "text/html": [
              "<div>\n",
              "<style scoped>\n",
              "    .dataframe tbody tr th:only-of-type {\n",
              "        vertical-align: middle;\n",
              "    }\n",
              "\n",
              "    .dataframe tbody tr th {\n",
              "        vertical-align: top;\n",
              "    }\n",
              "\n",
              "    .dataframe thead th {\n",
              "        text-align: right;\n",
              "    }\n",
              "</style>\n",
              "<table border=\"1\" class=\"dataframe\">\n",
              "  <thead>\n",
              "    <tr style=\"text-align: right;\">\n",
              "      <th></th>\n",
              "      <th>enrollee_id</th>\n",
              "      <th>city</th>\n",
              "      <th>city_development_index</th>\n",
              "      <th>gender</th>\n",
              "      <th>relevent_experience</th>\n",
              "      <th>enrolled_university</th>\n",
              "      <th>education_level</th>\n",
              "      <th>major_discipline</th>\n",
              "      <th>experience</th>\n",
              "      <th>company_size</th>\n",
              "      <th>company_type</th>\n",
              "      <th>last_new_job</th>\n",
              "      <th>training_hours</th>\n",
              "      <th>target</th>\n",
              "    </tr>\n",
              "  </thead>\n",
              "  <tbody>\n",
              "    <tr>\n",
              "      <th>0</th>\n",
              "      <td>8949</td>\n",
              "      <td>city_103</td>\n",
              "      <td>0.920</td>\n",
              "      <td>Male</td>\n",
              "      <td>Has relevent experience</td>\n",
              "      <td>no_enrollment</td>\n",
              "      <td>Graduate</td>\n",
              "      <td>STEM</td>\n",
              "      <td>&gt;20</td>\n",
              "      <td>NaN</td>\n",
              "      <td>NaN</td>\n",
              "      <td>1</td>\n",
              "      <td>36</td>\n",
              "      <td>1.0</td>\n",
              "    </tr>\n",
              "    <tr>\n",
              "      <th>1</th>\n",
              "      <td>29725</td>\n",
              "      <td>city_40</td>\n",
              "      <td>0.776</td>\n",
              "      <td>Male</td>\n",
              "      <td>No relevent experience</td>\n",
              "      <td>no_enrollment</td>\n",
              "      <td>Graduate</td>\n",
              "      <td>STEM</td>\n",
              "      <td>15</td>\n",
              "      <td>50-99</td>\n",
              "      <td>Pvt Ltd</td>\n",
              "      <td>&gt;4</td>\n",
              "      <td>47</td>\n",
              "      <td>0.0</td>\n",
              "    </tr>\n",
              "    <tr>\n",
              "      <th>2</th>\n",
              "      <td>11561</td>\n",
              "      <td>city_21</td>\n",
              "      <td>0.624</td>\n",
              "      <td>NaN</td>\n",
              "      <td>No relevent experience</td>\n",
              "      <td>Full time course</td>\n",
              "      <td>Graduate</td>\n",
              "      <td>STEM</td>\n",
              "      <td>5</td>\n",
              "      <td>NaN</td>\n",
              "      <td>NaN</td>\n",
              "      <td>never</td>\n",
              "      <td>83</td>\n",
              "      <td>0.0</td>\n",
              "    </tr>\n",
              "    <tr>\n",
              "      <th>3</th>\n",
              "      <td>33241</td>\n",
              "      <td>city_115</td>\n",
              "      <td>0.789</td>\n",
              "      <td>NaN</td>\n",
              "      <td>No relevent experience</td>\n",
              "      <td>NaN</td>\n",
              "      <td>Graduate</td>\n",
              "      <td>Business Degree</td>\n",
              "      <td>&lt;1</td>\n",
              "      <td>NaN</td>\n",
              "      <td>Pvt Ltd</td>\n",
              "      <td>never</td>\n",
              "      <td>52</td>\n",
              "      <td>1.0</td>\n",
              "    </tr>\n",
              "    <tr>\n",
              "      <th>4</th>\n",
              "      <td>666</td>\n",
              "      <td>city_162</td>\n",
              "      <td>0.767</td>\n",
              "      <td>Male</td>\n",
              "      <td>Has relevent experience</td>\n",
              "      <td>no_enrollment</td>\n",
              "      <td>Masters</td>\n",
              "      <td>STEM</td>\n",
              "      <td>&gt;20</td>\n",
              "      <td>50-99</td>\n",
              "      <td>Funded Startup</td>\n",
              "      <td>4</td>\n",
              "      <td>8</td>\n",
              "      <td>0.0</td>\n",
              "    </tr>\n",
              "  </tbody>\n",
              "</table>\n",
              "</div>"
            ],
            "text/plain": [
              "   enrollee_id      city  ...  training_hours target\n",
              "0         8949  city_103  ...              36    1.0\n",
              "1        29725   city_40  ...              47    0.0\n",
              "2        11561   city_21  ...              83    0.0\n",
              "3        33241  city_115  ...              52    1.0\n",
              "4          666  city_162  ...               8    0.0\n",
              "\n",
              "[5 rows x 14 columns]"
            ]
          },
          "metadata": {
            "tags": []
          },
          "execution_count": 182
        }
      ]
    },
    {
      "cell_type": "code",
      "metadata": {
        "colab": {
          "base_uri": "https://localhost:8080/",
          "height": 274
        },
        "id": "YLbA938YyZrm",
        "outputId": "d8a88d22-99b1-4b89-edb7-789c4e2ddd9b"
      },
      "source": [
        "data.tail()"
      ],
      "execution_count": null,
      "outputs": [
        {
          "output_type": "execute_result",
          "data": {
            "text/html": [
              "<div>\n",
              "<style scoped>\n",
              "    .dataframe tbody tr th:only-of-type {\n",
              "        vertical-align: middle;\n",
              "    }\n",
              "\n",
              "    .dataframe tbody tr th {\n",
              "        vertical-align: top;\n",
              "    }\n",
              "\n",
              "    .dataframe thead th {\n",
              "        text-align: right;\n",
              "    }\n",
              "</style>\n",
              "<table border=\"1\" class=\"dataframe\">\n",
              "  <thead>\n",
              "    <tr style=\"text-align: right;\">\n",
              "      <th></th>\n",
              "      <th>enrollee_id</th>\n",
              "      <th>city</th>\n",
              "      <th>city_development_index</th>\n",
              "      <th>gender</th>\n",
              "      <th>relevent_experience</th>\n",
              "      <th>enrolled_university</th>\n",
              "      <th>education_level</th>\n",
              "      <th>major_discipline</th>\n",
              "      <th>experience</th>\n",
              "      <th>company_size</th>\n",
              "      <th>company_type</th>\n",
              "      <th>last_new_job</th>\n",
              "      <th>training_hours</th>\n",
              "      <th>target</th>\n",
              "    </tr>\n",
              "  </thead>\n",
              "  <tbody>\n",
              "    <tr>\n",
              "      <th>19153</th>\n",
              "      <td>7386</td>\n",
              "      <td>city_173</td>\n",
              "      <td>0.878</td>\n",
              "      <td>Male</td>\n",
              "      <td>No relevent experience</td>\n",
              "      <td>no_enrollment</td>\n",
              "      <td>Graduate</td>\n",
              "      <td>Humanities</td>\n",
              "      <td>14</td>\n",
              "      <td>NaN</td>\n",
              "      <td>NaN</td>\n",
              "      <td>1</td>\n",
              "      <td>42</td>\n",
              "      <td>1.0</td>\n",
              "    </tr>\n",
              "    <tr>\n",
              "      <th>19154</th>\n",
              "      <td>31398</td>\n",
              "      <td>city_103</td>\n",
              "      <td>0.920</td>\n",
              "      <td>Male</td>\n",
              "      <td>Has relevent experience</td>\n",
              "      <td>no_enrollment</td>\n",
              "      <td>Graduate</td>\n",
              "      <td>STEM</td>\n",
              "      <td>14</td>\n",
              "      <td>NaN</td>\n",
              "      <td>NaN</td>\n",
              "      <td>4</td>\n",
              "      <td>52</td>\n",
              "      <td>1.0</td>\n",
              "    </tr>\n",
              "    <tr>\n",
              "      <th>19155</th>\n",
              "      <td>24576</td>\n",
              "      <td>city_103</td>\n",
              "      <td>0.920</td>\n",
              "      <td>Male</td>\n",
              "      <td>Has relevent experience</td>\n",
              "      <td>no_enrollment</td>\n",
              "      <td>Graduate</td>\n",
              "      <td>STEM</td>\n",
              "      <td>&gt;20</td>\n",
              "      <td>50-99</td>\n",
              "      <td>Pvt Ltd</td>\n",
              "      <td>4</td>\n",
              "      <td>44</td>\n",
              "      <td>0.0</td>\n",
              "    </tr>\n",
              "    <tr>\n",
              "      <th>19156</th>\n",
              "      <td>5756</td>\n",
              "      <td>city_65</td>\n",
              "      <td>0.802</td>\n",
              "      <td>Male</td>\n",
              "      <td>Has relevent experience</td>\n",
              "      <td>no_enrollment</td>\n",
              "      <td>High School</td>\n",
              "      <td>NaN</td>\n",
              "      <td>&lt;1</td>\n",
              "      <td>500-999</td>\n",
              "      <td>Pvt Ltd</td>\n",
              "      <td>2</td>\n",
              "      <td>97</td>\n",
              "      <td>0.0</td>\n",
              "    </tr>\n",
              "    <tr>\n",
              "      <th>19157</th>\n",
              "      <td>23834</td>\n",
              "      <td>city_67</td>\n",
              "      <td>0.855</td>\n",
              "      <td>NaN</td>\n",
              "      <td>No relevent experience</td>\n",
              "      <td>no_enrollment</td>\n",
              "      <td>Primary School</td>\n",
              "      <td>NaN</td>\n",
              "      <td>2</td>\n",
              "      <td>NaN</td>\n",
              "      <td>NaN</td>\n",
              "      <td>1</td>\n",
              "      <td>127</td>\n",
              "      <td>0.0</td>\n",
              "    </tr>\n",
              "  </tbody>\n",
              "</table>\n",
              "</div>"
            ],
            "text/plain": [
              "       enrollee_id      city  ...  training_hours target\n",
              "19153         7386  city_173  ...              42    1.0\n",
              "19154        31398  city_103  ...              52    1.0\n",
              "19155        24576  city_103  ...              44    0.0\n",
              "19156         5756   city_65  ...              97    0.0\n",
              "19157        23834   city_67  ...             127    0.0\n",
              "\n",
              "[5 rows x 14 columns]"
            ]
          },
          "metadata": {
            "tags": []
          },
          "execution_count": 183
        }
      ]
    },
    {
      "cell_type": "markdown",
      "metadata": {
        "id": "dEuSu6e4hU2e"
      },
      "source": [
        "### Understand the shape of the dataset."
      ]
    },
    {
      "cell_type": "code",
      "metadata": {
        "colab": {
          "base_uri": "https://localhost:8080/"
        },
        "id": "BYv62A_CyZrn",
        "outputId": "0b13e7f5-2001-4083-b0ed-0fafdd048d2e"
      },
      "source": [
        "data.shape"
      ],
      "execution_count": null,
      "outputs": [
        {
          "output_type": "execute_result",
          "data": {
            "text/plain": [
              "(19158, 14)"
            ]
          },
          "metadata": {
            "tags": []
          },
          "execution_count": 184
        }
      ]
    },
    {
      "cell_type": "markdown",
      "metadata": {
        "id": "ZwMMsQXwyZrn"
      },
      "source": [
        "* The dataset has 19158 rows and 14 columns "
      ]
    },
    {
      "cell_type": "markdown",
      "metadata": {
        "id": "mwAu-vEwhU2m"
      },
      "source": [
        "### Check the data types of the columns for the dataset."
      ]
    },
    {
      "cell_type": "code",
      "metadata": {
        "colab": {
          "base_uri": "https://localhost:8080/"
        },
        "id": "dWq7sO60yZro",
        "outputId": "c3e6d689-9f8e-488a-f99a-8b136fb48780"
      },
      "source": [
        "data.info()"
      ],
      "execution_count": null,
      "outputs": [
        {
          "output_type": "stream",
          "text": [
            "<class 'pandas.core.frame.DataFrame'>\n",
            "RangeIndex: 19158 entries, 0 to 19157\n",
            "Data columns (total 14 columns):\n",
            " #   Column                  Non-Null Count  Dtype  \n",
            "---  ------                  --------------  -----  \n",
            " 0   enrollee_id             19158 non-null  int64  \n",
            " 1   city                    19158 non-null  object \n",
            " 2   city_development_index  19158 non-null  float64\n",
            " 3   gender                  14650 non-null  object \n",
            " 4   relevent_experience     19158 non-null  object \n",
            " 5   enrolled_university     18772 non-null  object \n",
            " 6   education_level         18698 non-null  object \n",
            " 7   major_discipline        16345 non-null  object \n",
            " 8   experience              19093 non-null  object \n",
            " 9   company_size            13220 non-null  object \n",
            " 10  company_type            13018 non-null  object \n",
            " 11  last_new_job            18735 non-null  object \n",
            " 12  training_hours          19158 non-null  int64  \n",
            " 13  target                  19158 non-null  float64\n",
            "dtypes: float64(2), int64(2), object(10)\n",
            "memory usage: 2.0+ MB\n"
          ],
          "name": "stdout"
        }
      ]
    },
    {
      "cell_type": "markdown",
      "metadata": {
        "id": "I6T-DXqFyZro"
      },
      "source": [
        "* Only 4 variables are numerical rest all are object types.\n",
        "* 8 columns have less than 19158 non-null values i.e. columns have missing values."
      ]
    },
    {
      "cell_type": "markdown",
      "metadata": {
        "id": "U8ytUdoHyZro"
      },
      "source": [
        "**Check the percentage of missing values in each column**"
      ]
    },
    {
      "cell_type": "code",
      "metadata": {
        "colab": {
          "base_uri": "https://localhost:8080/",
          "height": 478
        },
        "id": "brTRTdt9yZro",
        "outputId": "158ebbdb-bb50-4d10-f1c0-33109938bca2"
      },
      "source": [
        "pd.DataFrame(data={'% of Missing Values':round(data.isnull().sum()/data.isnull().count()*100,2)}).sort_values(by='% of Missing Values',ascending=False)"
      ],
      "execution_count": null,
      "outputs": [
        {
          "output_type": "execute_result",
          "data": {
            "text/html": [
              "<div>\n",
              "<style scoped>\n",
              "    .dataframe tbody tr th:only-of-type {\n",
              "        vertical-align: middle;\n",
              "    }\n",
              "\n",
              "    .dataframe tbody tr th {\n",
              "        vertical-align: top;\n",
              "    }\n",
              "\n",
              "    .dataframe thead th {\n",
              "        text-align: right;\n",
              "    }\n",
              "</style>\n",
              "<table border=\"1\" class=\"dataframe\">\n",
              "  <thead>\n",
              "    <tr style=\"text-align: right;\">\n",
              "      <th></th>\n",
              "      <th>% of Missing Values</th>\n",
              "    </tr>\n",
              "  </thead>\n",
              "  <tbody>\n",
              "    <tr>\n",
              "      <th>company_type</th>\n",
              "      <td>32.05</td>\n",
              "    </tr>\n",
              "    <tr>\n",
              "      <th>company_size</th>\n",
              "      <td>30.99</td>\n",
              "    </tr>\n",
              "    <tr>\n",
              "      <th>gender</th>\n",
              "      <td>23.53</td>\n",
              "    </tr>\n",
              "    <tr>\n",
              "      <th>major_discipline</th>\n",
              "      <td>14.68</td>\n",
              "    </tr>\n",
              "    <tr>\n",
              "      <th>education_level</th>\n",
              "      <td>2.40</td>\n",
              "    </tr>\n",
              "    <tr>\n",
              "      <th>last_new_job</th>\n",
              "      <td>2.21</td>\n",
              "    </tr>\n",
              "    <tr>\n",
              "      <th>enrolled_university</th>\n",
              "      <td>2.01</td>\n",
              "    </tr>\n",
              "    <tr>\n",
              "      <th>experience</th>\n",
              "      <td>0.34</td>\n",
              "    </tr>\n",
              "    <tr>\n",
              "      <th>enrollee_id</th>\n",
              "      <td>0.00</td>\n",
              "    </tr>\n",
              "    <tr>\n",
              "      <th>city</th>\n",
              "      <td>0.00</td>\n",
              "    </tr>\n",
              "    <tr>\n",
              "      <th>city_development_index</th>\n",
              "      <td>0.00</td>\n",
              "    </tr>\n",
              "    <tr>\n",
              "      <th>relevent_experience</th>\n",
              "      <td>0.00</td>\n",
              "    </tr>\n",
              "    <tr>\n",
              "      <th>training_hours</th>\n",
              "      <td>0.00</td>\n",
              "    </tr>\n",
              "    <tr>\n",
              "      <th>target</th>\n",
              "      <td>0.00</td>\n",
              "    </tr>\n",
              "  </tbody>\n",
              "</table>\n",
              "</div>"
            ],
            "text/plain": [
              "                        % of Missing Values\n",
              "company_type                          32.05\n",
              "company_size                          30.99\n",
              "gender                                23.53\n",
              "major_discipline                      14.68\n",
              "education_level                        2.40\n",
              "last_new_job                           2.21\n",
              "enrolled_university                    2.01\n",
              "experience                             0.34\n",
              "enrollee_id                            0.00\n",
              "city                                   0.00\n",
              "city_development_index                 0.00\n",
              "relevent_experience                    0.00\n",
              "training_hours                         0.00\n",
              "target                                 0.00"
            ]
          },
          "metadata": {
            "tags": []
          },
          "execution_count": 186
        }
      ]
    },
    {
      "cell_type": "markdown",
      "metadata": {
        "id": "_2Ikg8BiyZrp"
      },
      "source": [
        "* `company_type` column has 32.05% missing values out of the total observations.\n",
        "* `company_size` column has 30.99% missing values out of the total observations.\n",
        "* `gender` column has 23.53% missing values out of the total observations.\n",
        "* `major_discipline` column has 14.68% missing values out of the total observations.\n",
        "* `education_level` column has 2.40% missing values out of the total observations.\n",
        "* `last_new_job` column has 2.21% missing values out of the total observations.\n",
        "* `enrolled_university` column has 2.01% missing values out of the total observations.\n",
        "* `experience` column has 0.34% missing values out of the total observations.\n",
        "* We will impute these values after we split the data into train and test sets."
      ]
    },
    {
      "cell_type": "markdown",
      "metadata": {
        "id": "7E1orwlJhU20"
      },
      "source": [
        "### Summary of the dataset."
      ]
    },
    {
      "cell_type": "code",
      "metadata": {
        "colab": {
          "base_uri": "https://localhost:8080/",
          "height": 171
        },
        "id": "e2Qqm2uIyZrp",
        "outputId": "c4e8bb5a-7b59-465a-e77f-0818c4f192d1"
      },
      "source": [
        "data.describe().T"
      ],
      "execution_count": null,
      "outputs": [
        {
          "output_type": "execute_result",
          "data": {
            "text/html": [
              "<div>\n",
              "<style scoped>\n",
              "    .dataframe tbody tr th:only-of-type {\n",
              "        vertical-align: middle;\n",
              "    }\n",
              "\n",
              "    .dataframe tbody tr th {\n",
              "        vertical-align: top;\n",
              "    }\n",
              "\n",
              "    .dataframe thead th {\n",
              "        text-align: right;\n",
              "    }\n",
              "</style>\n",
              "<table border=\"1\" class=\"dataframe\">\n",
              "  <thead>\n",
              "    <tr style=\"text-align: right;\">\n",
              "      <th></th>\n",
              "      <th>count</th>\n",
              "      <th>mean</th>\n",
              "      <th>std</th>\n",
              "      <th>min</th>\n",
              "      <th>25%</th>\n",
              "      <th>50%</th>\n",
              "      <th>75%</th>\n",
              "      <th>max</th>\n",
              "    </tr>\n",
              "  </thead>\n",
              "  <tbody>\n",
              "    <tr>\n",
              "      <th>enrollee_id</th>\n",
              "      <td>19158.0</td>\n",
              "      <td>16875.358179</td>\n",
              "      <td>9616.292592</td>\n",
              "      <td>1.000</td>\n",
              "      <td>8554.25</td>\n",
              "      <td>16982.500</td>\n",
              "      <td>25169.75</td>\n",
              "      <td>33380.000</td>\n",
              "    </tr>\n",
              "    <tr>\n",
              "      <th>city_development_index</th>\n",
              "      <td>19158.0</td>\n",
              "      <td>0.828848</td>\n",
              "      <td>0.123362</td>\n",
              "      <td>0.448</td>\n",
              "      <td>0.74</td>\n",
              "      <td>0.903</td>\n",
              "      <td>0.92</td>\n",
              "      <td>0.949</td>\n",
              "    </tr>\n",
              "    <tr>\n",
              "      <th>training_hours</th>\n",
              "      <td>19158.0</td>\n",
              "      <td>65.366896</td>\n",
              "      <td>60.058462</td>\n",
              "      <td>1.000</td>\n",
              "      <td>23.00</td>\n",
              "      <td>47.000</td>\n",
              "      <td>88.00</td>\n",
              "      <td>336.000</td>\n",
              "    </tr>\n",
              "    <tr>\n",
              "      <th>target</th>\n",
              "      <td>19158.0</td>\n",
              "      <td>0.249348</td>\n",
              "      <td>0.432647</td>\n",
              "      <td>0.000</td>\n",
              "      <td>0.00</td>\n",
              "      <td>0.000</td>\n",
              "      <td>0.00</td>\n",
              "      <td>1.000</td>\n",
              "    </tr>\n",
              "  </tbody>\n",
              "</table>\n",
              "</div>"
            ],
            "text/plain": [
              "                          count          mean  ...       75%        max\n",
              "enrollee_id             19158.0  16875.358179  ...  25169.75  33380.000\n",
              "city_development_index  19158.0      0.828848  ...      0.92      0.949\n",
              "training_hours          19158.0     65.366896  ...     88.00    336.000\n",
              "target                  19158.0      0.249348  ...      0.00      1.000\n",
              "\n",
              "[4 rows x 8 columns]"
            ]
          },
          "metadata": {
            "tags": []
          },
          "execution_count": 187
        }
      ]
    },
    {
      "cell_type": "markdown",
      "metadata": {
        "id": "ZvU_zfA7yZrp"
      },
      "source": [
        "**Observations-**\n",
        "* `enrollee_id:` enrollee_id being a unique identifier doesn't add any meaning to the analysis and can be dropped.\n",
        "* `city_developement_index:` Since the value of the city development index is normalized a 0.82 average value indicates that most of the data we have is from fairly developed cities (metropolitan cities). However, the range of the index is large and varies from 0.448 to 0.949.\n",
        "* `training_hours:` Training hours has a wide range from 60hrs to 336hrs. On average, an enrollee has 65hrs of training. 755 of the enrollees less than (or equal to) 88hrs of training.\n",
        "* `target:` 75% of the enrollees in data are not looking for a job and maybe they just signed up to get trained in new technologies"
      ]
    },
    {
      "cell_type": "code",
      "metadata": {
        "id": "T8aJVA2CyZrp"
      },
      "source": [
        "data.drop(['enrollee_id'],axis=1,inplace=True)"
      ],
      "execution_count": null,
      "outputs": []
    },
    {
      "cell_type": "code",
      "metadata": {
        "colab": {
          "base_uri": "https://localhost:8080/",
          "height": 355
        },
        "id": "0yzZjwL3yZrq",
        "outputId": "aab21b2e-4471-4ec0-c574-1703e9afa982"
      },
      "source": [
        "data.describe(include=['object']).T"
      ],
      "execution_count": null,
      "outputs": [
        {
          "output_type": "execute_result",
          "data": {
            "text/html": [
              "<div>\n",
              "<style scoped>\n",
              "    .dataframe tbody tr th:only-of-type {\n",
              "        vertical-align: middle;\n",
              "    }\n",
              "\n",
              "    .dataframe tbody tr th {\n",
              "        vertical-align: top;\n",
              "    }\n",
              "\n",
              "    .dataframe thead th {\n",
              "        text-align: right;\n",
              "    }\n",
              "</style>\n",
              "<table border=\"1\" class=\"dataframe\">\n",
              "  <thead>\n",
              "    <tr style=\"text-align: right;\">\n",
              "      <th></th>\n",
              "      <th>count</th>\n",
              "      <th>unique</th>\n",
              "      <th>top</th>\n",
              "      <th>freq</th>\n",
              "    </tr>\n",
              "  </thead>\n",
              "  <tbody>\n",
              "    <tr>\n",
              "      <th>city</th>\n",
              "      <td>19158</td>\n",
              "      <td>123</td>\n",
              "      <td>city_103</td>\n",
              "      <td>4355</td>\n",
              "    </tr>\n",
              "    <tr>\n",
              "      <th>gender</th>\n",
              "      <td>14650</td>\n",
              "      <td>3</td>\n",
              "      <td>Male</td>\n",
              "      <td>13221</td>\n",
              "    </tr>\n",
              "    <tr>\n",
              "      <th>relevent_experience</th>\n",
              "      <td>19158</td>\n",
              "      <td>2</td>\n",
              "      <td>Has relevent experience</td>\n",
              "      <td>13792</td>\n",
              "    </tr>\n",
              "    <tr>\n",
              "      <th>enrolled_university</th>\n",
              "      <td>18772</td>\n",
              "      <td>3</td>\n",
              "      <td>no_enrollment</td>\n",
              "      <td>13817</td>\n",
              "    </tr>\n",
              "    <tr>\n",
              "      <th>education_level</th>\n",
              "      <td>18698</td>\n",
              "      <td>5</td>\n",
              "      <td>Graduate</td>\n",
              "      <td>11598</td>\n",
              "    </tr>\n",
              "    <tr>\n",
              "      <th>major_discipline</th>\n",
              "      <td>16345</td>\n",
              "      <td>6</td>\n",
              "      <td>STEM</td>\n",
              "      <td>14492</td>\n",
              "    </tr>\n",
              "    <tr>\n",
              "      <th>experience</th>\n",
              "      <td>19093</td>\n",
              "      <td>22</td>\n",
              "      <td>&gt;20</td>\n",
              "      <td>3286</td>\n",
              "    </tr>\n",
              "    <tr>\n",
              "      <th>company_size</th>\n",
              "      <td>13220</td>\n",
              "      <td>8</td>\n",
              "      <td>50-99</td>\n",
              "      <td>3083</td>\n",
              "    </tr>\n",
              "    <tr>\n",
              "      <th>company_type</th>\n",
              "      <td>13018</td>\n",
              "      <td>6</td>\n",
              "      <td>Pvt Ltd</td>\n",
              "      <td>9817</td>\n",
              "    </tr>\n",
              "    <tr>\n",
              "      <th>last_new_job</th>\n",
              "      <td>18735</td>\n",
              "      <td>6</td>\n",
              "      <td>1</td>\n",
              "      <td>8040</td>\n",
              "    </tr>\n",
              "  </tbody>\n",
              "</table>\n",
              "</div>"
            ],
            "text/plain": [
              "                     count unique                      top   freq\n",
              "city                 19158    123                 city_103   4355\n",
              "gender               14650      3                     Male  13221\n",
              "relevent_experience  19158      2  Has relevent experience  13792\n",
              "enrolled_university  18772      3            no_enrollment  13817\n",
              "education_level      18698      5                 Graduate  11598\n",
              "major_discipline     16345      6                     STEM  14492\n",
              "experience           19093     22                      >20   3286\n",
              "company_size         13220      8                    50-99   3083\n",
              "company_type         13018      6                  Pvt Ltd   9817\n",
              "last_new_job         18735      6                        1   8040"
            ]
          },
          "metadata": {
            "tags": []
          },
          "execution_count": 189
        }
      ]
    },
    {
      "cell_type": "markdown",
      "metadata": {
        "id": "ksbFfhNGyZrq"
      },
      "source": [
        "**Observations-**\n",
        "* Most of the records are from city_103.\n",
        "* Most of the enrollees are Males.\n",
        "* Most enrollees have some relevant experience.\n",
        "* Most of the enrollees were not enrolled in a university.\n",
        "* Most of the enrollees are graduates.\n",
        "* Most of the enrollees have STEM as their major discipline.\n",
        "* Most enrollees have worked in a pvt_ltd company."
      ]
    },
    {
      "cell_type": "markdown",
      "metadata": {
        "id": "kUJ_B5KxhU3D"
      },
      "source": [
        "### EDA"
      ]
    },
    {
      "cell_type": "markdown",
      "metadata": {
        "id": "7Rwx-1ZuhU3D"
      },
      "source": [
        "### Univariate analysis"
      ]
    },
    {
      "cell_type": "code",
      "metadata": {
        "id": "yXOUunUjyZrq"
      },
      "source": [
        "# While doing uni-variate analysis of numerical variables we want to study their central tendency \n",
        "# and dispersion.\n",
        "# Let us write a function that will help us create boxplot and histogram for any input numerical \n",
        "# variable.\n",
        "# This function takes the numerical column as the input and returns the boxplots \n",
        "# and histograms for the variable.\n",
        "# Let us see if this help us write faster and cleaner code.\n",
        "def histogram_boxplot(feature, figsize=(15,10), bins = None):\n",
        "    \"\"\" Boxplot and histogram combined\n",
        "    feature: 1-d feature array\n",
        "    figsize: size of fig (default (9,8))\n",
        "    bins: number of bins (default None / auto)\n",
        "    \"\"\"\n",
        "    f2, (ax_box2, ax_hist2) = plt.subplots(nrows = 2, # Number of rows of the subplot grid= 2\n",
        "                                           sharex = True, # x-axis will be shared among all subplots\n",
        "                                           gridspec_kw = {\"height_ratios\": (.25, .75)}, \n",
        "                                           figsize = figsize \n",
        "                                           ) # creating the 2 subplots\n",
        "    sns.boxplot(feature, ax=ax_box2, showmeans=True, color='violet') # boxplot will be created and a star will indicate the mean value of the column\n",
        "    sns.distplot(feature, kde=F, ax=ax_hist2, bins=bins,color = 'orange') if bins else sns.distplot(feature, kde=False, ax=ax_hist2,color='tab:cyan') # For histogram\n",
        "    ax_hist2.axvline(np.mean(feature), color='purple', linestyle='--') # Add mean to the histogram\n",
        "    ax_hist2.axvline(np.median(feature), color='black', linestyle='-') # Add median to the histogram"
      ],
      "execution_count": null,
      "outputs": []
    },
    {
      "cell_type": "markdown",
      "metadata": {
        "id": "zjDCV76WyZrr"
      },
      "source": [
        "### Observations on city_development_index"
      ]
    },
    {
      "cell_type": "code",
      "metadata": {
        "colab": {
          "base_uri": "https://localhost:8080/",
          "height": 590
        },
        "id": "4LRAgnRGyZrr",
        "outputId": "b36224d4-8ed3-49c9-cf29-27508b161111"
      },
      "source": [
        "histogram_boxplot(data['city_development_index'])"
      ],
      "execution_count": null,
      "outputs": [
        {
          "output_type": "display_data",
          "data": {
            "image/png": "[encoded data removed]",
            "text/plain": [
              "<Figure size 1080x720 with 2 Axes>"
            ]
          },
          "metadata": {
            "tags": []
          }
        }
      ]
    },
    {
      "cell_type": "markdown",
      "metadata": {
        "id": "1peKe41vyZrr"
      },
      "source": [
        "* Distribution of city_development_index is left-skewed.\n",
        "* Cities with city_development_index less than ~0.45 are outliers - such cities might be underdeveloped or tier 3 cities.\n",
        "* Let's explore it further."
      ]
    },
    {
      "cell_type": "code",
      "metadata": {
        "colab": {
          "base_uri": "https://localhost:8080/",
          "height": 694
        },
        "id": "3TrMxSVkyZrr",
        "outputId": "06cb78f0-6f68-4ab2-b6ec-2d08c9a3d627"
      },
      "source": [
        "data[data['city_development_index']<0.45]"
      ],
      "execution_count": null,
      "outputs": [
        {
          "output_type": "execute_result",
          "data": {
            "text/html": [
              "<div>\n",
              "<style scoped>\n",
              "    .dataframe tbody tr th:only-of-type {\n",
              "        vertical-align: middle;\n",
              "    }\n",
              "\n",
              "    .dataframe tbody tr th {\n",
              "        vertical-align: top;\n",
              "    }\n",
              "\n",
              "    .dataframe thead th {\n",
              "        text-align: right;\n",
              "    }\n",
              "</style>\n",
              "<table border=\"1\" class=\"dataframe\">\n",
              "  <thead>\n",
              "    <tr style=\"text-align: right;\">\n",
              "      <th></th>\n",
              "      <th>city</th>\n",
              "      <th>city_development_index</th>\n",
              "      <th>gender</th>\n",
              "      <th>relevent_experience</th>\n",
              "      <th>enrolled_university</th>\n",
              "      <th>education_level</th>\n",
              "      <th>major_discipline</th>\n",
              "      <th>experience</th>\n",
              "      <th>company_size</th>\n",
              "      <th>company_type</th>\n",
              "      <th>last_new_job</th>\n",
              "      <th>training_hours</th>\n",
              "      <th>target</th>\n",
              "    </tr>\n",
              "  </thead>\n",
              "  <tbody>\n",
              "    <tr>\n",
              "      <th>1523</th>\n",
              "      <td>city_33</td>\n",
              "      <td>0.448</td>\n",
              "      <td>NaN</td>\n",
              "      <td>Has relevent experience</td>\n",
              "      <td>Part time course</td>\n",
              "      <td>Graduate</td>\n",
              "      <td>STEM</td>\n",
              "      <td>10</td>\n",
              "      <td>50-99</td>\n",
              "      <td>NGO</td>\n",
              "      <td>&gt;4</td>\n",
              "      <td>48</td>\n",
              "      <td>1.0</td>\n",
              "    </tr>\n",
              "    <tr>\n",
              "      <th>4744</th>\n",
              "      <td>city_33</td>\n",
              "      <td>0.448</td>\n",
              "      <td>NaN</td>\n",
              "      <td>No relevent experience</td>\n",
              "      <td>Full time course</td>\n",
              "      <td>Graduate</td>\n",
              "      <td>STEM</td>\n",
              "      <td>2</td>\n",
              "      <td>NaN</td>\n",
              "      <td>NaN</td>\n",
              "      <td>never</td>\n",
              "      <td>43</td>\n",
              "      <td>1.0</td>\n",
              "    </tr>\n",
              "    <tr>\n",
              "      <th>5010</th>\n",
              "      <td>city_33</td>\n",
              "      <td>0.448</td>\n",
              "      <td>Male</td>\n",
              "      <td>No relevent experience</td>\n",
              "      <td>no_enrollment</td>\n",
              "      <td>Graduate</td>\n",
              "      <td>STEM</td>\n",
              "      <td>1</td>\n",
              "      <td>NaN</td>\n",
              "      <td>NaN</td>\n",
              "      <td>never</td>\n",
              "      <td>73</td>\n",
              "      <td>1.0</td>\n",
              "    </tr>\n",
              "    <tr>\n",
              "      <th>5265</th>\n",
              "      <td>city_33</td>\n",
              "      <td>0.448</td>\n",
              "      <td>NaN</td>\n",
              "      <td>No relevent experience</td>\n",
              "      <td>NaN</td>\n",
              "      <td>High School</td>\n",
              "      <td>NaN</td>\n",
              "      <td>5</td>\n",
              "      <td>NaN</td>\n",
              "      <td>Pvt Ltd</td>\n",
              "      <td>never</td>\n",
              "      <td>86</td>\n",
              "      <td>1.0</td>\n",
              "    </tr>\n",
              "    <tr>\n",
              "      <th>5567</th>\n",
              "      <td>city_33</td>\n",
              "      <td>0.448</td>\n",
              "      <td>NaN</td>\n",
              "      <td>Has relevent experience</td>\n",
              "      <td>Part time course</td>\n",
              "      <td>Masters</td>\n",
              "      <td>STEM</td>\n",
              "      <td>6</td>\n",
              "      <td>NaN</td>\n",
              "      <td>NaN</td>\n",
              "      <td>1</td>\n",
              "      <td>18</td>\n",
              "      <td>1.0</td>\n",
              "    </tr>\n",
              "    <tr>\n",
              "      <th>6127</th>\n",
              "      <td>city_33</td>\n",
              "      <td>0.448</td>\n",
              "      <td>NaN</td>\n",
              "      <td>No relevent experience</td>\n",
              "      <td>Full time course</td>\n",
              "      <td>Graduate</td>\n",
              "      <td>STEM</td>\n",
              "      <td>4</td>\n",
              "      <td>NaN</td>\n",
              "      <td>Public Sector</td>\n",
              "      <td>4</td>\n",
              "      <td>32</td>\n",
              "      <td>1.0</td>\n",
              "    </tr>\n",
              "    <tr>\n",
              "      <th>7724</th>\n",
              "      <td>city_33</td>\n",
              "      <td>0.448</td>\n",
              "      <td>Male</td>\n",
              "      <td>Has relevent experience</td>\n",
              "      <td>no_enrollment</td>\n",
              "      <td>Graduate</td>\n",
              "      <td>STEM</td>\n",
              "      <td>7</td>\n",
              "      <td>50-99</td>\n",
              "      <td>Pvt Ltd</td>\n",
              "      <td>1</td>\n",
              "      <td>28</td>\n",
              "      <td>0.0</td>\n",
              "    </tr>\n",
              "    <tr>\n",
              "      <th>7864</th>\n",
              "      <td>city_33</td>\n",
              "      <td>0.448</td>\n",
              "      <td>Male</td>\n",
              "      <td>Has relevent experience</td>\n",
              "      <td>no_enrollment</td>\n",
              "      <td>Graduate</td>\n",
              "      <td>STEM</td>\n",
              "      <td>8</td>\n",
              "      <td>NaN</td>\n",
              "      <td>NaN</td>\n",
              "      <td>&gt;4</td>\n",
              "      <td>74</td>\n",
              "      <td>0.0</td>\n",
              "    </tr>\n",
              "    <tr>\n",
              "      <th>9134</th>\n",
              "      <td>city_33</td>\n",
              "      <td>0.448</td>\n",
              "      <td>NaN</td>\n",
              "      <td>No relevent experience</td>\n",
              "      <td>Part time course</td>\n",
              "      <td>Masters</td>\n",
              "      <td>Other</td>\n",
              "      <td>2</td>\n",
              "      <td>&lt;10</td>\n",
              "      <td>NGO</td>\n",
              "      <td>1</td>\n",
              "      <td>23</td>\n",
              "      <td>1.0</td>\n",
              "    </tr>\n",
              "    <tr>\n",
              "      <th>10401</th>\n",
              "      <td>city_33</td>\n",
              "      <td>0.448</td>\n",
              "      <td>Male</td>\n",
              "      <td>No relevent experience</td>\n",
              "      <td>no_enrollment</td>\n",
              "      <td>Graduate</td>\n",
              "      <td>STEM</td>\n",
              "      <td>5</td>\n",
              "      <td>10000+</td>\n",
              "      <td>Pvt Ltd</td>\n",
              "      <td>2</td>\n",
              "      <td>36</td>\n",
              "      <td>0.0</td>\n",
              "    </tr>\n",
              "    <tr>\n",
              "      <th>13549</th>\n",
              "      <td>city_33</td>\n",
              "      <td>0.448</td>\n",
              "      <td>NaN</td>\n",
              "      <td>Has relevent experience</td>\n",
              "      <td>no_enrollment</td>\n",
              "      <td>Graduate</td>\n",
              "      <td>STEM</td>\n",
              "      <td>8</td>\n",
              "      <td>10/49</td>\n",
              "      <td>Pvt Ltd</td>\n",
              "      <td>2</td>\n",
              "      <td>14</td>\n",
              "      <td>0.0</td>\n",
              "    </tr>\n",
              "    <tr>\n",
              "      <th>14913</th>\n",
              "      <td>city_33</td>\n",
              "      <td>0.448</td>\n",
              "      <td>Male</td>\n",
              "      <td>No relevent experience</td>\n",
              "      <td>Full time course</td>\n",
              "      <td>High School</td>\n",
              "      <td>NaN</td>\n",
              "      <td>4</td>\n",
              "      <td>NaN</td>\n",
              "      <td>NaN</td>\n",
              "      <td>never</td>\n",
              "      <td>31</td>\n",
              "      <td>0.0</td>\n",
              "    </tr>\n",
              "    <tr>\n",
              "      <th>15114</th>\n",
              "      <td>city_33</td>\n",
              "      <td>0.448</td>\n",
              "      <td>NaN</td>\n",
              "      <td>No relevent experience</td>\n",
              "      <td>Full time course</td>\n",
              "      <td>Masters</td>\n",
              "      <td>STEM</td>\n",
              "      <td>4</td>\n",
              "      <td>NaN</td>\n",
              "      <td>Pvt Ltd</td>\n",
              "      <td>never</td>\n",
              "      <td>66</td>\n",
              "      <td>1.0</td>\n",
              "    </tr>\n",
              "    <tr>\n",
              "      <th>16555</th>\n",
              "      <td>city_33</td>\n",
              "      <td>0.448</td>\n",
              "      <td>Male</td>\n",
              "      <td>Has relevent experience</td>\n",
              "      <td>no_enrollment</td>\n",
              "      <td>Graduate</td>\n",
              "      <td>STEM</td>\n",
              "      <td>4</td>\n",
              "      <td>100-500</td>\n",
              "      <td>Pvt Ltd</td>\n",
              "      <td>1</td>\n",
              "      <td>16</td>\n",
              "      <td>0.0</td>\n",
              "    </tr>\n",
              "    <tr>\n",
              "      <th>16784</th>\n",
              "      <td>city_33</td>\n",
              "      <td>0.448</td>\n",
              "      <td>NaN</td>\n",
              "      <td>No relevent experience</td>\n",
              "      <td>Full time course</td>\n",
              "      <td>Graduate</td>\n",
              "      <td>Other</td>\n",
              "      <td>2</td>\n",
              "      <td>500-999</td>\n",
              "      <td>Public Sector</td>\n",
              "      <td>2</td>\n",
              "      <td>154</td>\n",
              "      <td>1.0</td>\n",
              "    </tr>\n",
              "    <tr>\n",
              "      <th>17701</th>\n",
              "      <td>city_33</td>\n",
              "      <td>0.448</td>\n",
              "      <td>Male</td>\n",
              "      <td>No relevent experience</td>\n",
              "      <td>no_enrollment</td>\n",
              "      <td>Graduate</td>\n",
              "      <td>STEM</td>\n",
              "      <td>4</td>\n",
              "      <td>10/49</td>\n",
              "      <td>Public Sector</td>\n",
              "      <td>1</td>\n",
              "      <td>44</td>\n",
              "      <td>1.0</td>\n",
              "    </tr>\n",
              "    <tr>\n",
              "      <th>18065</th>\n",
              "      <td>city_33</td>\n",
              "      <td>0.448</td>\n",
              "      <td>NaN</td>\n",
              "      <td>No relevent experience</td>\n",
              "      <td>Full time course</td>\n",
              "      <td>Graduate</td>\n",
              "      <td>STEM</td>\n",
              "      <td>&lt;1</td>\n",
              "      <td>1000-4999</td>\n",
              "      <td>Public Sector</td>\n",
              "      <td>NaN</td>\n",
              "      <td>15</td>\n",
              "      <td>1.0</td>\n",
              "    </tr>\n",
              "  </tbody>\n",
              "</table>\n",
              "</div>"
            ],
            "text/plain": [
              "          city  city_development_index  ... training_hours target\n",
              "1523   city_33                   0.448  ...             48    1.0\n",
              "4744   city_33                   0.448  ...             43    1.0\n",
              "5010   city_33                   0.448  ...             73    1.0\n",
              "5265   city_33                   0.448  ...             86    1.0\n",
              "5567   city_33                   0.448  ...             18    1.0\n",
              "6127   city_33                   0.448  ...             32    1.0\n",
              "7724   city_33                   0.448  ...             28    0.0\n",
              "7864   city_33                   0.448  ...             74    0.0\n",
              "9134   city_33                   0.448  ...             23    1.0\n",
              "10401  city_33                   0.448  ...             36    0.0\n",
              "13549  city_33                   0.448  ...             14    0.0\n",
              "14913  city_33                   0.448  ...             31    0.0\n",
              "15114  city_33                   0.448  ...             66    1.0\n",
              "16555  city_33                   0.448  ...             16    0.0\n",
              "16784  city_33                   0.448  ...            154    1.0\n",
              "17701  city_33                   0.448  ...             44    1.0\n",
              "18065  city_33                   0.448  ...             15    1.0\n",
              "\n",
              "[17 rows x 13 columns]"
            ]
          },
          "metadata": {
            "tags": []
          },
          "execution_count": 193
        }
      ]
    },
    {
      "cell_type": "markdown",
      "metadata": {
        "id": "eDy1OZHWyZrr"
      },
      "source": [
        "* All such records with a city development index less than 0.45 are from city_33."
      ]
    },
    {
      "cell_type": "markdown",
      "metadata": {
        "id": "Qfx_mAo-yZrs"
      },
      "source": [
        "### Observations on training_hours"
      ]
    },
    {
      "cell_type": "code",
      "metadata": {
        "colab": {
          "base_uri": "https://localhost:8080/",
          "height": 587
        },
        "id": "YtHf1WN_yZrs",
        "outputId": "6e1797fe-e11b-4a25-b77d-f48abd74f4eb"
      },
      "source": [
        "histogram_boxplot(data['training_hours'])"
      ],
      "execution_count": null,
      "outputs": [
        {
          "output_type": "display_data",
          "data": {
            "image/png": "[encoded data removed]",
            "text/plain": [
              "<Figure size 1080x720 with 2 Axes>"
            ]
          },
          "metadata": {
            "tags": []
          }
        }
      ]
    },
    {
      "cell_type": "markdown",
      "metadata": {
        "id": "l_7xYG6OyZrs"
      },
      "source": [
        "* Distribution of training_hours is right-skewed with many outliers.\n",
        "* From the boxplot, we can see that enrollees with more than ~175hrs of training are outlliers."
      ]
    },
    {
      "cell_type": "code",
      "metadata": {
        "id": "51DcvgynyZrt"
      },
      "source": [
        "# Function to create barplots that indicate percentage for each category.\n",
        "\n",
        "def perc_on_bar(z):\n",
        "    '''\n",
        "    plot\n",
        "    feature: categorical feature\n",
        "    the function won't work if a column is passed in hue parameter\n",
        "    '''\n",
        "\n",
        "    total = len(data[z]) # length of the column\n",
        "    plt.figure(figsize=(15,5))\n",
        "    ax = sns.countplot(data[z],palette='Paired')\n",
        "    for p in ax.patches:\n",
        "        percentage = '{:.1f}%'.format(100 * p.get_height()/total) # percentage of each class of the category\n",
        "        x = p.get_x() + p.get_width() / 2 - 0.05 # width of the plot\n",
        "        y = p.get_y() + p.get_height()           # hieght of the plot\n",
        "        \n",
        "        ax.annotate(percentage, (x, y), size = 12) # annotate the percantage \n",
        "    plt.show() # show the plot"
      ],
      "execution_count": null,
      "outputs": []
    },
    {
      "cell_type": "markdown",
      "metadata": {
        "id": "4nOccR9syZrt"
      },
      "source": [
        "### Observations on gender"
      ]
    },
    {
      "cell_type": "code",
      "metadata": {
        "colab": {
          "base_uri": "https://localhost:8080/",
          "height": 319
        },
        "id": "LlEMQTPcyZrt",
        "outputId": "91f4cf2a-6c9b-490f-a770-d2bf53e58ae1"
      },
      "source": [
        "perc_on_bar('gender')"
      ],
      "execution_count": null,
      "outputs": [
        {
          "output_type": "display_data",
          "data": {
            "image/png": "[encoded data removed]",
            "text/plain": [
              "<Figure size 1080x360 with 1 Axes>"
            ]
          },
          "metadata": {
            "tags": []
          }
        }
      ]
    },
    {
      "cell_type": "markdown",
      "metadata": {
        "id": "39vCHo-AyZrt"
      },
      "source": [
        "* 69% of the enrollees are male."
      ]
    },
    {
      "cell_type": "markdown",
      "metadata": {
        "id": "sKevCnhkyZrt"
      },
      "source": [
        "### Observations on relevant_experience"
      ]
    },
    {
      "cell_type": "code",
      "metadata": {
        "colab": {
          "base_uri": "https://localhost:8080/",
          "height": 319
        },
        "id": "GO4VHIfayZrt",
        "outputId": "f0bcb2a6-a063-410c-d938-bdd49260ca2f"
      },
      "source": [
        "perc_on_bar('relevent_experience')"
      ],
      "execution_count": null,
      "outputs": [
        {
          "output_type": "display_data",
          "data": {
            "image/png": "[encoded data removed]",
            "text/plain": [
              "<Figure size 1080x360 with 1 Axes>"
            ]
          },
          "metadata": {
            "tags": []
          }
        }
      ]
    },
    {
      "cell_type": "markdown",
      "metadata": {
        "id": "hOe9flmiyZru"
      },
      "source": [
        "* 72% of the enrollees have some relevant experience."
      ]
    },
    {
      "cell_type": "markdown",
      "metadata": {
        "id": "AoWa0XYcyZru"
      },
      "source": [
        "### Observations on enrolled_university"
      ]
    },
    {
      "cell_type": "code",
      "metadata": {
        "colab": {
          "base_uri": "https://localhost:8080/",
          "height": 321
        },
        "id": "ClAEwhuoyZru",
        "outputId": "008c55de-ca6c-4eae-f60c-1f225b203e88"
      },
      "source": [
        "perc_on_bar('enrolled_university')"
      ],
      "execution_count": null,
      "outputs": [
        {
          "output_type": "display_data",
          "data": {
            "image/png": "[encoded data removed]",
            "text/plain": [
              "<Figure size 1080x360 with 1 Axes>"
            ]
          },
          "metadata": {
            "tags": []
          }
        }
      ]
    },
    {
      "cell_type": "markdown",
      "metadata": {
        "id": "bD804Y5fyZru"
      },
      "source": [
        "* 72.1% of the enrollees had no enrollment in universities followed by 19.6% of the enrollees with full-time course."
      ]
    },
    {
      "cell_type": "markdown",
      "metadata": {
        "id": "mLL32idfyZru"
      },
      "source": [
        "### Observations on education_level"
      ]
    },
    {
      "cell_type": "code",
      "metadata": {
        "colab": {
          "base_uri": "https://localhost:8080/",
          "height": 319
        },
        "id": "djj8SNDFyZru",
        "outputId": "7e70d003-f3f5-405f-a99a-fa2d791914da"
      },
      "source": [
        "perc_on_bar('education_level')"
      ],
      "execution_count": null,
      "outputs": [
        {
          "output_type": "display_data",
          "data": {
            "image/png": "[encoded data removed]",
            "text/plain": [
              "<Figure size 1080x360 with 1 Axes>"
            ]
          },
          "metadata": {
            "tags": []
          }
        }
      ]
    },
    {
      "cell_type": "markdown",
      "metadata": {
        "id": "nNsOh29FyZrv"
      },
      "source": [
        "* 60.5% of the enrollees are graduates, followed by 22.8% of the enrollees having Masters degree."
      ]
    },
    {
      "cell_type": "markdown",
      "metadata": {
        "id": "2Zk3SmjoyZrv"
      },
      "source": [
        "### Observations on major_discipline"
      ]
    },
    {
      "cell_type": "code",
      "metadata": {
        "colab": {
          "base_uri": "https://localhost:8080/",
          "height": 319
        },
        "id": "OlMGTsMQyZrv",
        "outputId": "8f2c5403-4e3f-4b6b-c7e0-10c8c6160a66"
      },
      "source": [
        "perc_on_bar('major_discipline')"
      ],
      "execution_count": null,
      "outputs": [
        {
          "output_type": "display_data",
          "data": {
            "image/png": "[encoded data removed]",
            "text/plain": [
              "<Figure size 1080x360 with 1 Axes>"
            ]
          },
          "metadata": {
            "tags": []
          }
        }
      ]
    },
    {
      "cell_type": "markdown",
      "metadata": {
        "id": "DuFgpFCLyZrv"
      },
      "source": [
        "* 75.5% of the enrollees have STEM as their major discipline. STEM includes programs in science, technology, engineering, and mathematics."
      ]
    },
    {
      "cell_type": "markdown",
      "metadata": {
        "id": "NOZIb-z4yZrv"
      },
      "source": [
        "### Observations on company_size"
      ]
    },
    {
      "cell_type": "code",
      "metadata": {
        "colab": {
          "base_uri": "https://localhost:8080/",
          "height": 322
        },
        "id": "XbPJgAVoyZrv",
        "outputId": "5aeda508-3982-4305-829d-9ee961a161eb"
      },
      "source": [
        "perc_on_bar('company_size')"
      ],
      "execution_count": null,
      "outputs": [
        {
          "output_type": "display_data",
          "data": {
            "image/png": "[encoded data removed]",
            "text/plain": [
              "<Figure size 1080x360 with 1 Axes>"
            ]
          },
          "metadata": {
            "tags": []
          }
        }
      ]
    },
    {
      "cell_type": "markdown",
      "metadata": {
        "id": "LRpBS9jtyZrw"
      },
      "source": [
        "* 16.1% of the enrollees have worked in a company with 50-99 employees, followed by 13.4% of the enrollees who have worked in a company with 100-500."
      ]
    },
    {
      "cell_type": "markdown",
      "metadata": {
        "id": "kO4o2JnByZrw"
      },
      "source": [
        "### Observations on company_type"
      ]
    },
    {
      "cell_type": "code",
      "metadata": {
        "colab": {
          "base_uri": "https://localhost:8080/",
          "height": 319
        },
        "id": "fnSDB5SNyZrw",
        "outputId": "93767aea-0580-4b35-8ebf-7f1931cde7b1"
      },
      "source": [
        "perc_on_bar('company_type')"
      ],
      "execution_count": null,
      "outputs": [
        {
          "output_type": "display_data",
          "data": {
            "image/png": "[encoded data removed]",
            "text/plain": [
              "<Figure size 1080x360 with 1 Axes>"
            ]
          },
          "metadata": {
            "tags": []
          }
        }
      ]
    },
    {
      "cell_type": "markdown",
      "metadata": {
        "id": "4FZlsThYyZrw"
      },
      "source": [
        "* 51.2% of the enrollees have worked in private companies, followed by 8.3% enrollees in startups."
      ]
    },
    {
      "cell_type": "markdown",
      "metadata": {
        "id": "DajtyTEMyZrw"
      },
      "source": [
        "### Observations on last_new_job"
      ]
    },
    {
      "cell_type": "code",
      "metadata": {
        "colab": {
          "base_uri": "https://localhost:8080/",
          "height": 322
        },
        "id": "Qp2V5sZhyZrw",
        "outputId": "787514ce-f66f-4be7-cd1b-df6d6920045d"
      },
      "source": [
        "perc_on_bar('last_new_job')"
      ],
      "execution_count": null,
      "outputs": [
        {
          "output_type": "display_data",
          "data": {
            "image/png": "[encoded data removed]",
            "text/plain": [
              "<Figure size 1080x360 with 1 Axes>"
            ]
          },
          "metadata": {
            "tags": []
          }
        }
      ]
    },
    {
      "cell_type": "markdown",
      "metadata": {
        "id": "L1M-iTpWyZrw"
      },
      "source": [
        "* 42% of the enrollees have a difference of 1 year between their current and previous job followed by 17.2% of the enrollees with more than 4 years of difference.\n",
        "* Never here can mean that enrollee has never worked before(freshers) or is not working right now."
      ]
    },
    {
      "cell_type": "markdown",
      "metadata": {
        "id": "beo_tDmVhU3-"
      },
      "source": [
        "## Bivariate Analysis"
      ]
    },
    {
      "cell_type": "code",
      "metadata": {
        "colab": {
          "base_uri": "https://localhost:8080/",
          "height": 436
        },
        "id": "7QKXDx66yZrx",
        "outputId": "e4b4a482-cbb1-4fc7-8992-c8ff7c0aae21"
      },
      "source": [
        "\n",
        "plt.figure(figsize=(10,7))\n",
        "sns.heatmap(data.corr(),annot=True,vmin=-1,vmax=1,fmt='.2g')\n",
        "plt.show()"
      ],
      "execution_count": null,
      "outputs": [
        {
          "output_type": "display_data",
          "data": {
            "image/png": "[encoded data removed]",
            "text/plain": [
              "<Figure size 720x504 with 2 Axes>"
            ]
          },
          "metadata": {
            "tags": []
          }
        }
      ]
    },
    {
      "cell_type": "markdown",
      "metadata": {
        "id": "1RekQ3RUyZrx"
      },
      "source": [
        "* There is no strong correlation either with the target or between any independent variable.\n",
        "* City development index has a negative relation with the target."
      ]
    },
    {
      "cell_type": "markdown",
      "metadata": {
        "id": "-JrU-mVHyZrx"
      },
      "source": [
        "* Encoding 1 and 0 to 'yes' and 'no' respectively, for analysis."
      ]
    },
    {
      "cell_type": "code",
      "metadata": {
        "id": "lD4xMdy0yZrx"
      },
      "source": [
        "data['target'].replace(1.0,'yes',inplace=True)\n",
        "data['target'].replace(0.0,'no',inplace=True)"
      ],
      "execution_count": null,
      "outputs": []
    },
    {
      "cell_type": "code",
      "metadata": {
        "colab": {
          "base_uri": "https://localhost:8080/",
          "height": 257
        },
        "id": "n2l7yrlr3i4d",
        "outputId": "9aa3f2fa-f370-44ed-8315-3223ce769201"
      },
      "source": [
        "data.head()"
      ],
      "execution_count": null,
      "outputs": [
        {
          "output_type": "execute_result",
          "data": {
            "text/html": [
              "<div>\n",
              "<style scoped>\n",
              "    .dataframe tbody tr th:only-of-type {\n",
              "        vertical-align: middle;\n",
              "    }\n",
              "\n",
              "    .dataframe tbody tr th {\n",
              "        vertical-align: top;\n",
              "    }\n",
              "\n",
              "    .dataframe thead th {\n",
              "        text-align: right;\n",
              "    }\n",
              "</style>\n",
              "<table border=\"1\" class=\"dataframe\">\n",
              "  <thead>\n",
              "    <tr style=\"text-align: right;\">\n",
              "      <th></th>\n",
              "      <th>city</th>\n",
              "      <th>city_development_index</th>\n",
              "      <th>gender</th>\n",
              "      <th>relevent_experience</th>\n",
              "      <th>enrolled_university</th>\n",
              "      <th>education_level</th>\n",
              "      <th>major_discipline</th>\n",
              "      <th>experience</th>\n",
              "      <th>company_size</th>\n",
              "      <th>company_type</th>\n",
              "      <th>last_new_job</th>\n",
              "      <th>training_hours</th>\n",
              "      <th>target</th>\n",
              "    </tr>\n",
              "  </thead>\n",
              "  <tbody>\n",
              "    <tr>\n",
              "      <th>0</th>\n",
              "      <td>city_103</td>\n",
              "      <td>0.920</td>\n",
              "      <td>Male</td>\n",
              "      <td>Has relevent experience</td>\n",
              "      <td>no_enrollment</td>\n",
              "      <td>Graduate</td>\n",
              "      <td>STEM</td>\n",
              "      <td>&gt;20</td>\n",
              "      <td>NaN</td>\n",
              "      <td>NaN</td>\n",
              "      <td>1</td>\n",
              "      <td>36</td>\n",
              "      <td>yes</td>\n",
              "    </tr>\n",
              "    <tr>\n",
              "      <th>1</th>\n",
              "      <td>city_40</td>\n",
              "      <td>0.776</td>\n",
              "      <td>Male</td>\n",
              "      <td>No relevent experience</td>\n",
              "      <td>no_enrollment</td>\n",
              "      <td>Graduate</td>\n",
              "      <td>STEM</td>\n",
              "      <td>15</td>\n",
              "      <td>50-99</td>\n",
              "      <td>Pvt Ltd</td>\n",
              "      <td>&gt;4</td>\n",
              "      <td>47</td>\n",
              "      <td>no</td>\n",
              "    </tr>\n",
              "    <tr>\n",
              "      <th>2</th>\n",
              "      <td>city_21</td>\n",
              "      <td>0.624</td>\n",
              "      <td>NaN</td>\n",
              "      <td>No relevent experience</td>\n",
              "      <td>Full time course</td>\n",
              "      <td>Graduate</td>\n",
              "      <td>STEM</td>\n",
              "      <td>5</td>\n",
              "      <td>NaN</td>\n",
              "      <td>NaN</td>\n",
              "      <td>never</td>\n",
              "      <td>83</td>\n",
              "      <td>no</td>\n",
              "    </tr>\n",
              "    <tr>\n",
              "      <th>3</th>\n",
              "      <td>city_115</td>\n",
              "      <td>0.789</td>\n",
              "      <td>NaN</td>\n",
              "      <td>No relevent experience</td>\n",
              "      <td>NaN</td>\n",
              "      <td>Graduate</td>\n",
              "      <td>Business Degree</td>\n",
              "      <td>&lt;1</td>\n",
              "      <td>NaN</td>\n",
              "      <td>Pvt Ltd</td>\n",
              "      <td>never</td>\n",
              "      <td>52</td>\n",
              "      <td>yes</td>\n",
              "    </tr>\n",
              "    <tr>\n",
              "      <th>4</th>\n",
              "      <td>city_162</td>\n",
              "      <td>0.767</td>\n",
              "      <td>Male</td>\n",
              "      <td>Has relevent experience</td>\n",
              "      <td>no_enrollment</td>\n",
              "      <td>Masters</td>\n",
              "      <td>STEM</td>\n",
              "      <td>&gt;20</td>\n",
              "      <td>50-99</td>\n",
              "      <td>Funded Startup</td>\n",
              "      <td>4</td>\n",
              "      <td>8</td>\n",
              "      <td>no</td>\n",
              "    </tr>\n",
              "  </tbody>\n",
              "</table>\n",
              "</div>"
            ],
            "text/plain": [
              "       city  city_development_index gender  ... last_new_job training_hours target\n",
              "0  city_103                   0.920   Male  ...            1             36    yes\n",
              "1   city_40                   0.776   Male  ...           >4             47     no\n",
              "2   city_21                   0.624    NaN  ...        never             83     no\n",
              "3  city_115                   0.789    NaN  ...        never             52    yes\n",
              "4  city_162                   0.767   Male  ...            4              8     no\n",
              "\n",
              "[5 rows x 13 columns]"
            ]
          },
          "metadata": {
            "tags": []
          },
          "execution_count": 207
        }
      ]
    },
    {
      "cell_type": "code",
      "metadata": {
        "id": "Qbzk-vssyZrx"
      },
      "source": [
        "### Function to plot stacked bar charts for categorical columns\n",
        "def stacked_plot(x):\n",
        "    sns.set()\n",
        "    ## crosstab \n",
        "    tab1 = pd.crosstab(x,data['target'],margins=True).sort_values(by='yes',ascending=False)\n",
        "    print(tab1)\n",
        "    print('-'*120)\n",
        "    ## visualising the cross tab\n",
        "    tab = pd.crosstab(x,data['target'],normalize='index').sort_values(by='yes',ascending=False)\n",
        "    tab.plot(kind='bar',stacked=True,figsize=(17,7))\n",
        "    plt.legend(loc='lower left', frameon=False)\n",
        "    plt.legend(loc=\"upper left\", bbox_to_anchor=(1,1))\n",
        "    plt.show()"
      ],
      "execution_count": null,
      "outputs": []
    },
    {
      "cell_type": "markdown",
      "metadata": {
        "id": "y1d19VdQyZrz"
      },
      "source": [
        "### target vs city"
      ]
    },
    {
      "cell_type": "code",
      "metadata": {
        "scrolled": false,
        "colab": {
          "base_uri": "https://localhost:8080/",
          "height": 1000
        },
        "id": "vNzcEqlCyZrz",
        "outputId": "66239727-c341-4bd4-eb6a-5f5bea4b8b03"
      },
      "source": [
        "stacked_plot(data['city'])"
      ],
      "execution_count": null,
      "outputs": [
        {
          "output_type": "stream",
          "text": [
            "target       no   yes    All\n",
            "city                        \n",
            "All       14381  4777  19158\n",
            "city_21    1105  1597   2702\n",
            "city_103   3427   928   4355\n",
            "city_160    646   199    845\n",
            "city_16    1354   179   1533\n",
            "city_11     100   147    247\n",
            "city_114   1203   133   1336\n",
            "city_73     206    74    280\n",
            "city_100    210    65    275\n",
            "city_90     135    62    197\n",
            "city_136    525    61    586\n",
            "city_67     374    57    431\n",
            "city_74      50    54    104\n",
            "city_102    252    52    304\n",
            "city_128     40    52     92\n",
            "city_19      74    45    119\n",
            "city_101     32    43     75\n",
            "city_71     227    39    266\n",
            "city_145     26    37     63\n",
            "city_162     91    37    128\n",
            "city_46      93    35    128\n",
            "city_75     274    31    305\n",
            "city_104    273    28    301\n",
            "city_149     78    24    102\n",
            "city_65     151    24    175\n",
            "city_83     120    23    143\n",
            "city_116    106    22    128\n",
            "city_115     33    21     54\n",
            "city_123     58    21     79\n",
            "city_61     178    19    197\n",
            "city_173    132    19    151\n",
            "city_70      25    19     44\n",
            "city_165     64    18     82\n",
            "city_41      71    18     89\n",
            "city_45      97    16    113\n",
            "city_150     49    16     65\n",
            "city_91      29    16     45\n",
            "city_78      15    16     31\n",
            "city_64      98    16    114\n",
            "city_89      51    16     67\n",
            "city_23     166    16    182\n",
            "city_143     25    16     41\n",
            "city_142     37    16     53\n",
            "city_28     177    15    192\n",
            "city_50     125    15    140\n",
            "city_158     34    15     49\n",
            "city_126     13    15     28\n",
            "city_99      79    15     94\n",
            "city_24      48    14     62\n",
            "city_159     80    14     94\n",
            "city_76      36    14     50\n",
            "city_36     147    13    160\n",
            "city_57      90    13    103\n",
            "city_134     31    12     43\n",
            "city_33       6    11     17\n",
            "city_152     40    11     51\n",
            "city_155      3    11     14\n",
            "city_40      58    10     68\n",
            "city_94      16    10     26\n",
            "city_138    110    10    120\n",
            "city_27      38     9     47\n",
            "city_105     70     9     79\n",
            "city_42       4     9     13\n",
            "city_10      77     9     86\n",
            "city_118     18     9     27\n",
            "city_98      71     8     79\n",
            "city_97      96     8    104\n",
            "city_53      18     8     26\n",
            "city_144     21     8     29\n",
            "city_176     17     7     24\n",
            "city_48       6     7     13\n",
            "city_14      21     7     28\n",
            "city_43       5     7     12\n",
            "city_84      17     7     24\n",
            "city_13      42     6     48\n",
            "city_44      12     6     18\n",
            "city_26      19     5     24\n",
            "city_7       22     5     27\n",
            "city_9       13     5     18\n",
            "city_93      21     5     26\n",
            "city_117      9     4     13\n",
            "city_139      1     4      5\n",
            "city_107      2     4      6\n",
            "city_55      10     4     14\n",
            "city_141     23     4     27\n",
            "city_59       7     3     10\n",
            "city_79       5     3      8\n",
            "city_1       23     3     26\n",
            "city_54      11     3     14\n",
            "city_179      2     3      5\n",
            "city_106      6     3      9\n",
            "city_109      6     3      9\n",
            "city_131      6     3      9\n",
            "city_146      5     3      8\n",
            "city_167      7     3     10\n",
            "city_175     11     3     14\n",
            "city_157     19     3     22\n",
            "city_20      26     3     29\n",
            "city_30      18     3     21\n",
            "city_180      5     2      7\n",
            "city_133      8     2     10\n",
            "city_69      15     2     17\n",
            "city_72      18     2     20\n",
            "city_37      12     2     14\n",
            "city_25       2     2      4\n",
            "city_12      11     2     13\n",
            "city_80      13     2     15\n",
            "city_127      8     2     10\n",
            "city_31       3     1      4\n",
            "city_120      5     1      6\n",
            "city_121      2     1      3\n",
            "city_81       6     1      7\n",
            "city_18       3     1      4\n",
            "city_77      31     1     32\n",
            "city_166      3     1      4\n",
            "city_171      0     1      1\n",
            "city_140      1     0      1\n",
            "city_82       4     0      4\n",
            "city_62       5     0      5\n",
            "city_129      3     0      3\n",
            "city_8        4     0      4\n",
            "city_39      11     0     11\n",
            "city_111      3     0      3\n",
            "city_2        7     0      7\n",
            "------------------------------------------------------------------------------------------------------------------------\n"
          ],
          "name": "stdout"
        },
        {
          "output_type": "display_data",
          "data": {
            "image/png": "[encoded data removed]",
            "text/plain": [
              "<Figure size 1224x504 with 1 Axes>"
            ]
          },
          "metadata": {
            "tags": []
          }
        }
      ]
    },
    {
      "cell_type": "markdown",
      "metadata": {
        "id": "RPLTzTnRyZrz"
      },
      "source": [
        "* Cities 171,139, 155, and 42 show the highest percentage of enrollees looking for a job. \n",
        "* Cities with the highest percentage of enrollees looking for a job might be from tier 2 or tier 3 cities looking for better opportunities.\n",
        "* This column captures a clear difference between enrollees looking for a job and those who are not, it can act as an important predictor."
      ]
    },
    {
      "cell_type": "markdown",
      "metadata": {
        "id": "i0FTcz16yZr0"
      },
      "source": [
        "### target vs gender"
      ]
    },
    {
      "cell_type": "code",
      "metadata": {
        "scrolled": false,
        "colab": {
          "base_uri": "https://localhost:8080/",
          "height": 533
        },
        "id": "m28EvO2ayZr0",
        "outputId": "48c2ed3e-9271-4f66-df50-2ee124d514ed"
      },
      "source": [
        "stacked_plot(data['gender'])"
      ],
      "execution_count": null,
      "outputs": [
        {
          "output_type": "stream",
          "text": [
            "target     no   yes    All\n",
            "gender                    \n",
            "All     11262  3388  14650\n",
            "Male    10209  3012  13221\n",
            "Female    912   326   1238\n",
            "Other     141    50    191\n",
            "------------------------------------------------------------------------------------------------------------------------\n"
          ],
          "name": "stdout"
        },
        {
          "output_type": "display_data",
          "data": {
            "image/png": "[encoded data removed]",
            "text/plain": [
              "<Figure size 1224x504 with 1 Axes>"
            ]
          },
          "metadata": {
            "tags": []
          }
        }
      ]
    },
    {
      "cell_type": "markdown",
      "metadata": {
        "id": "Oaj96V0ByZr0"
      },
      "source": [
        "* Females followed by other gender enrollees are the ones actively looking for a job change.\n",
        "* Let's add the unknown as a category (inplace of missing values) and see if there's a change in observations."
      ]
    },
    {
      "cell_type": "code",
      "metadata": {
        "id": "fkujEH7_yZr0"
      },
      "source": [
        "data['gender'] = data['gender'].replace(np.nan,'unknown')"
      ],
      "execution_count": null,
      "outputs": []
    },
    {
      "cell_type": "code",
      "metadata": {
        "colab": {
          "base_uri": "https://localhost:8080/",
          "height": 559
        },
        "id": "7PQrRHmByZr1",
        "outputId": "4b00f8d9-96c0-4a92-b28c-d2c7c1f96791"
      },
      "source": [
        "stacked_plot(data['gender'])"
      ],
      "execution_count": null,
      "outputs": [
        {
          "output_type": "stream",
          "text": [
            "target      no   yes    All\n",
            "gender                     \n",
            "All      14381  4777  19158\n",
            "Male     10209  3012  13221\n",
            "unknown   3119  1389   4508\n",
            "Female     912   326   1238\n",
            "Other      141    50    191\n",
            "------------------------------------------------------------------------------------------------------------------------\n"
          ],
          "name": "stdout"
        },
        {
          "output_type": "display_data",
          "data": {
            "image/png": "[encoded data removed]",
            "text/plain": [
              "<Figure size 1224x504 with 1 Axes>"
            ]
          },
          "metadata": {
            "tags": []
          }
        }
      ]
    },
    {
      "cell_type": "markdown",
      "metadata": {
        "id": "IG7dU0NyyZr1"
      },
      "source": [
        "* 'Unknown' gender has the most percentage of enrollees looking for a job change."
      ]
    },
    {
      "cell_type": "markdown",
      "metadata": {
        "id": "vRCc6Sa_yZr1"
      },
      "source": [
        "### target vs relevant_experience"
      ]
    },
    {
      "cell_type": "code",
      "metadata": {
        "scrolled": false,
        "colab": {
          "base_uri": "https://localhost:8080/",
          "height": 593
        },
        "id": "czfdkhVMyZr2",
        "outputId": "030a1a66-3574-404d-847c-ddebae6a525a"
      },
      "source": [
        "stacked_plot(data['relevent_experience'])"
      ],
      "execution_count": null,
      "outputs": [
        {
          "output_type": "stream",
          "text": [
            "target                      no   yes    All\n",
            "relevent_experience                        \n",
            "All                      14381  4777  19158\n",
            "Has relevent experience  10831  2961  13792\n",
            "No relevent experience    3550  1816   5366\n",
            "------------------------------------------------------------------------------------------------------------------------\n"
          ],
          "name": "stdout"
        },
        {
          "output_type": "display_data",
          "data": {
            "image/png": "[encoded data removed]",
            "text/plain": [
              "<Figure size 1224x504 with 1 Axes>"
            ]
          },
          "metadata": {
            "tags": []
          }
        }
      ]
    },
    {
      "cell_type": "markdown",
      "metadata": {
        "id": "yspzASutyZr2"
      },
      "source": [
        "* 35% of the enrollees who do not have relevant experience are the ones looking for a job change.\n",
        "* Such enrollees might be freshers looking for opportunities.\n",
        "* 20% of the enrollees who have relevant experience are also looking for a job change such enrollees after upskilling might be looking for new roles with the newly acquired skills."
      ]
    },
    {
      "cell_type": "markdown",
      "metadata": {
        "id": "xkGLxIDZyZr2"
      },
      "source": [
        "### target vs enrolled_university"
      ]
    },
    {
      "cell_type": "code",
      "metadata": {
        "scrolled": false,
        "colab": {
          "base_uri": "https://localhost:8080/",
          "height": 575
        },
        "id": "-uVsIQfQyZr2",
        "outputId": "2879616f-2b4e-44a5-9bd8-95fca6645cc3"
      },
      "source": [
        "stacked_plot(data['enrolled_university'])"
      ],
      "execution_count": null,
      "outputs": [
        {
          "output_type": "stream",
          "text": [
            "target                  no   yes    All\n",
            "enrolled_university                    \n",
            "All                  14118  4654  18772\n",
            "no_enrollment        10896  2921  13817\n",
            "Full time course      2326  1431   3757\n",
            "Part time course       896   302   1198\n",
            "------------------------------------------------------------------------------------------------------------------------\n"
          ],
          "name": "stdout"
        },
        {
          "output_type": "display_data",
          "data": {
            "image/png": "[encoded data removed]",
            "text/plain": [
              "<Figure size 1224x504 with 1 Axes>"
            ]
          },
          "metadata": {
            "tags": []
          }
        }
      ]
    },
    {
      "cell_type": "markdown",
      "metadata": {
        "id": "rnWylP25yZr2"
      },
      "source": [
        "* There's a high portion of enrollees looking for a job change across all three categories.\n",
        "* ~40% of the enrollees with full-time courses are looking for a job change.\n",
        "* ~30% of the enrollees with part-time courses are looking for a job change."
      ]
    },
    {
      "cell_type": "markdown",
      "metadata": {
        "id": "Jff2gnhdyZr3"
      },
      "source": [
        "### target vs enrolled_university"
      ]
    },
    {
      "cell_type": "code",
      "metadata": {
        "scrolled": false,
        "colab": {
          "base_uri": "https://localhost:8080/",
          "height": 603
        },
        "id": "oZ-CCGLRyZr3",
        "outputId": "47760305-0c68-4d1c-80e4-80a081d58a01"
      },
      "source": [
        "stacked_plot(data['education_level'])"
      ],
      "execution_count": null,
      "outputs": [
        {
          "output_type": "stream",
          "text": [
            "target              no   yes    All\n",
            "education_level                    \n",
            "All              14025  4673  18698\n",
            "Graduate          8353  3245  11598\n",
            "Masters           3426   935   4361\n",
            "High School       1623   394   2017\n",
            "Phd                356    58    414\n",
            "Primary School     267    41    308\n",
            "------------------------------------------------------------------------------------------------------------------------\n"
          ],
          "name": "stdout"
        },
        {
          "output_type": "display_data",
          "data": {
            "image/png": "[encoded data removed]",
            "text/plain": [
              "<Figure size 1224x504 with 1 Axes>"
            ]
          },
          "metadata": {
            "tags": []
          }
        }
      ]
    },
    {
      "cell_type": "markdown",
      "metadata": {
        "id": "Jflezq_eyZr3"
      },
      "source": [
        "* There's a high proportion of enrollees looking for a job change across Graduates, Masters, and High Schooler categories.\n",
        "* ~30% of the graduate enrollees are looking for a job change.\n",
        "* 20% of the enrollees with a master's degree are looking for a job change."
      ]
    },
    {
      "cell_type": "markdown",
      "metadata": {
        "id": "Fg3iN_dEyZr3"
      },
      "source": [
        "### target vs major_discipline"
      ]
    },
    {
      "cell_type": "code",
      "metadata": {
        "scrolled": false,
        "colab": {
          "base_uri": "https://localhost:8080/",
          "height": 628
        },
        "id": "bubYef-0yZr3",
        "outputId": "0feb4a1e-46ae-49d0-bb4a-ff377846d9b5"
      },
      "source": [
        "stacked_plot(data['major_discipline'])"
      ],
      "execution_count": null,
      "outputs": [
        {
          "output_type": "stream",
          "text": [
            "target               no   yes    All\n",
            "major_discipline                    \n",
            "All               12117  4228  16345\n",
            "STEM              10701  3791  14492\n",
            "Humanities          528   141    669\n",
            "Other               279   102    381\n",
            "Business Degree     241    86    327\n",
            "No Major            168    55    223\n",
            "Arts                200    53    253\n",
            "------------------------------------------------------------------------------------------------------------------------\n"
          ],
          "name": "stdout"
        },
        {
          "output_type": "display_data",
          "data": {
            "image/png": "[encoded data removed]",
            "text/plain": [
              "<Figure size 1224x504 with 1 Axes>"
            ]
          },
          "metadata": {
            "tags": []
          }
        }
      ]
    },
    {
      "cell_type": "markdown",
      "metadata": {
        "id": "wXVbXY-byZr4"
      },
      "source": [
        "* There's a high proportion of enrollees looking for a job change across all categories."
      ]
    },
    {
      "cell_type": "markdown",
      "metadata": {
        "id": "BWY9B6hsyZr4"
      },
      "source": [
        "### target vs experience"
      ]
    },
    {
      "cell_type": "code",
      "metadata": {
        "scrolled": false,
        "colab": {
          "base_uri": "https://localhost:8080/",
          "height": 849
        },
        "id": "Im6ygKLRyZr4",
        "outputId": "9bbfd00f-4a08-4094-f77d-238abafbf392"
      },
      "source": [
        "stacked_plot(data['experience'])"
      ],
      "execution_count": null,
      "outputs": [
        {
          "output_type": "stream",
          "text": [
            "target         no   yes    All\n",
            "experience                    \n",
            "All         14339  4754  19093\n",
            ">20          2783   503   3286\n",
            "3             876   478   1354\n",
            "4             946   457   1403\n",
            "5            1018   412   1430\n",
            "2             753   374   1127\n",
            "6             873   343   1216\n",
            "7             725   303   1028\n",
            "<1            285   237    522\n",
            "1             316   233    549\n",
            "9             767   213    980\n",
            "10            778   207    985\n",
            "8             607   195    802\n",
            "11            513   151    664\n",
            "15            572   114    686\n",
            "14            479   107    586\n",
            "12            402    92    494\n",
            "13            322    77    399\n",
            "16            436    72    508\n",
            "17            285    57    342\n",
            "19            251    53    304\n",
            "18            237    43    280\n",
            "20            115    33    148\n",
            "------------------------------------------------------------------------------------------------------------------------\n"
          ],
          "name": "stdout"
        },
        {
          "output_type": "display_data",
          "data": {
            "image/png": "[encoded data removed]",
            "text/plain": [
              "<Figure size 1224x504 with 1 Axes>"
            ]
          },
          "metadata": {
            "tags": []
          }
        }
      ]
    },
    {
      "cell_type": "markdown",
      "metadata": {
        "id": "fJ5uWi2yyZr4"
      },
      "source": [
        "* There's a high proportion of enrollees looking for a job change having less than 10 years of experience.\n",
        "* <1 year will the freshers who after training would want to do a job in a relevant field."
      ]
    },
    {
      "cell_type": "markdown",
      "metadata": {
        "id": "dBTUkxmdyZr4"
      },
      "source": [
        "### target vs company_size"
      ]
    },
    {
      "cell_type": "code",
      "metadata": {
        "scrolled": false,
        "colab": {
          "base_uri": "https://localhost:8080/",
          "height": 636
        },
        "id": "ecJQv1AjyZr4",
        "outputId": "b43e281c-05a9-4b1a-9af8-31235dd0d5eb"
      },
      "source": [
        "stacked_plot(data['company_size'])"
      ],
      "execution_count": null,
      "outputs": [
        {
          "output_type": "stream",
          "text": [
            "target           no   yes    All\n",
            "company_size                    \n",
            "All           10853  2367  13220\n",
            "50-99          2538   545   3083\n",
            "100-500        2156   415   2571\n",
            "10000+         1634   385   2019\n",
            "10/49          1127   344   1471\n",
            "<10            1084   224   1308\n",
            "1000-4999      1128   200   1328\n",
            "500-999         725   152    877\n",
            "5000-9999       461   102    563\n",
            "------------------------------------------------------------------------------------------------------------------------\n"
          ],
          "name": "stdout"
        },
        {
          "output_type": "display_data",
          "data": {
            "image/png": "[encoded data removed]",
            "text/plain": [
              "<Figure size 1224x504 with 1 Axes>"
            ]
          },
          "metadata": {
            "tags": []
          }
        }
      ]
    },
    {
      "cell_type": "markdown",
      "metadata": {
        "id": "NZ4YVmpDyZr5"
      },
      "source": [
        "* ~20% of the enrollees who have been in companies of different sizes are looking for a job change."
      ]
    },
    {
      "cell_type": "markdown",
      "metadata": {
        "id": "l9Hx4WK9yZr5"
      },
      "source": [
        "### target vs company_type"
      ]
    },
    {
      "cell_type": "code",
      "metadata": {
        "scrolled": false,
        "colab": {
          "base_uri": "https://localhost:8080/",
          "height": 641
        },
        "id": "ROB1yFzLyZr5",
        "outputId": "bd3e7e01-3b83-4152-ff69-dd9b8037c694"
      },
      "source": [
        "stacked_plot(data['company_type'])"
      ],
      "execution_count": null,
      "outputs": [
        {
          "output_type": "stream",
          "text": [
            "target                  no   yes    All\n",
            "company_type                           \n",
            "All                  10625  2393  13018\n",
            "Pvt Ltd               8042  1775   9817\n",
            "Public Sector          745   210    955\n",
            "Early Stage Startup    461   142    603\n",
            "Funded Startup         861   140   1001\n",
            "NGO                    424    97    521\n",
            "Other                   92    29    121\n",
            "------------------------------------------------------------------------------------------------------------------------\n"
          ],
          "name": "stdout"
        },
        {
          "output_type": "display_data",
          "data": {
            "image/png": "[encoded data removed]",
            "text/plain": [
              "<Figure size 1224x504 with 1 Axes>"
            ]
          },
          "metadata": {
            "tags": []
          }
        }
      ]
    },
    {
      "cell_type": "markdown",
      "metadata": {
        "id": "eNqEackPyZr5"
      },
      "source": [
        "* Enrollees from funded startups are the ones with less interest a possible reason being their startup just got funded, and they are looking for growth there and just want to upskill by undergoing the training.\n",
        "* Across all types of companies/sectors ~20% of the enrollees are looking for a job change."
      ]
    },
    {
      "cell_type": "markdown",
      "metadata": {
        "id": "BShZ1rT-yZr5"
      },
      "source": [
        "### target vs last_new_job"
      ]
    },
    {
      "cell_type": "code",
      "metadata": {
        "scrolled": false,
        "colab": {
          "base_uri": "https://localhost:8080/",
          "height": 579
        },
        "id": "649miUe_yZr5",
        "outputId": "f8153ea2-c712-466b-a0bd-0bc2084c4fb8"
      },
      "source": [
        "stacked_plot(data['last_new_job'])"
      ],
      "execution_count": null,
      "outputs": [
        {
          "output_type": "stream",
          "text": [
            "target           no   yes    All\n",
            "last_new_job                    \n",
            "All           14112  4623  18735\n",
            "1              5915  2125   8040\n",
            "never          1713   739   2452\n",
            "2              2200   700   2900\n",
            ">4             2690   600   3290\n",
            "3               793   231   1024\n",
            "4               801   228   1029\n",
            "------------------------------------------------------------------------------------------------------------------------\n"
          ],
          "name": "stdout"
        },
        {
          "output_type": "display_data",
          "data": {
            "image/png": "[encoded data removed]",
            "text/plain": [
              "<Figure size 1224x504 with 1 Axes>"
            ]
          },
          "metadata": {
            "tags": []
          }
        }
      ]
    },
    {
      "cell_type": "markdown",
      "metadata": {
        "id": "0wlMlavVyZr6"
      },
      "source": [
        "* Our earlier thought of 'never' representing freshers or those who are not working right now seems true as they are the ones most interested in a job change(looking for a start)."
      ]
    },
    {
      "cell_type": "code",
      "metadata": {
        "id": "dJpLfdLGyZr6"
      },
      "source": [
        "### Function to plot distributions and Boxplots of enrollees\n",
        "def plot(x,target='target'):\n",
        "    fig,axs = plt.subplots(2,2,figsize=(12,10))\n",
        "    axs[0, 0].set_title('Distribution of an enrollee not looking for a job')\n",
        "    sns.distplot(data[(data[target] == 'no')][x],ax=axs[0,0],color='teal')\n",
        "    axs[0, 1].set_title('Distribution of an enrollee looking for a job')\n",
        "    sns.distplot(data[(data[target] == 'yes')][x],ax=axs[0,1],color='orange')\n",
        "    axs[1,0].set_title('Boxplot w.r.t target')\n",
        "    sns.boxplot(data[target],data[x],ax=axs[1,0],palette='gist_rainbow')\n",
        "    axs[1,1].set_title('Boxplot w.r.t target - Without outliers')\n",
        "    sns.boxplot(data[target],data[x],ax=axs[1,1],showfliers=False,palette='gist_rainbow')\n",
        "    plt.tight_layout()\n",
        "    plt.show()"
      ],
      "execution_count": null,
      "outputs": []
    },
    {
      "cell_type": "markdown",
      "metadata": {
        "id": "2Tr-ifD_yZr6"
      },
      "source": [
        "### target vs training_hours"
      ]
    },
    {
      "cell_type": "code",
      "metadata": {
        "colab": {
          "base_uri": "https://localhost:8080/",
          "height": 725
        },
        "id": "iJRmPSE5yZr6",
        "outputId": "1a671d4e-85b3-4202-ef53-e0c87a6cb02e"
      },
      "source": [
        "plot('training_hours')"
      ],
      "execution_count": null,
      "outputs": [
        {
          "output_type": "display_data",
          "data": {
            "image/png": "[encoded data removed]",
            "text/plain": [
              "<Figure size 864x720 with 4 Axes>"
            ]
          },
          "metadata": {
            "tags": []
          }
        }
      ]
    },
    {
      "cell_type": "markdown",
      "metadata": {
        "id": "zAz9X5EXyZr6"
      },
      "source": [
        "* Training hours don't seem to have any impact on the target variable."
      ]
    },
    {
      "cell_type": "markdown",
      "metadata": {
        "id": "dpXirhZAyZr6"
      },
      "source": [
        "### target vs city_development_index"
      ]
    },
    {
      "cell_type": "code",
      "metadata": {
        "colab": {
          "base_uri": "https://localhost:8080/",
          "height": 725
        },
        "id": "ym7hqS3_yZr6",
        "outputId": "e4a5992b-cae8-4f75-9206-4a54f38cb4e1"
      },
      "source": [
        "plot('city_development_index')"
      ],
      "execution_count": null,
      "outputs": [
        {
          "output_type": "display_data",
          "data": {
            "image/png": "[encoded data removed]",
            "text/plain": [
              "<Figure size 864x720 with 4 Axes>"
            ]
          },
          "metadata": {
            "tags": []
          }
        }
      ]
    },
    {
      "cell_type": "markdown",
      "metadata": {
        "id": "_-dzLqZEyZr7"
      },
      "source": [
        "* There's a stark difference between the enrollees looking for a job and an enrollee not looking for a job.\n",
        "* Enrollee from a city with a higher development index would be less likely to look for a change in a job as compared to the enrollee coming from a city with a lower development index.\n",
        "* Enrollees coming from cities with a low development index might be looking for better opportunities in metropolitan cities by upskilling themselves after undergoing the training."
      ]
    },
    {
      "cell_type": "markdown",
      "metadata": {
        "id": "0EG8fPpCyZr7"
      },
      "source": [
        "### Feature Engineering"
      ]
    },
    {
      "cell_type": "code",
      "metadata": {
        "colab": {
          "base_uri": "https://localhost:8080/"
        },
        "id": "fgRuFYIhyZr7",
        "outputId": "7676b433-80be-4898-f33f-cfd7f0bf8755"
      },
      "source": [
        "data['city'].nunique()"
      ],
      "execution_count": null,
      "outputs": [
        {
          "output_type": "execute_result",
          "data": {
            "text/plain": [
              "123"
            ]
          },
          "metadata": {
            "tags": []
          },
          "execution_count": 222
        }
      ]
    },
    {
      "cell_type": "markdown",
      "metadata": {
        "id": "nuHz3acEyZr7"
      },
      "source": [
        "* There are 123 unique cities in data, we can reduce the levels by grouping them into 3 major categories:\n",
        "  * Developed city - with city development index greater than 0.90\n",
        "  * Developing city - with city development index between 0.74 and 0.90\n",
        "  * Under-Developed city - with city development index between 0.4 and 0.74"
      ]
    },
    {
      "cell_type": "code",
      "metadata": {
        "colab": {
          "base_uri": "https://localhost:8080/"
        },
        "id": "pQGEf9sfyZr7",
        "outputId": "e6c380ee-388e-4ce5-ea38-c753e09b6ca1"
      },
      "source": [
        "data['city_development_index'].describe()"
      ],
      "execution_count": null,
      "outputs": [
        {
          "output_type": "execute_result",
          "data": {
            "text/plain": [
              "count    19158.000000\n",
              "mean         0.828848\n",
              "std          0.123362\n",
              "min          0.448000\n",
              "25%          0.740000\n",
              "50%          0.903000\n",
              "75%          0.920000\n",
              "max          0.949000\n",
              "Name: city_development_index, dtype: float64"
            ]
          },
          "metadata": {
            "tags": []
          },
          "execution_count": 224
        }
      ]
    },
    {
      "cell_type": "code",
      "metadata": {
        "id": "aZawGYmKyZr7"
      },
      "source": [
        "# Discretize variable into equal-sized buckets based on quantiles\n",
        "data['city'] = pd.qcut(data['city_development_index'],q = [0,0.25,0.5,1],labels=['Under_Developed','Developing','Developed'])"
      ],
      "execution_count": null,
      "outputs": []
    },
    {
      "cell_type": "code",
      "metadata": {
        "colab": {
          "base_uri": "https://localhost:8080/"
        },
        "id": "njmBQMtUyZr8",
        "outputId": "6ec32c07-5784-42c3-fb48-55f890f3bf79"
      },
      "source": [
        "data['city'].value_counts()"
      ],
      "execution_count": null,
      "outputs": [
        {
          "output_type": "execute_result",
          "data": {
            "text/plain": [
              "Developed          9561\n",
              "Under_Developed    4838\n",
              "Developing         4759\n",
              "Name: city, dtype: int64"
            ]
          },
          "metadata": {
            "tags": []
          },
          "execution_count": 229
        }
      ]
    },
    {
      "cell_type": "markdown",
      "metadata": {
        "id": "WCDh2R7vyZr8"
      },
      "source": [
        "* 123 unique values have been binned into 3 categories."
      ]
    },
    {
      "cell_type": "markdown",
      "metadata": {
        "id": "aBiH7gyfyZr8"
      },
      "source": [
        "### Missing-Value Treatment\n",
        "\n",
        "* We will use KNN imputer to impute missing values.\n",
        "* `KNNImputer`: Each sample's missing values are imputed by looking at the n_neighbors nearest neighbors found in the training set. Default value for n_neighbors=5.\n",
        "* KNN imputer replaces missing values using the average of k nearest non-missing feature values.\n",
        "* Nearest points are found based on euclidean distance."
      ]
    },
    {
      "cell_type": "code",
      "metadata": {
        "colab": {
          "base_uri": "https://localhost:8080/"
        },
        "id": "QDB056igyZr8",
        "outputId": "3dfcb9e8-a6b2-4e91-fdf6-90b3e7ab1da2"
      },
      "source": [
        "data.isnull().sum()"
      ],
      "execution_count": null,
      "outputs": [
        {
          "output_type": "execute_result",
          "data": {
            "text/plain": [
              "city                         0\n",
              "city_development_index       0\n",
              "gender                       0\n",
              "relevent_experience          0\n",
              "enrolled_university        386\n",
              "education_level            460\n",
              "major_discipline          2813\n",
              "experience                  65\n",
              "company_size              5938\n",
              "company_type              6140\n",
              "last_new_job               423\n",
              "training_hours               0\n",
              "target                       0\n",
              "dtype: int64"
            ]
          },
          "metadata": {
            "tags": []
          },
          "execution_count": 231
        }
      ]
    },
    {
      "cell_type": "code",
      "metadata": {
        "id": "eiw4bAItyZr8"
      },
      "source": [
        "imputer = KNNImputer(n_neighbors=5)"
      ],
      "execution_count": null,
      "outputs": []
    },
    {
      "cell_type": "code",
      "metadata": {
        "colab": {
          "base_uri": "https://localhost:8080/"
        },
        "id": "vnfRPxxmc7Qq",
        "outputId": "1667ea6f-7b1d-4336-97da-ce2463e2e146"
      },
      "source": [
        "help(KNNImputer)"
      ],
      "execution_count": null,
      "outputs": [
        {
          "output_type": "stream",
          "text": [
            "Help on class KNNImputer in module sklearn.impute._knn:\n",
            "\n",
            "class KNNImputer(sklearn.impute._base._BaseImputer)\n",
            " |  KNNImputer(missing_values=nan, n_neighbors=5, weights='uniform', metric='nan_euclidean', copy=True, add_indicator=False)\n",
            " |  \n",
            " |  Imputation for completing missing values using k-Nearest Neighbors.\n",
            " |  \n",
            " |  Each sample's missing values are imputed using the mean value from\n",
            " |  `n_neighbors` nearest neighbors found in the training set. Two samples are\n",
            " |  close if the features that neither is missing are close.\n",
            " |  \n",
            " |  Read more in the :ref:`User Guide <knnimpute>`.\n",
            " |  \n",
            " |  .. versionadded:: 0.22\n",
            " |  \n",
            " |  Parameters\n",
            " |  ----------\n",
            " |  missing_values : number, string, np.nan or None, default=`np.nan`\n",
            " |      The placeholder for the missing values. All occurrences of\n",
            " |      `missing_values` will be imputed.\n",
            " |  \n",
            " |  n_neighbors : int, default=5\n",
            " |      Number of neighboring samples to use for imputation.\n",
            " |  \n",
            " |  weights : {'uniform', 'distance'} or callable, default='uniform'\n",
            " |      Weight function used in prediction.  Possible values:\n",
            " |  \n",
            " |      - 'uniform' : uniform weights. All points in each neighborhood are\n",
            " |        weighted equally.\n",
            " |      - 'distance' : weight points by the inverse of their distance.\n",
            " |        in this case, closer neighbors of a query point will have a\n",
            " |        greater influence than neighbors which are further away.\n",
            " |      - callable : a user-defined function which accepts an\n",
            " |        array of distances, and returns an array of the same shape\n",
            " |        containing the weights.\n",
            " |  \n",
            " |  metric : {'nan_euclidean'} or callable, default='nan_euclidean'\n",
            " |      Distance metric for searching neighbors. Possible values:\n",
            " |  \n",
            " |      - 'nan_euclidean'\n",
            " |      - callable : a user-defined function which conforms to the definition\n",
            " |        of ``_pairwise_callable(X, Y, metric, **kwds)``. The function\n",
            " |        accepts two arrays, X and Y, and a `missing_values` keyword in\n",
            " |        `kwds` and returns a scalar distance value.\n",
            " |  \n",
            " |  copy : bool, default=True\n",
            " |      If True, a copy of X will be created. If False, imputation will\n",
            " |      be done in-place whenever possible.\n",
            " |  \n",
            " |  add_indicator : bool, default=False\n",
            " |      If True, a :class:`MissingIndicator` transform will stack onto the\n",
            " |      output of the imputer's transform. This allows a predictive estimator\n",
            " |      to account for missingness despite imputation. If a feature has no\n",
            " |      missing values at fit/train time, the feature won't appear on the\n",
            " |      missing indicator even if there are missing values at transform/test\n",
            " |      time.\n",
            " |  \n",
            " |  Attributes\n",
            " |  ----------\n",
            " |  indicator_ : :class:`sklearn.impute.MissingIndicator`\n",
            " |      Indicator used to add binary indicators for missing values.\n",
            " |      ``None`` if add_indicator is False.\n",
            " |  \n",
            " |  References\n",
            " |  ----------\n",
            " |  * Olga Troyanskaya, Michael Cantor, Gavin Sherlock, Pat Brown, Trevor\n",
            " |    Hastie, Robert Tibshirani, David Botstein and Russ B. Altman, Missing\n",
            " |    value estimation methods for DNA microarrays, BIOINFORMATICS Vol. 17\n",
            " |    no. 6, 2001 Pages 520-525.\n",
            " |  \n",
            " |  Examples\n",
            " |  --------\n",
            " |  >>> import numpy as np\n",
            " |  >>> from sklearn.impute import KNNImputer\n",
            " |  >>> X = [[1, 2, np.nan], [3, 4, 3], [np.nan, 6, 5], [8, 8, 7]]\n",
            " |  >>> imputer = KNNImputer(n_neighbors=2)\n",
            " |  >>> imputer.fit_transform(X)\n",
            " |  array([[1. , 2. , 4. ],\n",
            " |         [3. , 4. , 3. ],\n",
            " |         [5.5, 6. , 5. ],\n",
            " |         [8. , 8. , 7. ]])\n",
            " |  \n",
            " |  Method resolution order:\n",
            " |      KNNImputer\n",
            " |      sklearn.impute._base._BaseImputer\n",
            " |      sklearn.base.TransformerMixin\n",
            " |      sklearn.base.BaseEstimator\n",
            " |      builtins.object\n",
            " |  \n",
            " |  Methods defined here:\n",
            " |  \n",
            " |  __init__(self, missing_values=nan, n_neighbors=5, weights='uniform', metric='nan_euclidean', copy=True, add_indicator=False)\n",
            " |      Initialize self.  See help(type(self)) for accurate signature.\n",
            " |  \n",
            " |  fit(self, X, y=None)\n",
            " |      Fit the imputer on X.\n",
            " |      \n",
            " |      Parameters\n",
            " |      ----------\n",
            " |      X : array-like shape of (n_samples, n_features)\n",
            " |          Input data, where `n_samples` is the number of samples and\n",
            " |          `n_features` is the number of features.\n",
            " |      \n",
            " |      Returns\n",
            " |      -------\n",
            " |      self : object\n",
            " |  \n",
            " |  transform(self, X)\n",
            " |      Impute all missing values in X.\n",
            " |      \n",
            " |      Parameters\n",
            " |      ----------\n",
            " |      X : array-like of shape (n_samples, n_features)\n",
            " |          The input data to complete.\n",
            " |      \n",
            " |      Returns\n",
            " |      -------\n",
            " |      X : array-like of shape (n_samples, n_output_features)\n",
            " |          The imputed dataset. `n_output_features` is the number of features\n",
            " |          that is not always missing during `fit`.\n",
            " |  \n",
            " |  ----------------------------------------------------------------------\n",
            " |  Methods inherited from sklearn.base.TransformerMixin:\n",
            " |  \n",
            " |  fit_transform(self, X, y=None, **fit_params)\n",
            " |      Fit to data, then transform it.\n",
            " |      \n",
            " |      Fits transformer to X and y with optional parameters fit_params\n",
            " |      and returns a transformed version of X.\n",
            " |      \n",
            " |      Parameters\n",
            " |      ----------\n",
            " |      X : numpy array of shape [n_samples, n_features]\n",
            " |          Training set.\n",
            " |      \n",
            " |      y : numpy array of shape [n_samples]\n",
            " |          Target values.\n",
            " |      \n",
            " |      **fit_params : dict\n",
            " |          Additional fit parameters.\n",
            " |      \n",
            " |      Returns\n",
            " |      -------\n",
            " |      X_new : numpy array of shape [n_samples, n_features_new]\n",
            " |          Transformed array.\n",
            " |  \n",
            " |  ----------------------------------------------------------------------\n",
            " |  Data descriptors inherited from sklearn.base.TransformerMixin:\n",
            " |  \n",
            " |  __dict__\n",
            " |      dictionary for instance variables (if defined)\n",
            " |  \n",
            " |  __weakref__\n",
            " |      list of weak references to the object (if defined)\n",
            " |  \n",
            " |  ----------------------------------------------------------------------\n",
            " |  Methods inherited from sklearn.base.BaseEstimator:\n",
            " |  \n",
            " |  __getstate__(self)\n",
            " |  \n",
            " |  __repr__(self, N_CHAR_MAX=700)\n",
            " |      Return repr(self).\n",
            " |  \n",
            " |  __setstate__(self, state)\n",
            " |  \n",
            " |  get_params(self, deep=True)\n",
            " |      Get parameters for this estimator.\n",
            " |      \n",
            " |      Parameters\n",
            " |      ----------\n",
            " |      deep : bool, default=True\n",
            " |          If True, will return the parameters for this estimator and\n",
            " |          contained subobjects that are estimators.\n",
            " |      \n",
            " |      Returns\n",
            " |      -------\n",
            " |      params : mapping of string to any\n",
            " |          Parameter names mapped to their values.\n",
            " |  \n",
            " |  set_params(self, **params)\n",
            " |      Set the parameters of this estimator.\n",
            " |      \n",
            " |      The method works on simple estimators as well as on nested objects\n",
            " |      (such as pipelines). The latter have parameters of the form\n",
            " |      ``<component>__<parameter>`` so that it's possible to update each\n",
            " |      component of a nested object.\n",
            " |      \n",
            " |      Parameters\n",
            " |      ----------\n",
            " |      **params : dict\n",
            " |          Estimator parameters.\n",
            " |      \n",
            " |      Returns\n",
            " |      -------\n",
            " |      self : object\n",
            " |          Estimator instance.\n",
            "\n"
          ],
          "name": "stdout"
        }
      ]
    },
    {
      "cell_type": "code",
      "metadata": {
        "id": "empkAna-gqmQ"
      },
      "source": [
        "reqd_col_for_impute = ['gender','enrolled_university','education_level','major_discipline','experience',\n",
        "                       'company_size','company_type','last_new_job']"
      ],
      "execution_count": null,
      "outputs": []
    },
    {
      "cell_type": "code",
      "metadata": {
        "id": "GYvU2LDmgqmQ",
        "colab": {
          "base_uri": "https://localhost:8080/",
          "height": 239
        },
        "outputId": "4f315e79-92c4-4b5f-cd8c-073ba8688795"
      },
      "source": [
        "data[reqd_col_for_impute].head()"
      ],
      "execution_count": null,
      "outputs": [
        {
          "output_type": "execute_result",
          "data": {
            "text/html": [
              "<div>\n",
              "<style scoped>\n",
              "    .dataframe tbody tr th:only-of-type {\n",
              "        vertical-align: middle;\n",
              "    }\n",
              "\n",
              "    .dataframe tbody tr th {\n",
              "        vertical-align: top;\n",
              "    }\n",
              "\n",
              "    .dataframe thead th {\n",
              "        text-align: right;\n",
              "    }\n",
              "</style>\n",
              "<table border=\"1\" class=\"dataframe\">\n",
              "  <thead>\n",
              "    <tr style=\"text-align: right;\">\n",
              "      <th></th>\n",
              "      <th>gender</th>\n",
              "      <th>enrolled_university</th>\n",
              "      <th>education_level</th>\n",
              "      <th>major_discipline</th>\n",
              "      <th>experience</th>\n",
              "      <th>company_size</th>\n",
              "      <th>company_type</th>\n",
              "      <th>last_new_job</th>\n",
              "    </tr>\n",
              "  </thead>\n",
              "  <tbody>\n",
              "    <tr>\n",
              "      <th>0</th>\n",
              "      <td>Male</td>\n",
              "      <td>no_enrollment</td>\n",
              "      <td>Graduate</td>\n",
              "      <td>STEM</td>\n",
              "      <td>&gt;20</td>\n",
              "      <td>NaN</td>\n",
              "      <td>NaN</td>\n",
              "      <td>1</td>\n",
              "    </tr>\n",
              "    <tr>\n",
              "      <th>1</th>\n",
              "      <td>Male</td>\n",
              "      <td>no_enrollment</td>\n",
              "      <td>Graduate</td>\n",
              "      <td>STEM</td>\n",
              "      <td>15</td>\n",
              "      <td>50-99</td>\n",
              "      <td>Pvt Ltd</td>\n",
              "      <td>&gt;4</td>\n",
              "    </tr>\n",
              "    <tr>\n",
              "      <th>2</th>\n",
              "      <td>unknown</td>\n",
              "      <td>Full time course</td>\n",
              "      <td>Graduate</td>\n",
              "      <td>STEM</td>\n",
              "      <td>5</td>\n",
              "      <td>NaN</td>\n",
              "      <td>NaN</td>\n",
              "      <td>never</td>\n",
              "    </tr>\n",
              "    <tr>\n",
              "      <th>3</th>\n",
              "      <td>unknown</td>\n",
              "      <td>NaN</td>\n",
              "      <td>Graduate</td>\n",
              "      <td>Business Degree</td>\n",
              "      <td>&lt;1</td>\n",
              "      <td>NaN</td>\n",
              "      <td>Pvt Ltd</td>\n",
              "      <td>never</td>\n",
              "    </tr>\n",
              "    <tr>\n",
              "      <th>4</th>\n",
              "      <td>Male</td>\n",
              "      <td>no_enrollment</td>\n",
              "      <td>Masters</td>\n",
              "      <td>STEM</td>\n",
              "      <td>&gt;20</td>\n",
              "      <td>50-99</td>\n",
              "      <td>Funded Startup</td>\n",
              "      <td>4</td>\n",
              "    </tr>\n",
              "  </tbody>\n",
              "</table>\n",
              "</div>"
            ],
            "text/plain": [
              "    gender enrolled_university  ...    company_type last_new_job\n",
              "0     Male       no_enrollment  ...             NaN            1\n",
              "1     Male       no_enrollment  ...         Pvt Ltd           >4\n",
              "2  unknown    Full time course  ...             NaN        never\n",
              "3  unknown                 NaN  ...         Pvt Ltd        never\n",
              "4     Male       no_enrollment  ...  Funded Startup            4\n",
              "\n",
              "[5 rows x 8 columns]"
            ]
          },
          "metadata": {
            "tags": []
          },
          "execution_count": 251
        }
      ]
    },
    {
      "cell_type": "code",
      "metadata": {
        "id": "tXpGD9hkyZr9"
      },
      "source": [
        "data1=data.copy()"
      ],
      "execution_count": null,
      "outputs": []
    },
    {
      "cell_type": "code",
      "metadata": {
        "id": "oKdVUf1yyZr9"
      },
      "source": [
        "# we need to pass numerical values for each categorical column for KNN imputation so we will label encode them\n",
        "gender = {'Male':0,'Female':1,'Other':2}\n",
        "data1['gender'] = data1['gender'].map(gender)\n",
        "\n",
        "enrolled_university = {'no_enrollment':0,'Full time course':1,'Part time course': 2}\n",
        "data1['enrolled_university'] = data1['enrolled_university'].map(enrolled_university)\n",
        "\n",
        "education_level= {'Graduate':0, 'Masters':1,'High School':2,'Phd':3, 'Primary School':4}  \n",
        "data1['education_level'] = data1['education_level'].map(education_level)\n",
        "\n",
        "major_discipline = {'STEM':0, 'Business Degree':1,'Arts':2,'Humanities':3,'No Major':4,'Other':5}\n",
        "data1['major_discipline'] = data1['major_discipline'].map(major_discipline)\n",
        "\n",
        "experience = {'<1':0,'1':1,'2':2 ,'3':3,'4':4,'5':5,'6':6,'7':7,'8':8,'9':9,'10':10,'11':11,'12':12,'13':13 ,'14':14 ,\n",
        "              '15':15,'16':16,'17':17,'18':18,'19':19,'20':20,'>20':21} \n",
        "data1['experience'] = data1['experience'].map(experience)\n",
        "\n",
        "company_type = {'Pvt Ltd':0,'Funded Startup':1,'Early Stage Startup':2,'Other':3,'Public Sector':4 ,'NGO':5} \n",
        "data1['company_type'] = data1['company_type'].map(company_type)\n",
        "\n",
        "company_size ={'<10':0,'10/49':1,'100-500':2,'1000-4999':3,'10000+':4,'50-99':5,'500-999':6,'5000-9999':7}\n",
        "data1['company_size'] = data1['company_size'].map(company_size)\n",
        "\n",
        "last_new_job = {'never':0,'1':1,'2':2,'3':3,'4':4,'>4':5}\n",
        "data1['last_new_job'] = data1['last_new_job'].map(last_new_job)"
      ],
      "execution_count": null,
      "outputs": []
    },
    {
      "cell_type": "code",
      "metadata": {
        "colab": {
          "base_uri": "https://localhost:8080/",
          "height": 257
        },
        "id": "9Z9HvU0-yZr9",
        "outputId": "5203a22a-5d6f-4770-8614-771ccc8837c3"
      },
      "source": [
        "data1.head()"
      ],
      "execution_count": null,
      "outputs": [
        {
          "output_type": "execute_result",
          "data": {
            "text/html": [
              "<div>\n",
              "<style scoped>\n",
              "    .dataframe tbody tr th:only-of-type {\n",
              "        vertical-align: middle;\n",
              "    }\n",
              "\n",
              "    .dataframe tbody tr th {\n",
              "        vertical-align: top;\n",
              "    }\n",
              "\n",
              "    .dataframe thead th {\n",
              "        text-align: right;\n",
              "    }\n",
              "</style>\n",
              "<table border=\"1\" class=\"dataframe\">\n",
              "  <thead>\n",
              "    <tr style=\"text-align: right;\">\n",
              "      <th></th>\n",
              "      <th>city</th>\n",
              "      <th>city_development_index</th>\n",
              "      <th>gender</th>\n",
              "      <th>relevent_experience</th>\n",
              "      <th>enrolled_university</th>\n",
              "      <th>education_level</th>\n",
              "      <th>major_discipline</th>\n",
              "      <th>experience</th>\n",
              "      <th>company_size</th>\n",
              "      <th>company_type</th>\n",
              "      <th>last_new_job</th>\n",
              "      <th>training_hours</th>\n",
              "      <th>target</th>\n",
              "    </tr>\n",
              "  </thead>\n",
              "  <tbody>\n",
              "    <tr>\n",
              "      <th>0</th>\n",
              "      <td>Developed</td>\n",
              "      <td>0.920</td>\n",
              "      <td>0.0</td>\n",
              "      <td>Has relevent experience</td>\n",
              "      <td>0.0</td>\n",
              "      <td>0.0</td>\n",
              "      <td>0.0</td>\n",
              "      <td>21.0</td>\n",
              "      <td>NaN</td>\n",
              "      <td>NaN</td>\n",
              "      <td>1.0</td>\n",
              "      <td>36</td>\n",
              "      <td>yes</td>\n",
              "    </tr>\n",
              "    <tr>\n",
              "      <th>1</th>\n",
              "      <td>Developing</td>\n",
              "      <td>0.776</td>\n",
              "      <td>0.0</td>\n",
              "      <td>No relevent experience</td>\n",
              "      <td>0.0</td>\n",
              "      <td>0.0</td>\n",
              "      <td>0.0</td>\n",
              "      <td>15.0</td>\n",
              "      <td>5.0</td>\n",
              "      <td>0.0</td>\n",
              "      <td>5.0</td>\n",
              "      <td>47</td>\n",
              "      <td>no</td>\n",
              "    </tr>\n",
              "    <tr>\n",
              "      <th>2</th>\n",
              "      <td>Under_Developed</td>\n",
              "      <td>0.624</td>\n",
              "      <td>NaN</td>\n",
              "      <td>No relevent experience</td>\n",
              "      <td>1.0</td>\n",
              "      <td>0.0</td>\n",
              "      <td>0.0</td>\n",
              "      <td>5.0</td>\n",
              "      <td>NaN</td>\n",
              "      <td>NaN</td>\n",
              "      <td>0.0</td>\n",
              "      <td>83</td>\n",
              "      <td>no</td>\n",
              "    </tr>\n",
              "    <tr>\n",
              "      <th>3</th>\n",
              "      <td>Developing</td>\n",
              "      <td>0.789</td>\n",
              "      <td>NaN</td>\n",
              "      <td>No relevent experience</td>\n",
              "      <td>NaN</td>\n",
              "      <td>0.0</td>\n",
              "      <td>1.0</td>\n",
              "      <td>0.0</td>\n",
              "      <td>NaN</td>\n",
              "      <td>0.0</td>\n",
              "      <td>0.0</td>\n",
              "      <td>52</td>\n",
              "      <td>yes</td>\n",
              "    </tr>\n",
              "    <tr>\n",
              "      <th>4</th>\n",
              "      <td>Developing</td>\n",
              "      <td>0.767</td>\n",
              "      <td>0.0</td>\n",
              "      <td>Has relevent experience</td>\n",
              "      <td>0.0</td>\n",
              "      <td>1.0</td>\n",
              "      <td>0.0</td>\n",
              "      <td>21.0</td>\n",
              "      <td>5.0</td>\n",
              "      <td>1.0</td>\n",
              "      <td>4.0</td>\n",
              "      <td>8</td>\n",
              "      <td>no</td>\n",
              "    </tr>\n",
              "  </tbody>\n",
              "</table>\n",
              "</div>"
            ],
            "text/plain": [
              "              city  city_development_index  ...  training_hours target\n",
              "0        Developed                   0.920  ...              36    yes\n",
              "1       Developing                   0.776  ...              47     no\n",
              "2  Under_Developed                   0.624  ...              83     no\n",
              "3       Developing                   0.789  ...              52    yes\n",
              "4       Developing                   0.767  ...               8     no\n",
              "\n",
              "[5 rows x 13 columns]"
            ]
          },
          "metadata": {
            "tags": []
          },
          "execution_count": 254
        }
      ]
    },
    {
      "cell_type": "markdown",
      "metadata": {
        "id": "aeyTUY2KyZr9"
      },
      "source": [
        "* Values have been encoded."
      ]
    },
    {
      "cell_type": "markdown",
      "metadata": {
        "id": "0L-oAMItxLP-"
      },
      "source": [
        "### Split Data"
      ]
    },
    {
      "cell_type": "code",
      "metadata": {
        "id": "oI2pI-GXyZsB"
      },
      "source": [
        "X = data1.drop(['target'],axis=1)\n",
        "y = data1['target'].apply(lambda x : 1 if x=='yes' else 0)"
      ],
      "execution_count": null,
      "outputs": []
    },
    {
      "cell_type": "code",
      "metadata": {
        "colab": {
          "base_uri": "https://localhost:8080/"
        },
        "id": "JqVHLEHVRRKK",
        "outputId": "93d3071f-8ffc-423d-826c-269fec03050e"
      },
      "source": [
        "# Splitting data into training and test set:\n",
        "X_train, X_test, y_train, y_test = train_test_split(X, y, test_size=0.3, random_state=7,stratify=y)\n",
        "print(X_train.shape, X_test.shape)"
      ],
      "execution_count": null,
      "outputs": [
        {
          "output_type": "stream",
          "text": [
            "(13410, 12) (5748, 12)\n"
          ],
          "name": "stdout"
        }
      ]
    },
    {
      "cell_type": "markdown",
      "metadata": {
        "id": "a6Dl-OrvyZsB"
      },
      "source": [
        "**Imputing Missing Values**"
      ]
    },
    {
      "cell_type": "code",
      "metadata": {
        "id": "nFRv_tzSyZsB"
      },
      "source": [
        "#Fit and transform the train data\n",
        "X_train[reqd_col_for_impute]=imputer.fit_transform(X_train[reqd_col_for_impute])\n",
        "\n",
        "#Transform the test data \n",
        "X_test[reqd_col_for_impute]=imputer.transform(X_test[reqd_col_for_impute])"
      ],
      "execution_count": null,
      "outputs": []
    },
    {
      "cell_type": "code",
      "metadata": {
        "colab": {
          "base_uri": "https://localhost:8080/"
        },
        "id": "PN5ITt4KyZsB",
        "outputId": "d649cf72-b979-4b74-c607-bc7994f67ab5"
      },
      "source": [
        "#Checking that no column has missing values in train or test sets\n",
        "print(X_train.isna().sum())\n",
        "print('-'*30)\n",
        "print(X_test.isna().sum())"
      ],
      "execution_count": null,
      "outputs": [
        {
          "output_type": "stream",
          "text": [
            "city                      0\n",
            "city_development_index    0\n",
            "gender                    0\n",
            "relevent_experience       0\n",
            "enrolled_university       0\n",
            "education_level           0\n",
            "major_discipline          0\n",
            "experience                0\n",
            "company_size              0\n",
            "company_type              0\n",
            "last_new_job              0\n",
            "training_hours            0\n",
            "dtype: int64\n",
            "------------------------------\n",
            "city                      0\n",
            "city_development_index    0\n",
            "gender                    0\n",
            "relevent_experience       0\n",
            "enrolled_university       0\n",
            "education_level           0\n",
            "major_discipline          0\n",
            "experience                0\n",
            "company_size              0\n",
            "company_type              0\n",
            "last_new_job              0\n",
            "training_hours            0\n",
            "dtype: int64\n"
          ],
          "name": "stdout"
        }
      ]
    },
    {
      "cell_type": "markdown",
      "metadata": {
        "id": "KTF_4DjTyZsB"
      },
      "source": [
        "* All missing values have been treated.\n",
        "* Let's inverse map the encoded values."
      ]
    },
    {
      "cell_type": "code",
      "metadata": {
        "id": "imWLJ4zSyZsC"
      },
      "source": [
        "## Function to inverse the encoding\n",
        "def inverse_mapping(x,y):\n",
        "    inv_dict = {v: k for k, v in x.items()}\n",
        "    X_train[y] = np.round(X_train[y]).map(inv_dict).astype('category')\n",
        "    X_test[y] = np.round(X_test[y]).map(inv_dict).astype('category')"
      ],
      "execution_count": null,
      "outputs": []
    },
    {
      "cell_type": "code",
      "metadata": {
        "id": "HIw7NwaryZsC"
      },
      "source": [
        "inverse_mapping(gender,'gender')\n",
        "inverse_mapping(enrolled_university,'enrolled_university')\n",
        "inverse_mapping(education_level,'education_level')\n",
        "inverse_mapping(major_discipline,'major_discipline')\n",
        "inverse_mapping(experience,'experience')\n",
        "inverse_mapping(company_size,'company_size')\n",
        "inverse_mapping(company_type,'company_type')\n",
        "inverse_mapping(last_new_job,'last_new_job')"
      ],
      "execution_count": null,
      "outputs": []
    },
    {
      "cell_type": "markdown",
      "metadata": {
        "id": "rXELARtyyZsC"
      },
      "source": [
        "* Checking inverse mapped values/categories."
      ]
    },
    {
      "cell_type": "code",
      "metadata": {
        "colab": {
          "base_uri": "https://localhost:8080/"
        },
        "id": "rQ-aAFabyZsC",
        "outputId": "fcbc6184-744b-4729-863e-003ffa9b19d1"
      },
      "source": [
        "cols = X_train.select_dtypes(include=['object','category'])\n",
        "for i in cols.columns:\n",
        "    print(X_train[i].value_counts())\n",
        "    print('*'*30)"
      ],
      "execution_count": null,
      "outputs": [
        {
          "output_type": "stream",
          "text": [
            "Developed          6654\n",
            "Under_Developed    3379\n",
            "Developing         3377\n",
            "Name: city, dtype: int64\n",
            "******************************\n",
            "Male      12235\n",
            "Female     1048\n",
            "Other       127\n",
            "Name: gender, dtype: int64\n",
            "******************************\n",
            "Has relevent experience    9671\n",
            "No relevent experience     3739\n",
            "Name: relevent_experience, dtype: int64\n",
            "******************************\n",
            "no_enrollment       9838\n",
            "Full time course    2737\n",
            "Part time course     835\n",
            "Name: enrolled_university, dtype: int64\n",
            "******************************\n",
            "Graduate          8199\n",
            "Masters           3229\n",
            "High School       1467\n",
            "Phd                308\n",
            "Primary School     207\n",
            "Name: education_level, dtype: int64\n",
            "******************************\n",
            "STEM               11384\n",
            "Business Degree      814\n",
            "Humanities           476\n",
            "Arts                 323\n",
            "Other                257\n",
            "No Major             156\n",
            "Name: major_discipline, dtype: int64\n",
            "******************************\n",
            ">20    2287\n",
            "4      1008\n",
            "5       995\n",
            "3       963\n",
            "6       852\n",
            "2       779\n",
            "7       728\n",
            "9       685\n",
            "10      675\n",
            "8       532\n",
            "15      485\n",
            "11      470\n",
            "14      423\n",
            "16      378\n",
            "1       369\n",
            "<1      368\n",
            "12      349\n",
            "13      292\n",
            "17      250\n",
            "19      217\n",
            "18      196\n",
            "20      109\n",
            "Name: experience, dtype: int64\n",
            "******************************\n",
            "100-500      2731\n",
            "10000+       2583\n",
            "1000-4999    2571\n",
            "50-99        2402\n",
            "10/49        1205\n",
            "<10           924\n",
            "500-999       597\n",
            "5000-9999     397\n",
            "Name: company_size, dtype: int64\n",
            "******************************\n",
            "Pvt Ltd                8648\n",
            "Funded Startup         2504\n",
            "Early Stage Startup    1000\n",
            "Public Sector           680\n",
            "NGO                     365\n",
            "Other                   213\n",
            "Name: company_type, dtype: int64\n",
            "******************************\n",
            "1        5770\n",
            ">4       2332\n",
            "2        2090\n",
            "never    1756\n",
            "4         734\n",
            "3         728\n",
            "Name: last_new_job, dtype: int64\n",
            "******************************\n"
          ],
          "name": "stdout"
        }
      ]
    },
    {
      "cell_type": "code",
      "metadata": {
        "colab": {
          "base_uri": "https://localhost:8080/"
        },
        "id": "0DyQzPp4yZsC",
        "outputId": "76979267-8cc6-4194-efa1-9f19191f1fe4"
      },
      "source": [
        "cols = X_test.select_dtypes(include=['object','category'])\n",
        "for i in cols.columns:\n",
        "    print(X_train[i].value_counts())\n",
        "    print('*'*30)"
      ],
      "execution_count": null,
      "outputs": [
        {
          "output_type": "stream",
          "text": [
            "Developed          6654\n",
            "Under_Developed    3379\n",
            "Developing         3377\n",
            "Name: city, dtype: int64\n",
            "******************************\n",
            "Male      12235\n",
            "Female     1048\n",
            "Other       127\n",
            "Name: gender, dtype: int64\n",
            "******************************\n",
            "Has relevent experience    9671\n",
            "No relevent experience     3739\n",
            "Name: relevent_experience, dtype: int64\n",
            "******************************\n",
            "no_enrollment       9838\n",
            "Full time course    2737\n",
            "Part time course     835\n",
            "Name: enrolled_university, dtype: int64\n",
            "******************************\n",
            "Graduate          8199\n",
            "Masters           3229\n",
            "High School       1467\n",
            "Phd                308\n",
            "Primary School     207\n",
            "Name: education_level, dtype: int64\n",
            "******************************\n",
            "STEM               11384\n",
            "Business Degree      814\n",
            "Humanities           476\n",
            "Arts                 323\n",
            "Other                257\n",
            "No Major             156\n",
            "Name: major_discipline, dtype: int64\n",
            "******************************\n",
            ">20    2287\n",
            "4      1008\n",
            "5       995\n",
            "3       963\n",
            "6       852\n",
            "2       779\n",
            "7       728\n",
            "9       685\n",
            "10      675\n",
            "8       532\n",
            "15      485\n",
            "11      470\n",
            "14      423\n",
            "16      378\n",
            "1       369\n",
            "<1      368\n",
            "12      349\n",
            "13      292\n",
            "17      250\n",
            "19      217\n",
            "18      196\n",
            "20      109\n",
            "Name: experience, dtype: int64\n",
            "******************************\n",
            "100-500      2731\n",
            "10000+       2583\n",
            "1000-4999    2571\n",
            "50-99        2402\n",
            "10/49        1205\n",
            "<10           924\n",
            "500-999       597\n",
            "5000-9999     397\n",
            "Name: company_size, dtype: int64\n",
            "******************************\n",
            "Pvt Ltd                8648\n",
            "Funded Startup         2504\n",
            "Early Stage Startup    1000\n",
            "Public Sector           680\n",
            "NGO                     365\n",
            "Other                   213\n",
            "Name: company_type, dtype: int64\n",
            "******************************\n",
            "1        5770\n",
            ">4       2332\n",
            "2        2090\n",
            "never    1756\n",
            "4         734\n",
            "3         728\n",
            "Name: last_new_job, dtype: int64\n",
            "******************************\n"
          ],
          "name": "stdout"
        }
      ]
    },
    {
      "cell_type": "markdown",
      "metadata": {
        "id": "QB4OQb0oyZsC"
      },
      "source": [
        "* Inverse mapping returned original labels."
      ]
    },
    {
      "cell_type": "markdown",
      "metadata": {
        "id": "GvLQ-iywyZsC"
      },
      "source": [
        "### Encoding categorical varaibles"
      ]
    },
    {
      "cell_type": "code",
      "metadata": {
        "colab": {
          "base_uri": "https://localhost:8080/"
        },
        "id": "5SM3du0lyZsD",
        "outputId": "5186f493-560f-4962-e73a-f1042f6fea8d"
      },
      "source": [
        "X_train=pd.get_dummies(X_train,drop_first=True)\n",
        "X_test=pd.get_dummies(X_test,drop_first=True)\n",
        "print(X_train.shape, X_test.shape)"
      ],
      "execution_count": null,
      "outputs": [
        {
          "output_type": "stream",
          "text": [
            "(13410, 56) (5748, 56)\n"
          ],
          "name": "stdout"
        }
      ]
    },
    {
      "cell_type": "markdown",
      "metadata": {
        "id": "3nkIi9SoyZsD"
      },
      "source": [
        "* After encoding there are 56 columns."
      ]
    },
    {
      "cell_type": "markdown",
      "metadata": {
        "id": "F8a260kDyZsD"
      },
      "source": [
        "## Building the model"
      ]
    },
    {
      "cell_type": "markdown",
      "metadata": {
        "id": "Pw1pokOGyZsD"
      },
      "source": [
        "### Model evaluation criterion:\n",
        "\n",
        "#### Model can make wrong predictions as:\n",
        "1. Predicting an enrollee is looking for a job change but in reality, the enrollee is not looking for a change - Loss of resources\n",
        "2. Predicting an enrollee is not looking for a job change but the enrollee is looking for a job change  - Loss of opportunity\n",
        "\n",
        "#### Which case is more important? \n",
        "* Predicting an enrollee is not looking for a job change but the enrollee is looking for a job change i.e. losing on a potential candidate as the candidate will not be targeted by the HR team when he should be targeted.\n",
        "\n",
        "#### How to reduce this loss i.e need to reduce False Negatives?\n",
        "* Company would want Recall to be maximized, greater the Recall lesser the chances of false negatives."
      ]
    },
    {
      "cell_type": "code",
      "metadata": {
        "id": "6cS7w5G8yZsD"
      },
      "source": [
        "##  Function to calculate different metric scores of the model - Accuracy, Recall and Precision\n",
        "def get_metrics_score(model,train,test,train_y,test_y,flag=True):\n",
        "    '''\n",
        "    model : classifier to predict values of X\n",
        "\n",
        "    '''\n",
        "    # defining an empty list to store train and test results\n",
        "    score_list=[] \n",
        "    \n",
        "    pred_train = model.predict(train)\n",
        "    pred_test = model.predict(test)\n",
        "    \n",
        "    train_acc = model.score(train,train_y)\n",
        "    test_acc = model.score(test,test_y)\n",
        "    \n",
        "    train_recall = metrics.recall_score(train_y,pred_train)\n",
        "    test_recall = metrics.recall_score(test_y,pred_test)\n",
        "    \n",
        "    train_precision = metrics.precision_score(train_y,pred_train)\n",
        "    test_precision = metrics.precision_score(test_y,pred_test)\n",
        "    \n",
        "    score_list.extend((train_acc,test_acc,train_recall,test_recall,train_precision,test_precision))\n",
        "        \n",
        "    # If the flag is set to True then only the following print statements will be dispayed. The default value is set to True.\n",
        "    if flag == True: \n",
        "        print(\"Accuracy on training set : \",model.score(train,train_y))\n",
        "        print(\"Accuracy on test set : \",model.score(test,test_y))\n",
        "        print(\"Recall on training set : \",metrics.recall_score(train_y,pred_train))\n",
        "        print(\"Recall on test set : \",metrics.recall_score(test_y,pred_test))\n",
        "        print(\"Precision on training set : \",metrics.precision_score(train_y,pred_train))\n",
        "        print(\"Precision on test set : \",metrics.precision_score(test_y,pred_test))\n",
        "    \n",
        "    return score_list # returning the list with train and test scores"
      ],
      "execution_count": null,
      "outputs": []
    },
    {
      "cell_type": "code",
      "metadata": {
        "id": "o1fPGk2LyZsD"
      },
      "source": [
        "def make_confusion_matrix(model,y_actual,labels=[1, 0]):\n",
        "    '''\n",
        "    model : classifier to predict values of X\n",
        "    y_actual : ground truth  \n",
        "    \n",
        "    '''\n",
        "    y_predict = model.predict(X_test)\n",
        "    cm=metrics.confusion_matrix( y_actual, y_predict, labels=[0, 1])\n",
        "    df_cm = pd.DataFrame(cm, index = [i for i in [\"Actual - No\",\"Actual - Yes\"]],\n",
        "                  columns = [i for i in ['Predicted - No','Predicted - Yes']])\n",
        "    group_counts = [\"{0:0.0f}\".format(value) for value in\n",
        "                cm.flatten()]\n",
        "    group_percentages = [\"{0:.2%}\".format(value) for value in\n",
        "                         cm.flatten()/np.sum(cm)]\n",
        "    labels = [f\"{v1}\\n{v2}\" for v1, v2 in\n",
        "              zip(group_counts,group_percentages)]\n",
        "    labels = np.asarray(labels).reshape(2,2)\n",
        "    plt.figure(figsize = (10,7))\n",
        "    sns.heatmap(df_cm, annot=labels,fmt='')\n",
        "    plt.ylabel('True label')\n",
        "    plt.xlabel('Predicted label')"
      ],
      "execution_count": null,
      "outputs": []
    },
    {
      "cell_type": "markdown",
      "metadata": {
        "id": "Ot6bDeJdyZsD"
      },
      "source": [
        "### Logistic Regression "
      ]
    },
    {
      "cell_type": "code",
      "metadata": {
        "scrolled": true,
        "colab": {
          "base_uri": "https://localhost:8080/"
        },
        "id": "rtrIfW9yyZsE",
        "outputId": "fa7d002c-53d9-4de5-d240-a2947845753c"
      },
      "source": [
        "lr = LogisticRegression(random_state=1)\n",
        "lr.fit(X_train,y_train)"
      ],
      "execution_count": null,
      "outputs": [
        {
          "output_type": "execute_result",
          "data": {
            "text/plain": [
              "LogisticRegression(C=1.0, class_weight=None, dual=False, fit_intercept=True,\n",
              "                   intercept_scaling=1, l1_ratio=None, max_iter=100,\n",
              "                   multi_class='auto', n_jobs=None, penalty='l2',\n",
              "                   random_state=1, solver='lbfgs', tol=0.0001, verbose=0,\n",
              "                   warm_start=False)"
            ]
          },
          "metadata": {
            "tags": []
          },
          "execution_count": 266
        }
      ]
    },
    {
      "cell_type": "markdown",
      "metadata": {
        "id": "iHnxpM2yyZsE"
      },
      "source": [
        "**Let's evaluate the model performance by using KFold and cross_val_score**\n",
        "\n",
        "- `K-Folds cross-validator` provides dataset indices to split data into train/validation sets. Split dataset into k consecutive stratified folds (without shuffling by default). Each fold is then used once as validation while the k - 1 remaining folds form the training set."
      ]
    },
    {
      "cell_type": "code",
      "metadata": {
        "id": "aX6kNkSTyZsE"
      },
      "source": [
        "scoring='recall'\n",
        "kfold=StratifiedKFold(n_splits=5,shuffle=True,random_state=1)     #Setting number of splits equal to 5\n",
        "cv_result_bfr=cross_val_score(estimator=lr, X=X_train, y=y_train, scoring=scoring, cv=kfold)\n"
      ],
      "execution_count": null,
      "outputs": []
    },
    {
      "cell_type": "code",
      "metadata": {
        "colab": {
          "base_uri": "https://localhost:8080/"
        },
        "id": "vN8EQsr7Bzxh",
        "outputId": "26e04af2-3185-4e9d-80aa-d45926e348ba"
      },
      "source": [
        "cv_result_bfr"
      ],
      "execution_count": null,
      "outputs": [
        {
          "output_type": "execute_result",
          "data": {
            "text/plain": [
              "array([0.26197605, 0.28998505, 0.26457399, 0.26606876, 0.2690583 ])"
            ]
          },
          "metadata": {
            "tags": []
          },
          "execution_count": 268
        }
      ]
    },
    {
      "cell_type": "code",
      "metadata": {
        "colab": {
          "base_uri": "https://localhost:8080/",
          "height": 268
        },
        "id": "gEeHFdo9Bx4L",
        "outputId": "43150b3b-a4fa-461d-f852-010f0722b5f2"
      },
      "source": [
        "#Plotting boxplots for CV scores of model defined above\n",
        "plt.boxplot(cv_result_bfr)\n",
        "plt.show()"
      ],
      "execution_count": null,
      "outputs": [
        {
          "output_type": "display_data",
          "data": {
            "image/png": "[encoded data removed]",
            "text/plain": [
              "<Figure size 432x288 with 1 Axes>"
            ]
          },
          "metadata": {
            "tags": []
          }
        }
      ]
    },
    {
      "cell_type": "markdown",
      "metadata": {
        "id": "22L0Lv6jyZsE"
      },
      "source": [
        "* Performance on training set varies between 0.25 to 0.29 recall.\n",
        "* Let's check the performance on test data."
      ]
    },
    {
      "cell_type": "code",
      "metadata": {
        "colab": {
          "base_uri": "https://localhost:8080/",
          "height": 556
        },
        "id": "iA6xih0JyZsE",
        "outputId": "4d77e66c-8ee7-4e72-ecc1-1caa2ee98838"
      },
      "source": [
        "#Calculating different metrics\n",
        "scores_LR = get_metrics_score(lr,X_train,X_test,y_train,y_test)\n",
        "\n",
        "# creating confusion matrix\n",
        "make_confusion_matrix(lr,y_test)"
      ],
      "execution_count": null,
      "outputs": [
        {
          "output_type": "stream",
          "text": [
            "Accuracy on training set :  0.7666666666666667\n",
            "Accuracy on test set :  0.760786360473208\n",
            "Recall on training set :  0.26644736842105265\n",
            "Recall on test set :  0.25889741800418703\n",
            "Precision on training set :  0.568602425015954\n",
            "Precision on test set :  0.5423976608187134\n"
          ],
          "name": "stdout"
        },
        {
          "output_type": "display_data",
          "data": {
            "image/png": "[encoded data removed]",
            "text/plain": [
              "<Figure size 720x504 with 2 Axes>"
            ]
          },
          "metadata": {
            "tags": []
          }
        }
      ]
    },
    {
      "cell_type": "markdown",
      "metadata": {
        "id": "qybxN2NOyZsE"
      },
      "source": [
        "* Logistic Regression has given a generalized performance on training and test set.\n",
        "* Recall is very low, we can try oversampling (increase training data) to see if the model performance can be improved."
      ]
    },
    {
      "cell_type": "code",
      "metadata": {
        "colab": {
          "base_uri": "https://localhost:8080/"
        },
        "id": "VwfxkI1IyZsF",
        "outputId": "e25461ef-ecf8-45c5-d2f3-181d7cd101e0"
      },
      "source": [
        "!pip install imblearn"
      ],
      "execution_count": null,
      "outputs": [
        {
          "output_type": "stream",
          "text": [
            "Requirement already satisfied: imblearn in /usr/local/lib/python3.7/dist-packages (0.0)\n",
            "Requirement already satisfied: imbalanced-learn in /usr/local/lib/python3.7/dist-packages (from imblearn) (0.4.3)\n",
            "Requirement already satisfied: scikit-learn>=0.20 in /usr/local/lib/python3.7/dist-packages (from imbalanced-learn->imblearn) (0.22.2.post1)\n",
            "Requirement already satisfied: scipy>=0.13.3 in /usr/local/lib/python3.7/dist-packages (from imbalanced-learn->imblearn) (1.4.1)\n",
            "Requirement already satisfied: numpy>=1.8.2 in /usr/local/lib/python3.7/dist-packages (from imbalanced-learn->imblearn) (1.19.5)\n",
            "Requirement already satisfied: joblib>=0.11 in /usr/local/lib/python3.7/dist-packages (from scikit-learn>=0.20->imbalanced-learn->imblearn) (1.0.1)\n"
          ],
          "name": "stdout"
        }
      ]
    },
    {
      "cell_type": "markdown",
      "metadata": {
        "id": "Eo2scHUGyZsF"
      },
      "source": [
        "### Oversampling train data using SMOTE"
      ]
    },
    {
      "cell_type": "code",
      "metadata": {
        "id": "UC6WYMhfyZsF"
      },
      "source": [
        "from imblearn.over_sampling import SMOTE"
      ],
      "execution_count": null,
      "outputs": []
    },
    {
      "cell_type": "code",
      "metadata": {
        "colab": {
          "base_uri": "https://localhost:8080/"
        },
        "id": "tYHiXH7FyZsF",
        "outputId": "fc39eb69-3a07-45a0-b27a-83bdc9314228"
      },
      "source": [
        "print(\"Before UpSampling, counts of label 'Yes': {}\".format(sum(y_train==1)))\n",
        "print(\"Before UpSampling, counts of label 'No': {} \\n\".format(sum(y_train==0)))\n",
        "\n",
        "sm = SMOTE(sampling_strategy = 1 ,k_neighbors = 5, random_state=1)   #Synthetic Minority Over Sampling Technique\n",
        "X_train_over, y_train_over = sm.fit_resample(X_train, y_train)\n",
        "\n",
        "\n",
        "print(\"After UpSampling, counts of label 'Yes': {}\".format(sum(y_train_over==1)))\n",
        "print(\"After UpSampling, counts of label 'No': {} \\n\".format(sum(y_train_over==0)))\n",
        "\n",
        "\n",
        "print('After UpSampling, the shape of train_X: {}'.format(X_train_over.shape))\n",
        "print('After UpSampling, the shape of train_y: {} \\n'.format(y_train_over.shape))"
      ],
      "execution_count": null,
      "outputs": [
        {
          "output_type": "stream",
          "text": [
            "Before UpSampling, counts of label 'Yes': 3344\n",
            "Before UpSampling, counts of label 'No': 10066 \n",
            "\n",
            "After UpSampling, counts of label 'Yes': 10066\n",
            "After UpSampling, counts of label 'No': 10066 \n",
            "\n",
            "After UpSampling, the shape of train_X: (20132, 56)\n",
            "After UpSampling, the shape of train_y: (20132,) \n",
            "\n"
          ],
          "name": "stdout"
        }
      ]
    },
    {
      "cell_type": "markdown",
      "metadata": {
        "id": "mwSA-PcuyZsF"
      },
      "source": [
        "### Logistic Regression on oversampled data"
      ]
    },
    {
      "cell_type": "code",
      "metadata": {
        "colab": {
          "base_uri": "https://localhost:8080/"
        },
        "id": "TNxeF2PmyZsF",
        "outputId": "3ea4f00b-e221-4e26-8085-9f875c997a1f"
      },
      "source": [
        "log_reg_over = LogisticRegression(random_state = 1)\n",
        "\n",
        "# Training the basic logistic regression model with training set \n",
        "log_reg_over.fit(X_train_over,y_train_over)"
      ],
      "execution_count": null,
      "outputs": [
        {
          "output_type": "execute_result",
          "data": {
            "text/plain": [
              "LogisticRegression(C=1.0, class_weight=None, dual=False, fit_intercept=True,\n",
              "                   intercept_scaling=1, l1_ratio=None, max_iter=100,\n",
              "                   multi_class='auto', n_jobs=None, penalty='l2',\n",
              "                   random_state=1, solver='lbfgs', tol=0.0001, verbose=0,\n",
              "                   warm_start=False)"
            ]
          },
          "metadata": {
            "tags": []
          },
          "execution_count": 71
        }
      ]
    },
    {
      "cell_type": "markdown",
      "metadata": {
        "id": "1zQ3rtA_yZsF"
      },
      "source": [
        "**Let's evaluate the model performance by using KFold and cross_val_score**\n",
        "\n",
        "- `K-Folds cross-validator` provides dataset indices to split data into train/validation sets. Split dataset into k consecutive stratified folds (without shuffling by default). Each fold is then used once as validation while the k - 1 remaining folds form the training set."
      ]
    },
    {
      "cell_type": "code",
      "metadata": {
        "scrolled": true,
        "colab": {
          "base_uri": "https://localhost:8080/",
          "height": 268
        },
        "id": "ItDQ9KaYyZsG",
        "outputId": "643cfa5a-7b37-44e9-8010-5204f64f6e11"
      },
      "source": [
        "scoring='recall'\n",
        "kfold=StratifiedKFold(n_splits=5,shuffle=True,random_state=1)     #Setting number of splits equal to 5\n",
        "cv_result_over=cross_val_score(estimator=log_reg_over, X=X_train_over, y=y_train_over, scoring=scoring, cv=kfold)\n",
        "#Plotting boxplots for CV scores of model defined above\n",
        "plt.boxplot(cv_result_over)\n",
        "plt.show()"
      ],
      "execution_count": null,
      "outputs": [
        {
          "output_type": "display_data",
          "data": {
            "image/png": "[encoded data removed]",
            "text/plain": [
              "<Figure size 432x288 with 1 Axes>"
            ]
          },
          "metadata": {
            "tags": []
          }
        }
      ]
    },
    {
      "cell_type": "markdown",
      "metadata": {
        "id": "BGgK-EykyZsG"
      },
      "source": [
        "* Performance of model on training set varies between 0.76 to 0.81, which is an improvement from the previous model\n",
        "* Let's check the performance on the test set."
      ]
    },
    {
      "cell_type": "code",
      "metadata": {
        "colab": {
          "base_uri": "https://localhost:8080/",
          "height": 552
        },
        "id": "t8pfcaXjyZsG",
        "outputId": "ae66b0d9-6cf7-4240-9c35-eb811caab583"
      },
      "source": [
        "#Calculating different metrics\n",
        "get_metrics_score(log_reg_over,X_train_over,X_test,y_train_over,y_test)\n",
        "\n",
        "# creating confusion matrix\n",
        "make_confusion_matrix(log_reg_over,y_test)"
      ],
      "execution_count": null,
      "outputs": [
        {
          "output_type": "stream",
          "text": [
            "Accuracy on training set :  0.7287403139280747\n",
            "Accuracy on test set :  0.7292971468336813\n",
            "Recall on training set :  0.69292668388635\n",
            "Recall on test set :  0.6399162595952547\n",
            "Precision on training set :  0.7463884430176565\n",
            "Precision on test set :  0.4685743484925907\n"
          ],
          "name": "stdout"
        },
        {
          "output_type": "display_data",
          "data": {
            "image/png": "[encoded data removed]",
            "text/plain": [
              "<Figure size 720x504 with 2 Axes>"
            ]
          },
          "metadata": {
            "tags": []
          }
        }
      ]
    },
    {
      "cell_type": "markdown",
      "metadata": {
        "id": "nGPDHTBJyZsG"
      },
      "source": [
        "* Performance on the training set improved but the model is not able to replicate the same for the test set.\n",
        "* Model is overfitting.\n",
        "* Lets try:\n",
        "\n",
        "  a) Regularization to see if overfitting can be reduced\n",
        "\n",
        "  b) Undersampling the train to handle the imbalance between classes and check the model performance."
      ]
    },
    {
      "cell_type": "markdown",
      "metadata": {
        "id": "1FxkAVaqyZsG"
      },
      "source": [
        "### Regularization"
      ]
    },
    {
      "cell_type": "code",
      "metadata": {
        "colab": {
          "base_uri": "https://localhost:8080/"
        },
        "id": "WSga2uqSyZsG",
        "outputId": "42d883e6-c2b2-4997-bf38-394ad52afb89"
      },
      "source": [
        "# Choose the type of classifier. \n",
        "lr_estimator = LogisticRegression(random_state=1,solver='saga')\n",
        "\n",
        "# Grid of parameters to choose from\n",
        "parameters = {'C': np.arange(0.001,1.1,0.1)}\n",
        "\n",
        "# Run the grid search\n",
        "grid_obj = GridSearchCV(lr_estimator, parameters, scoring='recall')\n",
        "grid_obj = grid_obj.fit(X_train_over, y_train_over)\n",
        "\n",
        "# Set the clf to the best combination of parameters\n",
        "lr_estimator = grid_obj.best_estimator_\n",
        "\n",
        "# Fit the best algorithm to the data. \n",
        "lr_estimator.fit(X_train_over, y_train_over)"
      ],
      "execution_count": null,
      "outputs": [
        {
          "output_type": "execute_result",
          "data": {
            "text/plain": [
              "LogisticRegression(C=0.101, class_weight=None, dual=False, fit_intercept=True,\n",
              "                   intercept_scaling=1, l1_ratio=None, max_iter=100,\n",
              "                   multi_class='auto', n_jobs=None, penalty='l2',\n",
              "                   random_state=1, solver='saga', tol=0.0001, verbose=0,\n",
              "                   warm_start=False)"
            ]
          },
          "metadata": {
            "tags": []
          },
          "execution_count": 278
        }
      ]
    },
    {
      "cell_type": "code",
      "metadata": {
        "colab": {
          "base_uri": "https://localhost:8080/",
          "height": 552
        },
        "id": "jk2x7A1TyZsG",
        "outputId": "22afad05-7c92-4e5d-8677-220205eba86e"
      },
      "source": [
        "#Calculating different metrics\n",
        "get_metrics_score(lr_estimator,X_train_over,X_test,y_train_over,y_test)\n",
        "\n",
        "# creating confusion matrix\n",
        "make_confusion_matrix(lr_estimator,y_test)"
      ],
      "execution_count": null,
      "outputs": [
        {
          "output_type": "stream",
          "text": [
            "Accuracy on training set :  0.7137889926485198\n",
            "Accuracy on test set :  0.7205984690327071\n",
            "Recall on training set :  0.6739519173455196\n",
            "Recall on test set :  0.625261688764829\n",
            "Precision on training set :  0.7322970639032815\n",
            "Precision on test set :  0.45597964376590333\n"
          ],
          "name": "stdout"
        },
        {
          "output_type": "display_data",
          "data": {
            "image/png": "[encoded data removed]",
            "text/plain": [
              "<Figure size 720x504 with 2 Axes>"
            ]
          },
          "metadata": {
            "tags": []
          }
        }
      ]
    },
    {
      "cell_type": "markdown",
      "metadata": {
        "id": "CAHmwmW3yZsG"
      },
      "source": [
        "* After regularization, overfitting has reduced to some extent and the model is also performing well.\n",
        "* Let's try undersampling now."
      ]
    },
    {
      "cell_type": "markdown",
      "metadata": {
        "id": "In2L16LmyZsH"
      },
      "source": [
        "### Undersampling train data using SMOTE"
      ]
    },
    {
      "cell_type": "code",
      "metadata": {
        "id": "BpjePd6JyZsH"
      },
      "source": [
        "from imblearn.under_sampling import RandomUnderSampler\n",
        "rus = RandomUnderSampler(random_state = 1)\n",
        "X_train_un, y_train_un = rus.fit_resample(X_train, y_train)"
      ],
      "execution_count": null,
      "outputs": []
    },
    {
      "cell_type": "code",
      "metadata": {
        "colab": {
          "base_uri": "https://localhost:8080/"
        },
        "id": "d9334sWvyZsH",
        "outputId": "1608b814-c8cc-45c8-b3cd-5cf8899f2fb1"
      },
      "source": [
        "print(\"Before Under Sampling, counts of label 'Yes': {}\".format(sum(y_train==1)))\n",
        "print(\"Before Under Sampling, counts of label 'No': {} \\n\".format(sum(y_train==0)))\n",
        "\n",
        "print(\"After Under Sampling, counts of label 'Yes': {}\".format(sum(y_train_un==1)))\n",
        "print(\"After Under Sampling, counts of label 'No': {} \\n\".format(sum(y_train_un==0)))\n",
        "\n",
        "print('After Under Sampling, the shape of train_X: {}'.format(X_train_un.shape))\n",
        "print('After Under Sampling, the shape of train_y: {} \\n'.format(y_train_un.shape))"
      ],
      "execution_count": null,
      "outputs": [
        {
          "output_type": "stream",
          "text": [
            "Before Under Sampling, counts of label 'Yes': 3344\n",
            "Before Under Sampling, counts of label 'No': 10066 \n",
            "\n",
            "After Under Sampling, counts of label 'Yes': 3344\n",
            "After Under Sampling, counts of label 'No': 3344 \n",
            "\n",
            "After Under Sampling, the shape of train_X: (6688, 56)\n",
            "After Under Sampling, the shape of train_y: (6688,) \n",
            "\n"
          ],
          "name": "stdout"
        }
      ]
    },
    {
      "cell_type": "markdown",
      "metadata": {
        "id": "vPQDax3EyZsH"
      },
      "source": [
        "### Logistic Regression on undersampled data"
      ]
    },
    {
      "cell_type": "code",
      "metadata": {
        "colab": {
          "base_uri": "https://localhost:8080/"
        },
        "id": "QyGKFTJwyZsH",
        "outputId": "3088759b-14a2-47de-feb2-03854c60158b"
      },
      "source": [
        "log_reg_under = LogisticRegression(random_state = 1)\n",
        "log_reg_under.fit(X_train_un,y_train_un )"
      ],
      "execution_count": null,
      "outputs": [
        {
          "output_type": "execute_result",
          "data": {
            "text/plain": [
              "LogisticRegression(C=1.0, class_weight=None, dual=False, fit_intercept=True,\n",
              "                   intercept_scaling=1, l1_ratio=None, max_iter=100,\n",
              "                   multi_class='auto', n_jobs=None, penalty='l2',\n",
              "                   random_state=1, solver='lbfgs', tol=0.0001, verbose=0,\n",
              "                   warm_start=False)"
            ]
          },
          "metadata": {
            "tags": []
          },
          "execution_count": 283
        }
      ]
    },
    {
      "cell_type": "markdown",
      "metadata": {
        "id": "rhqZQdJgyZsH"
      },
      "source": [
        "**Let's evaluate the model performance by using KFold and cross_val_score**\n",
        "\n",
        "- `K-Folds cross-validator` provides dataset indices to split data into train/validation sets. Split dataset into k consecutive stratified folds (without shuffling by default). Each fold is then used once as validation while the k - 1 remaining folds form the training set."
      ]
    },
    {
      "cell_type": "code",
      "metadata": {
        "colab": {
          "base_uri": "https://localhost:8080/",
          "height": 268
        },
        "id": "j1Up-LQxyZsI",
        "outputId": "074a8472-6e09-44eb-9f93-460180918338"
      },
      "source": [
        "scoring='recall'\n",
        "kfold=StratifiedKFold(n_splits=5,shuffle=True,random_state=1)     #Setting number of splits equal to 5\n",
        "cv_result_under=cross_val_score(estimator=log_reg_under, X=X_train_un, y=y_train_un, scoring=scoring, cv=kfold)\n",
        "#Plotting boxplots for CV scores of model defined above\n",
        "plt.boxplot(cv_result_under)\n",
        "plt.show()"
      ],
      "execution_count": null,
      "outputs": [
        {
          "output_type": "display_data",
          "data": {
            "image/png": "[encoded data removed]",
            "text/plain": [
              "<Figure size 432x288 with 1 Axes>"
            ]
          },
          "metadata": {
            "tags": []
          }
        }
      ]
    },
    {
      "cell_type": "markdown",
      "metadata": {
        "id": "U7hurv2kyZsI"
      },
      "source": [
        "* Performance of model on training set varies between 0.62 to 0.67, which is an improvement from the initial model(without oversampling)\n",
        "* Let's check the performance on the test set."
      ]
    },
    {
      "cell_type": "code",
      "metadata": {
        "colab": {
          "base_uri": "https://localhost:8080/",
          "height": 552
        },
        "id": "A6RoEdQPyZsI",
        "outputId": "589f96dc-158b-491e-8d9a-ec7568928727"
      },
      "source": [
        "#Calculating different metrics\n",
        "get_metrics_score(log_reg_under,X_train_un,X_test,y_train_un,y_test)\n",
        "\n",
        "\n",
        "# creating confusion matrix\n",
        "make_confusion_matrix(log_reg_under,y_test)"
      ],
      "execution_count": null,
      "outputs": [
        {
          "output_type": "stream",
          "text": [
            "Accuracy on training set :  0.708433014354067\n",
            "Accuracy on test set :  0.7291231732776617\n",
            "Recall on training set :  0.6483253588516746\n",
            "Recall on test set :  0.64480111653873\n",
            "Precision on training set :  0.7369136641740313\n",
            "Precision on test set :  0.4685598377281947\n"
          ],
          "name": "stdout"
        },
        {
          "output_type": "display_data",
          "data": {
            "image/png": "[encoded data removed]",
            "text/plain": [
              "<Figure size 720x504 with 2 Axes>"
            ]
          },
          "metadata": {
            "tags": []
          }
        }
      ]
    },
    {
      "cell_type": "markdown",
      "metadata": {
        "id": "TVDSN41pyZsI"
      },
      "source": [
        "* Model has given a generalized performance on training and test set.\n",
        "* Model performance has improved using downsampling - Logistic regression is now able to differentiate well between positive and negative classes."
      ]
    },
    {
      "cell_type": "code",
      "metadata": {
        "id": "flE7bJjbyZsI"
      },
      "source": [
        "# defining list of model\n",
        "models = [lr]\n",
        "\n",
        "# defining empty lists to add train and test results\n",
        "acc_train = []\n",
        "acc_test = []\n",
        "recall_train = []\n",
        "recall_test = []\n",
        "precision_train = []\n",
        "precision_test = []\n",
        "\n",
        "# looping through all the models to get the metrics score - Accuracy, Recall and Precision\n",
        "for model in models:\n",
        "    \n",
        "    j = get_metrics_score(model,X_train,X_test,y_train,y_test,False)\n",
        "    acc_train.append(j[0])\n",
        "    acc_test.append(j[1])\n",
        "    recall_train.append(j[2])\n",
        "    recall_test.append(j[3])\n",
        "    precision_train.append(j[4])\n",
        "    precision_test.append(j[5])"
      ],
      "execution_count": null,
      "outputs": []
    },
    {
      "cell_type": "code",
      "metadata": {
        "id": "KHsB_lLUyZsI"
      },
      "source": [
        "# defining list of models\n",
        "models = [log_reg_over, lr_estimator]\n",
        "\n",
        "# looping through all the models to get the metrics score - Accuracy, Recall and Precision\n",
        "for model in models:\n",
        "    \n",
        "    j = get_metrics_score(model,X_train_over,X_test,y_train_over,y_test,False)\n",
        "    acc_train.append(j[0])\n",
        "    acc_test.append(j[1])\n",
        "    recall_train.append(j[2])\n",
        "    recall_test.append(j[3])\n",
        "    precision_train.append(j[4])\n",
        "    precision_test.append(j[5])"
      ],
      "execution_count": null,
      "outputs": []
    },
    {
      "cell_type": "code",
      "metadata": {
        "id": "lacqjlRmyZsI"
      },
      "source": [
        "# defining list of model\n",
        "models = [log_reg_under]\n",
        "\n",
        "# looping through all the models to get the metrics score - Accuracy, Recall and Precision\n",
        "for model in models:\n",
        "    \n",
        "    j = get_metrics_score(model,X_train_un,X_test,y_train_un,y_test,False)\n",
        "    acc_train.append(j[0])\n",
        "    acc_test.append(j[1])\n",
        "    recall_train.append(j[2])\n",
        "    recall_test.append(j[3])\n",
        "    precision_train.append(j[4])\n",
        "    precision_test.append(j[5])"
      ],
      "execution_count": null,
      "outputs": []
    },
    {
      "cell_type": "code",
      "metadata": {
        "colab": {
          "base_uri": "https://localhost:8080/",
          "height": 293
        },
        "id": "lzHkCE3cyZsJ",
        "outputId": "08756a19-707e-4008-ba3b-cd4915f07da4"
      },
      "source": [
        "comparison_frame = pd.DataFrame({'Model':['Logistic Regression','Logistic Regression on Oversampled data',\n",
        "                                          'Logistic Regression-Regularized (Oversampled data)','Logistic Regression on Undersampled data'], \n",
        "                                          'Train_Accuracy': acc_train,'Test_Accuracy': acc_test,\n",
        "                                          'Train_Recall':recall_train,'Test_Recall':recall_test,\n",
        "                                          'Train_Precision':precision_train,'Test_Precision':precision_test}) \n",
        "\n",
        "#Sorting models in decreasing order of test recall\n",
        "comparison_frame"
      ],
      "execution_count": null,
      "outputs": [
        {
          "output_type": "execute_result",
          "data": {
            "text/html": [
              "<div>\n",
              "<style scoped>\n",
              "    .dataframe tbody tr th:only-of-type {\n",
              "        vertical-align: middle;\n",
              "    }\n",
              "\n",
              "    .dataframe tbody tr th {\n",
              "        vertical-align: top;\n",
              "    }\n",
              "\n",
              "    .dataframe thead th {\n",
              "        text-align: right;\n",
              "    }\n",
              "</style>\n",
              "<table border=\"1\" class=\"dataframe\">\n",
              "  <thead>\n",
              "    <tr style=\"text-align: right;\">\n",
              "      <th></th>\n",
              "      <th>Model</th>\n",
              "      <th>Train_Accuracy</th>\n",
              "      <th>Test_Accuracy</th>\n",
              "      <th>Train_Recall</th>\n",
              "      <th>Test_Recall</th>\n",
              "      <th>Train_Precision</th>\n",
              "      <th>Test_Precision</th>\n",
              "    </tr>\n",
              "  </thead>\n",
              "  <tbody>\n",
              "    <tr>\n",
              "      <th>0</th>\n",
              "      <td>Logistic Regression</td>\n",
              "      <td>0.766667</td>\n",
              "      <td>0.760786</td>\n",
              "      <td>0.266447</td>\n",
              "      <td>0.258897</td>\n",
              "      <td>0.568602</td>\n",
              "      <td>0.542398</td>\n",
              "    </tr>\n",
              "    <tr>\n",
              "      <th>1</th>\n",
              "      <td>Logistic Regression on Oversampled data</td>\n",
              "      <td>0.728740</td>\n",
              "      <td>0.729297</td>\n",
              "      <td>0.692927</td>\n",
              "      <td>0.639916</td>\n",
              "      <td>0.746388</td>\n",
              "      <td>0.468574</td>\n",
              "    </tr>\n",
              "    <tr>\n",
              "      <th>2</th>\n",
              "      <td>Logistic Regression-Regularized (Oversampled d...</td>\n",
              "      <td>0.713789</td>\n",
              "      <td>0.720598</td>\n",
              "      <td>0.673952</td>\n",
              "      <td>0.625262</td>\n",
              "      <td>0.732297</td>\n",
              "      <td>0.455980</td>\n",
              "    </tr>\n",
              "    <tr>\n",
              "      <th>3</th>\n",
              "      <td>Logistic Regression on Undersampled data</td>\n",
              "      <td>0.708433</td>\n",
              "      <td>0.729123</td>\n",
              "      <td>0.648325</td>\n",
              "      <td>0.644801</td>\n",
              "      <td>0.736914</td>\n",
              "      <td>0.468560</td>\n",
              "    </tr>\n",
              "  </tbody>\n",
              "</table>\n",
              "</div>"
            ],
            "text/plain": [
              "                                               Model  ...  Test_Precision\n",
              "0                                Logistic Regression  ...        0.542398\n",
              "1            Logistic Regression on Oversampled data  ...        0.468574\n",
              "2  Logistic Regression-Regularized (Oversampled d...  ...        0.455980\n",
              "3           Logistic Regression on Undersampled data  ...        0.468560\n",
              "\n",
              "[4 rows x 7 columns]"
            ]
          },
          "metadata": {
            "tags": []
          },
          "execution_count": 289
        }
      ]
    },
    {
      "cell_type": "markdown",
      "metadata": {
        "id": "tIks_N0IyZsJ"
      },
      "source": [
        "* Logistic regression model on undersampled data has given a generalized performance with the highest recall on test data."
      ]
    },
    {
      "cell_type": "markdown",
      "metadata": {
        "id": "e_bQ9HvAyZsJ"
      },
      "source": [
        "### Finding the coefficients"
      ]
    },
    {
      "cell_type": "code",
      "metadata": {
        "scrolled": true,
        "colab": {
          "base_uri": "https://localhost:8080/",
          "height": 1000
        },
        "id": "Oy_acx2tyZsJ",
        "outputId": "cb2c13c2-7421-4df1-a16c-30ee74eedc0a"
      },
      "source": [
        "log_reg_under.coef_[0]\n",
        "pd.DataFrame(log_odds, columns=['coef'])"
      ],
      "execution_count": null,
      "outputs": [
        {
          "output_type": "execute_result",
          "data": {
            "text/html": [
              "<div>\n",
              "<style scoped>\n",
              "    .dataframe tbody tr th:only-of-type {\n",
              "        vertical-align: middle;\n",
              "    }\n",
              "\n",
              "    .dataframe tbody tr th {\n",
              "        vertical-align: top;\n",
              "    }\n",
              "\n",
              "    .dataframe thead th {\n",
              "        text-align: right;\n",
              "    }\n",
              "</style>\n",
              "<table border=\"1\" class=\"dataframe\">\n",
              "  <thead>\n",
              "    <tr style=\"text-align: right;\">\n",
              "      <th></th>\n",
              "      <th>coef</th>\n",
              "    </tr>\n",
              "  </thead>\n",
              "  <tbody>\n",
              "    <tr>\n",
              "      <th>0</th>\n",
              "      <td>-0.510243</td>\n",
              "    </tr>\n",
              "    <tr>\n",
              "      <th>1</th>\n",
              "      <td>-0.000733</td>\n",
              "    </tr>\n",
              "    <tr>\n",
              "      <th>2</th>\n",
              "      <td>-1.549842</td>\n",
              "    </tr>\n",
              "    <tr>\n",
              "      <th>3</th>\n",
              "      <td>-1.476177</td>\n",
              "    </tr>\n",
              "    <tr>\n",
              "      <th>4</th>\n",
              "      <td>-0.176546</td>\n",
              "    </tr>\n",
              "    <tr>\n",
              "      <th>5</th>\n",
              "      <td>0.314804</td>\n",
              "    </tr>\n",
              "    <tr>\n",
              "      <th>6</th>\n",
              "      <td>0.378195</td>\n",
              "    </tr>\n",
              "    <tr>\n",
              "      <th>7</th>\n",
              "      <td>-0.381863</td>\n",
              "    </tr>\n",
              "    <tr>\n",
              "      <th>8</th>\n",
              "      <td>-0.387286</td>\n",
              "    </tr>\n",
              "    <tr>\n",
              "      <th>9</th>\n",
              "      <td>-0.647542</td>\n",
              "    </tr>\n",
              "    <tr>\n",
              "      <th>10</th>\n",
              "      <td>-0.257330</td>\n",
              "    </tr>\n",
              "    <tr>\n",
              "      <th>11</th>\n",
              "      <td>-0.399648</td>\n",
              "    </tr>\n",
              "    <tr>\n",
              "      <th>12</th>\n",
              "      <td>-0.833761</td>\n",
              "    </tr>\n",
              "    <tr>\n",
              "      <th>13</th>\n",
              "      <td>0.078954</td>\n",
              "    </tr>\n",
              "    <tr>\n",
              "      <th>14</th>\n",
              "      <td>0.308586</td>\n",
              "    </tr>\n",
              "    <tr>\n",
              "      <th>15</th>\n",
              "      <td>0.204554</td>\n",
              "    </tr>\n",
              "    <tr>\n",
              "      <th>16</th>\n",
              "      <td>0.010850</td>\n",
              "    </tr>\n",
              "    <tr>\n",
              "      <th>17</th>\n",
              "      <td>0.079319</td>\n",
              "    </tr>\n",
              "    <tr>\n",
              "      <th>18</th>\n",
              "      <td>0.057621</td>\n",
              "    </tr>\n",
              "    <tr>\n",
              "      <th>19</th>\n",
              "      <td>0.078206</td>\n",
              "    </tr>\n",
              "    <tr>\n",
              "      <th>20</th>\n",
              "      <td>-0.217546</td>\n",
              "    </tr>\n",
              "    <tr>\n",
              "      <th>21</th>\n",
              "      <td>0.020707</td>\n",
              "    </tr>\n",
              "    <tr>\n",
              "      <th>22</th>\n",
              "      <td>0.022256</td>\n",
              "    </tr>\n",
              "    <tr>\n",
              "      <th>23</th>\n",
              "      <td>-0.053374</td>\n",
              "    </tr>\n",
              "    <tr>\n",
              "      <th>24</th>\n",
              "      <td>-0.365190</td>\n",
              "    </tr>\n",
              "    <tr>\n",
              "      <th>25</th>\n",
              "      <td>-0.281004</td>\n",
              "    </tr>\n",
              "    <tr>\n",
              "      <th>26</th>\n",
              "      <td>-0.059473</td>\n",
              "    </tr>\n",
              "    <tr>\n",
              "      <th>27</th>\n",
              "      <td>-0.207440</td>\n",
              "    </tr>\n",
              "    <tr>\n",
              "      <th>28</th>\n",
              "      <td>0.060512</td>\n",
              "    </tr>\n",
              "    <tr>\n",
              "      <th>29</th>\n",
              "      <td>0.162433</td>\n",
              "    </tr>\n",
              "    <tr>\n",
              "      <th>30</th>\n",
              "      <td>0.105921</td>\n",
              "    </tr>\n",
              "    <tr>\n",
              "      <th>31</th>\n",
              "      <td>0.256574</td>\n",
              "    </tr>\n",
              "    <tr>\n",
              "      <th>32</th>\n",
              "      <td>0.061948</td>\n",
              "    </tr>\n",
              "    <tr>\n",
              "      <th>33</th>\n",
              "      <td>0.065963</td>\n",
              "    </tr>\n",
              "    <tr>\n",
              "      <th>34</th>\n",
              "      <td>0.090757</td>\n",
              "    </tr>\n",
              "    <tr>\n",
              "      <th>35</th>\n",
              "      <td>-0.048004</td>\n",
              "    </tr>\n",
              "    <tr>\n",
              "      <th>36</th>\n",
              "      <td>-0.098436</td>\n",
              "    </tr>\n",
              "    <tr>\n",
              "      <th>37</th>\n",
              "      <td>0.558549</td>\n",
              "    </tr>\n",
              "    <tr>\n",
              "      <th>38</th>\n",
              "      <td>-0.174797</td>\n",
              "    </tr>\n",
              "    <tr>\n",
              "      <th>39</th>\n",
              "      <td>0.210467</td>\n",
              "    </tr>\n",
              "    <tr>\n",
              "      <th>40</th>\n",
              "      <td>0.549856</td>\n",
              "    </tr>\n",
              "    <tr>\n",
              "      <th>41</th>\n",
              "      <td>0.463874</td>\n",
              "    </tr>\n",
              "    <tr>\n",
              "      <th>42</th>\n",
              "      <td>0.010402</td>\n",
              "    </tr>\n",
              "    <tr>\n",
              "      <th>43</th>\n",
              "      <td>-0.122124</td>\n",
              "    </tr>\n",
              "    <tr>\n",
              "      <th>44</th>\n",
              "      <td>0.202486</td>\n",
              "    </tr>\n",
              "    <tr>\n",
              "      <th>45</th>\n",
              "      <td>-0.187706</td>\n",
              "    </tr>\n",
              "    <tr>\n",
              "      <th>46</th>\n",
              "      <td>0.269512</td>\n",
              "    </tr>\n",
              "    <tr>\n",
              "      <th>47</th>\n",
              "      <td>-0.469561</td>\n",
              "    </tr>\n",
              "    <tr>\n",
              "      <th>48</th>\n",
              "      <td>0.274949</td>\n",
              "    </tr>\n",
              "    <tr>\n",
              "      <th>49</th>\n",
              "      <td>-0.100699</td>\n",
              "    </tr>\n",
              "    <tr>\n",
              "      <th>50</th>\n",
              "      <td>-0.239004</td>\n",
              "    </tr>\n",
              "    <tr>\n",
              "      <th>51</th>\n",
              "      <td>-0.033017</td>\n",
              "    </tr>\n",
              "    <tr>\n",
              "      <th>52</th>\n",
              "      <td>0.049403</td>\n",
              "    </tr>\n",
              "    <tr>\n",
              "      <th>53</th>\n",
              "      <td>0.161725</td>\n",
              "    </tr>\n",
              "    <tr>\n",
              "      <th>54</th>\n",
              "      <td>0.063900</td>\n",
              "    </tr>\n",
              "    <tr>\n",
              "      <th>55</th>\n",
              "      <td>-0.310474</td>\n",
              "    </tr>\n",
              "  </tbody>\n",
              "</table>\n",
              "</div>"
            ],
            "text/plain": [
              "        coef\n",
              "0  -0.510243\n",
              "1  -0.000733\n",
              "2  -1.549842\n",
              "3  -1.476177\n",
              "4  -0.176546\n",
              "5   0.314804\n",
              "6   0.378195\n",
              "7  -0.381863\n",
              "8  -0.387286\n",
              "9  -0.647542\n",
              "10 -0.257330\n",
              "11 -0.399648\n",
              "12 -0.833761\n",
              "13  0.078954\n",
              "14  0.308586\n",
              "15  0.204554\n",
              "16  0.010850\n",
              "17  0.079319\n",
              "18  0.057621\n",
              "19  0.078206\n",
              "20 -0.217546\n",
              "21  0.020707\n",
              "22  0.022256\n",
              "23 -0.053374\n",
              "24 -0.365190\n",
              "25 -0.281004\n",
              "26 -0.059473\n",
              "27 -0.207440\n",
              "28  0.060512\n",
              "29  0.162433\n",
              "30  0.105921\n",
              "31  0.256574\n",
              "32  0.061948\n",
              "33  0.065963\n",
              "34  0.090757\n",
              "35 -0.048004\n",
              "36 -0.098436\n",
              "37  0.558549\n",
              "38 -0.174797\n",
              "39  0.210467\n",
              "40  0.549856\n",
              "41  0.463874\n",
              "42  0.010402\n",
              "43 -0.122124\n",
              "44  0.202486\n",
              "45 -0.187706\n",
              "46  0.269512\n",
              "47 -0.469561\n",
              "48  0.274949\n",
              "49 -0.100699\n",
              "50 -0.239004\n",
              "51 -0.033017\n",
              "52  0.049403\n",
              "53  0.161725\n",
              "54  0.063900\n",
              "55 -0.310474"
            ]
          },
          "metadata": {
            "tags": []
          },
          "execution_count": 97
        }
      ]
    },
    {
      "cell_type": "markdown",
      "metadata": {
        "id": "4KKQn-r-yZsJ"
      },
      "source": [
        "###  Converting coefficients to odds"
      ]
    },
    {
      "cell_type": "code",
      "metadata": {
        "scrolled": false,
        "colab": {
          "base_uri": "https://localhost:8080/",
          "height": 99
        },
        "id": "e9pk7demyZsJ",
        "outputId": "2665a565-3e6b-412b-cf31-b942c526cad0"
      },
      "source": [
        "odds = np.exp(log_reg_under.coef_[0])-1\n",
        "pd.set_option('display.max_rows',None)\n",
        "pd.DataFrame(odds,columns=['odds']).T"
      ],
      "execution_count": null,
      "outputs": [
        {
          "output_type": "execute_result",
          "data": {
            "text/html": [
              "<div>\n",
              "<style scoped>\n",
              "    .dataframe tbody tr th:only-of-type {\n",
              "        vertical-align: middle;\n",
              "    }\n",
              "\n",
              "    .dataframe tbody tr th {\n",
              "        vertical-align: top;\n",
              "    }\n",
              "\n",
              "    .dataframe thead th {\n",
              "        text-align: right;\n",
              "    }\n",
              "</style>\n",
              "<table border=\"1\" class=\"dataframe\">\n",
              "  <thead>\n",
              "    <tr style=\"text-align: right;\">\n",
              "      <th></th>\n",
              "      <th>0</th>\n",
              "      <th>1</th>\n",
              "      <th>2</th>\n",
              "      <th>3</th>\n",
              "      <th>4</th>\n",
              "      <th>5</th>\n",
              "      <th>6</th>\n",
              "      <th>7</th>\n",
              "      <th>8</th>\n",
              "      <th>9</th>\n",
              "      <th>10</th>\n",
              "      <th>11</th>\n",
              "      <th>12</th>\n",
              "      <th>13</th>\n",
              "      <th>14</th>\n",
              "      <th>15</th>\n",
              "      <th>16</th>\n",
              "      <th>17</th>\n",
              "      <th>18</th>\n",
              "      <th>19</th>\n",
              "      <th>20</th>\n",
              "      <th>21</th>\n",
              "      <th>22</th>\n",
              "      <th>23</th>\n",
              "      <th>24</th>\n",
              "      <th>25</th>\n",
              "      <th>26</th>\n",
              "      <th>27</th>\n",
              "      <th>28</th>\n",
              "      <th>29</th>\n",
              "      <th>30</th>\n",
              "      <th>31</th>\n",
              "      <th>32</th>\n",
              "      <th>33</th>\n",
              "      <th>34</th>\n",
              "      <th>35</th>\n",
              "      <th>36</th>\n",
              "      <th>37</th>\n",
              "      <th>38</th>\n",
              "      <th>39</th>\n",
              "      <th>40</th>\n",
              "      <th>41</th>\n",
              "      <th>42</th>\n",
              "      <th>43</th>\n",
              "      <th>44</th>\n",
              "      <th>45</th>\n",
              "      <th>46</th>\n",
              "      <th>47</th>\n",
              "      <th>48</th>\n",
              "      <th>49</th>\n",
              "      <th>50</th>\n",
              "      <th>51</th>\n",
              "      <th>52</th>\n",
              "      <th>53</th>\n",
              "      <th>54</th>\n",
              "      <th>55</th>\n",
              "    </tr>\n",
              "  </thead>\n",
              "  <tbody>\n",
              "    <tr>\n",
              "      <th>odds</th>\n",
              "      <td>-0.399651</td>\n",
              "      <td>-0.000733</td>\n",
              "      <td>-0.787719</td>\n",
              "      <td>-0.77149</td>\n",
              "      <td>-0.16184</td>\n",
              "      <td>0.369991</td>\n",
              "      <td>0.459647</td>\n",
              "      <td>-0.317411</td>\n",
              "      <td>-0.321103</td>\n",
              "      <td>-0.47667</td>\n",
              "      <td>-0.226887</td>\n",
              "      <td>-0.329444</td>\n",
              "      <td>-0.565588</td>\n",
              "      <td>0.082155</td>\n",
              "      <td>0.361499</td>\n",
              "      <td>0.226977</td>\n",
              "      <td>0.010909</td>\n",
              "      <td>0.082549</td>\n",
              "      <td>0.059313</td>\n",
              "      <td>0.081346</td>\n",
              "      <td>-0.195509</td>\n",
              "      <td>0.020923</td>\n",
              "      <td>0.022505</td>\n",
              "      <td>-0.051975</td>\n",
              "      <td>-0.305935</td>\n",
              "      <td>-0.244975</td>\n",
              "      <td>-0.057739</td>\n",
              "      <td>-0.187338</td>\n",
              "      <td>0.06238</td>\n",
              "      <td>0.176369</td>\n",
              "      <td>0.111735</td>\n",
              "      <td>0.292494</td>\n",
              "      <td>0.063907</td>\n",
              "      <td>0.068187</td>\n",
              "      <td>0.095003</td>\n",
              "      <td>-0.04687</td>\n",
              "      <td>-0.093747</td>\n",
              "      <td>0.748134</td>\n",
              "      <td>-0.160373</td>\n",
              "      <td>0.234254</td>\n",
              "      <td>0.733003</td>\n",
              "      <td>0.590223</td>\n",
              "      <td>0.010456</td>\n",
              "      <td>-0.114961</td>\n",
              "      <td>0.224442</td>\n",
              "      <td>-0.171142</td>\n",
              "      <td>0.309325</td>\n",
              "      <td>-0.374724</td>\n",
              "      <td>0.316463</td>\n",
              "      <td>-0.095795</td>\n",
              "      <td>-0.212588</td>\n",
              "      <td>-0.032478</td>\n",
              "      <td>0.050644</td>\n",
              "      <td>0.175537</td>\n",
              "      <td>0.065986</td>\n",
              "      <td>-0.2669</td>\n",
              "    </tr>\n",
              "  </tbody>\n",
              "</table>\n",
              "</div>"
            ],
            "text/plain": [
              "            0         1         2   ...        53        54      55\n",
              "odds -0.399651 -0.000733 -0.787719  ...  0.175537  0.065986 -0.2669\n",
              "\n",
              "[1 rows x 56 columns]"
            ]
          },
          "metadata": {
            "tags": []
          },
          "execution_count": 290
        }
      ]
    },
    {
      "cell_type": "markdown",
      "metadata": {
        "id": "GKdmqOF6yZsK"
      },
      "source": [
        "### Conclusion"
      ]
    },
    {
      "cell_type": "markdown",
      "metadata": {
        "id": "XGhFI4BbyZsK"
      },
      "source": [
        "* city_developement_index: For a one-unit increase in the city development index, we expect to see about a 34% decrease in the odds of a person looking for a job change.\n",
        "\n",
        "* training_hours: For a one-unit increase in the training hours, we expect to see about a 0.1% decrease in the odds of a person looking for a job change.\n",
        "\n",
        "* city - developing/developed: The odds of a person who is from a developing city looking for a job change is 79% lower than a person who is from an under-developed city. Similarly, The odds of a person who is from a developed city looking for a job change is 78% lower than a person who is from an under-developed city. (keeping under-developed cities as a reference).\n",
        "\n",
        "* gender - male/other -  The odds of a male looking for a job change is 18% lower than a female. Similarly, The odds of a person from 'other' gender looking for a job change is 36% higher than a female. (keeping females as a reference).\n",
        "\n",
        "* relevent experience - No relevant experience: The odds of a person who has no relevant job experience looking for a job change is 46% higher than a person who has some relevant experience.\n",
        "\n",
        "`Interpretation for other attributes can be made in a similar fashion.`"
      ]
    },
    {
      "cell_type": "code",
      "metadata": {
        "id": "eQRaYRHH79UQ"
      },
      "source": [
        "import numpy as np\n",
        "from sklearn.impute import KNNImputer\n",
        "X = [[1, 2, np.nan], [3, 4, 3], [np.nan, 6, 5], [8, 8, 7]]\n"
      ],
      "execution_count": null,
      "outputs": []
    },
    {
      "cell_type": "code",
      "metadata": {
        "colab": {
          "base_uri": "https://localhost:8080/"
        },
        "id": "e8k9zEPQ8GnI",
        "outputId": "53179c27-48fd-4a97-b55d-3d3a1f00e099"
      },
      "source": [
        "X"
      ],
      "execution_count": null,
      "outputs": [
        {
          "output_type": "execute_result",
          "data": {
            "text/plain": [
              "[[1, 2, nan], [3, 4, 3], [nan, 6, 5], [8, 8, 7]]"
            ]
          },
          "metadata": {
            "tags": []
          },
          "execution_count": 103
        }
      ]
    },
    {
      "cell_type": "code",
      "metadata": {
        "colab": {
          "base_uri": "https://localhost:8080/"
        },
        "id": "qWj7OsVl8IDG",
        "outputId": "32336360-b453-49bc-dd60-a2de5c955032"
      },
      "source": [
        "imputer = KNNImputer(n_neighbors=2)\n",
        "imputer.fit_transform(X)\n"
      ],
      "execution_count": null,
      "outputs": [
        {
          "output_type": "execute_result",
          "data": {
            "text/plain": [
              "array([[1. , 2. , 4. ],\n",
              "       [3. , 4. , 3. ],\n",
              "       [5.5, 6. , 5. ],\n",
              "       [8. , 8. , 7. ]])"
            ]
          },
          "metadata": {
            "tags": []
          },
          "execution_count": 104
        }
      ]
    },
    {
      "cell_type": "markdown",
      "metadata": {
        "id": "PyqJ4nWVyZsK"
      },
      "source": [
        "### Business Insights and Recommendations"
      ]
    },
    {
      "cell_type": "markdown",
      "metadata": {
        "id": "wGRCWeqiyZsK"
      },
      "source": [
        "* As we saw in our analysis and also the logistic regression model shows that several training hours have a very less impact on a person looking to change a job, so the company should not give high importance to this attribute while looking to hire a person.\n",
        "* A person from an under-developed city would highly be looking for a switch and if an enrollee fulfills the criterion of job role they should be given higher preference than enrollees from other cities (developed and underdeveloped).\n",
        "* To have a diverse culture in the company enrollees from other genders can be hired as they are more likely to look for a new job role.\n",
        "* Enrollees with no relevant experience or no experience - generally freshers are more likely to look for a job and such enrollees on fulfilling the criterion of job should be the ones the company should focus on.\n",
        "* Enrollees from early-stage startups, public sectors, or NGOs are more likely to switch to a new role as compared to the ones from the Private sector or Funded startups.\n",
        "* Company size is an important aspect, those enrollees who have been in a company with a higher number of employees (1000-5000 or 10000+) are the ones who are actively looking for a switch - Such enrollees might now be looking for higher roles in team management, or it is much easier for such enrollees to fit into a workplace with so higher exposure to working environment."
      ]
    },
    {
      "cell_type": "markdown",
      "metadata": {
        "id": "fQAjUpPlyZsK"
      },
      "source": [
        "**Note-**\n",
        "* The aim of this case study is to cover the concepts of week 1 in model tuning, More predictive models and hyperparameter tuning can be tried to improve the model results."
      ]
    },
    {
      "cell_type": "code",
      "metadata": {
        "id": "SxPpXOsuyZsK"
      },
      "source": [
        ""
      ],
      "execution_count": null,
      "outputs": []
    }
  ]
}