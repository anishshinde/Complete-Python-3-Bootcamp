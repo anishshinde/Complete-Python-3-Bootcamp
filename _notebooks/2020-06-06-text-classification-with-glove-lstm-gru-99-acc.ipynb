{
  "nbformat": 4,
  "nbformat_minor": 0,
  "metadata": {
    "kernelspec": {
      "display_name": "Python 3",
      "language": "python",
      "name": "python3"
    },
    "language_info": {
      "codemirror_mode": {
        "name": "ipython",
        "version": 3
      },
      "file_extension": ".py",
      "mimetype": "text/x-python",
      "name": "python",
      "nbconvert_exporter": "python",
      "pygments_lexer": "ipython3",
      "version": "3.7.6"
    },
    "colab": {
      "name": "2020-06-06-text-classification-with-glove-lstm-gru-99-acc.ipynb",
      "provenance": []
    }
  },
  "cells": [
    {
      "cell_type": "markdown",
      "metadata": {
        "id": "Qn-axE8m0XZC"
      },
      "source": [
        "# How to Detect Fake and Real News with Natural Language Processing\n",
        "> An NLP guide to text classification with GloVe word embedding, and Deep Learning\n",
        "\n",
        "- toc: true \n",
        "- badges: true\n",
        "- comments: true\n",
        "- categories: [nlp]"
      ]
    },
    {
      "cell_type": "markdown",
      "metadata": {
        "id": "uHre-EOB0XZF"
      },
      "source": [
        "![](https://github.com/Sepiafs/sepidehdoost/blob/master/_notebooks/images/fakenews.jpg?raw=1)"
      ]
    },
    {
      "cell_type": "markdown",
      "metadata": {
        "id": "KH21G6bI0XZG"
      },
      "source": [
        "I have recently taken a great NLP course by deeplearning.ai (Andrew Ng) called \"Sequence Models\". I always like to start a new project after learning a new skill. So, I found this interesting dataset in Kaggle [Fake and real news dataset](https://www.kaggle.com/clmentbisaillon/fake-and-real-news-dataset). The objective is to make an algorithm able to determine if an article is fake news or not.\n",
        "\n",
        "I applied my learnings on this dataset and hope in this way I can share what I learned with you. "
      ]
    },
    {
      "cell_type": "markdown",
      "metadata": {
        "id": "qvCSu9AW0XZG"
      },
      "source": [
        "# Solution Framework\n",
        "There are two csv files in this Kaggle datatset each containing a list of articles considered as \"fake\" and \"real\" news.\n",
        "\n",
        "The picture below shows the steps we will be taking in order. We'll explain the details of each step throughout the notebook.\n",
        "\n",
        "![](https://github.com/Sepiafs/sepidehdoost/blob/master/_notebooks/images/solutionframework.png?raw=1)\n",
        "\n",
        "\n",
        "\n",
        "\n"
      ]
    },
    {
      "cell_type": "code",
      "metadata": {
        "id": "JvO9DOCj0XZH",
        "outputId": "7be8d948-4189-4b83-c80c-3c0ff538cbba"
      },
      "source": [
        "# Input data files are available in the \"../input/\" directory.\n",
        "# For example, running this (by clicking run or pressing Shift+Enter) will list all files under the input directory\n",
        "\n",
        "import os\n",
        "for dirname, _, filenames in os.walk('/kaggle/input'):\n",
        "    for filename in filenames:\n",
        "        print(os.path.join(dirname, filename))\n",
        "\n",
        "# Any results you write to the current directory are saved as output."
      ],
      "execution_count": null,
      "outputs": [
        {
          "output_type": "stream",
          "text": [
            "/kaggle/input/fake-and-real-news-dataset/True.csv\n",
            "/kaggle/input/fake-and-real-news-dataset/Fake.csv\n",
            "/kaggle/input/glove42b300dtxt/glove.42B.300d.txt\n"
          ],
          "name": "stdout"
        }
      ]
    },
    {
      "cell_type": "markdown",
      "metadata": {
        "id": "goLVy_fI0XZI"
      },
      "source": [
        "## Loading the required libraries"
      ]
    },
    {
      "cell_type": "code",
      "metadata": {
        "id": "6YDIxUB50XZJ"
      },
      "source": [
        "#for data analysis and modeling\n",
        "import tensorflow as tf\n",
        "from tensorflow.keras.layers import LSTM, GRU, Dense, Embedding, Dropout\n",
        "from tensorflow.keras.preprocessing import text, sequence \n",
        "from tensorflow.keras.models import Sequential\n",
        "from sklearn.model_selection import train_test_split\n",
        "import pandas as pd\n",
        "import numpy as np\n",
        "#for text cleaning\n",
        "import string\n",
        "import re\n",
        "import nltk\n",
        "from nltk.tokenize import word_tokenize\n",
        "from nltk.corpus import stopwords\n",
        "#for visualization\n",
        "import matplotlib.pyplot as plt\n"
      ],
      "execution_count": null,
      "outputs": []
    },
    {
      "cell_type": "markdown",
      "metadata": {
        "id": "iiWUJtUi0XZJ"
      },
      "source": [
        "# Loading data and visualizing"
      ]
    },
    {
      "cell_type": "code",
      "metadata": {
        "id": "y0kWnWRh0XZK",
        "outputId": "e27700dc-d1c5-4ded-832b-ee86e007921b"
      },
      "source": [
        "true = pd.read_csv('/kaggle/input/fake-and-real-news-dataset/True.csv')\n",
        "true.head()"
      ],
      "execution_count": null,
      "outputs": [
        {
          "output_type": "execute_result",
          "data": {
            "text/html": [
              "<div>\n",
              "<style scoped>\n",
              "    .dataframe tbody tr th:only-of-type {\n",
              "        vertical-align: middle;\n",
              "    }\n",
              "\n",
              "    .dataframe tbody tr th {\n",
              "        vertical-align: top;\n",
              "    }\n",
              "\n",
              "    .dataframe thead th {\n",
              "        text-align: right;\n",
              "    }\n",
              "</style>\n",
              "<table border=\"1\" class=\"dataframe\">\n",
              "  <thead>\n",
              "    <tr style=\"text-align: right;\">\n",
              "      <th></th>\n",
              "      <th>title</th>\n",
              "      <th>text</th>\n",
              "      <th>subject</th>\n",
              "      <th>date</th>\n",
              "    </tr>\n",
              "  </thead>\n",
              "  <tbody>\n",
              "    <tr>\n",
              "      <th>0</th>\n",
              "      <td>As U.S. budget fight looms, Republicans flip t...</td>\n",
              "      <td>WASHINGTON (Reuters) - The head of a conservat...</td>\n",
              "      <td>politicsNews</td>\n",
              "      <td>December 31, 2017</td>\n",
              "    </tr>\n",
              "    <tr>\n",
              "      <th>1</th>\n",
              "      <td>U.S. military to accept transgender recruits o...</td>\n",
              "      <td>WASHINGTON (Reuters) - Transgender people will...</td>\n",
              "      <td>politicsNews</td>\n",
              "      <td>December 29, 2017</td>\n",
              "    </tr>\n",
              "    <tr>\n",
              "      <th>2</th>\n",
              "      <td>Senior U.S. Republican senator: 'Let Mr. Muell...</td>\n",
              "      <td>WASHINGTON (Reuters) - The special counsel inv...</td>\n",
              "      <td>politicsNews</td>\n",
              "      <td>December 31, 2017</td>\n",
              "    </tr>\n",
              "    <tr>\n",
              "      <th>3</th>\n",
              "      <td>FBI Russia probe helped by Australian diplomat...</td>\n",
              "      <td>WASHINGTON (Reuters) - Trump campaign adviser ...</td>\n",
              "      <td>politicsNews</td>\n",
              "      <td>December 30, 2017</td>\n",
              "    </tr>\n",
              "    <tr>\n",
              "      <th>4</th>\n",
              "      <td>Trump wants Postal Service to charge 'much mor...</td>\n",
              "      <td>SEATTLE/WASHINGTON (Reuters) - President Donal...</td>\n",
              "      <td>politicsNews</td>\n",
              "      <td>December 29, 2017</td>\n",
              "    </tr>\n",
              "  </tbody>\n",
              "</table>\n",
              "</div>"
            ],
            "text/plain": [
              "                                               title  \\\n",
              "0  As U.S. budget fight looms, Republicans flip t...   \n",
              "1  U.S. military to accept transgender recruits o...   \n",
              "2  Senior U.S. Republican senator: 'Let Mr. Muell...   \n",
              "3  FBI Russia probe helped by Australian diplomat...   \n",
              "4  Trump wants Postal Service to charge 'much mor...   \n",
              "\n",
              "                                                text       subject  \\\n",
              "0  WASHINGTON (Reuters) - The head of a conservat...  politicsNews   \n",
              "1  WASHINGTON (Reuters) - Transgender people will...  politicsNews   \n",
              "2  WASHINGTON (Reuters) - The special counsel inv...  politicsNews   \n",
              "3  WASHINGTON (Reuters) - Trump campaign adviser ...  politicsNews   \n",
              "4  SEATTLE/WASHINGTON (Reuters) - President Donal...  politicsNews   \n",
              "\n",
              "                 date  \n",
              "0  December 31, 2017   \n",
              "1  December 29, 2017   \n",
              "2  December 31, 2017   \n",
              "3  December 30, 2017   \n",
              "4  December 29, 2017   "
            ]
          },
          "metadata": {
            "tags": []
          },
          "execution_count": 3
        }
      ]
    },
    {
      "cell_type": "code",
      "metadata": {
        "id": "ZZJILlw20XZK",
        "outputId": "0eb7719c-5cee-4abd-ec0d-2512efbfbba6"
      },
      "source": [
        "fake = pd.read_csv('/kaggle/input/fake-and-real-news-dataset/Fake.csv')\n",
        "fake.head()"
      ],
      "execution_count": null,
      "outputs": [
        {
          "output_type": "execute_result",
          "data": {
            "text/html": [
              "<div>\n",
              "<style scoped>\n",
              "    .dataframe tbody tr th:only-of-type {\n",
              "        vertical-align: middle;\n",
              "    }\n",
              "\n",
              "    .dataframe tbody tr th {\n",
              "        vertical-align: top;\n",
              "    }\n",
              "\n",
              "    .dataframe thead th {\n",
              "        text-align: right;\n",
              "    }\n",
              "</style>\n",
              "<table border=\"1\" class=\"dataframe\">\n",
              "  <thead>\n",
              "    <tr style=\"text-align: right;\">\n",
              "      <th></th>\n",
              "      <th>title</th>\n",
              "      <th>text</th>\n",
              "      <th>subject</th>\n",
              "      <th>date</th>\n",
              "    </tr>\n",
              "  </thead>\n",
              "  <tbody>\n",
              "    <tr>\n",
              "      <th>0</th>\n",
              "      <td>Donald Trump Sends Out Embarrassing New Year’...</td>\n",
              "      <td>Donald Trump just couldn t wish all Americans ...</td>\n",
              "      <td>News</td>\n",
              "      <td>December 31, 2017</td>\n",
              "    </tr>\n",
              "    <tr>\n",
              "      <th>1</th>\n",
              "      <td>Drunk Bragging Trump Staffer Started Russian ...</td>\n",
              "      <td>House Intelligence Committee Chairman Devin Nu...</td>\n",
              "      <td>News</td>\n",
              "      <td>December 31, 2017</td>\n",
              "    </tr>\n",
              "    <tr>\n",
              "      <th>2</th>\n",
              "      <td>Sheriff David Clarke Becomes An Internet Joke...</td>\n",
              "      <td>On Friday, it was revealed that former Milwauk...</td>\n",
              "      <td>News</td>\n",
              "      <td>December 30, 2017</td>\n",
              "    </tr>\n",
              "    <tr>\n",
              "      <th>3</th>\n",
              "      <td>Trump Is So Obsessed He Even Has Obama’s Name...</td>\n",
              "      <td>On Christmas day, Donald Trump announced that ...</td>\n",
              "      <td>News</td>\n",
              "      <td>December 29, 2017</td>\n",
              "    </tr>\n",
              "    <tr>\n",
              "      <th>4</th>\n",
              "      <td>Pope Francis Just Called Out Donald Trump Dur...</td>\n",
              "      <td>Pope Francis used his annual Christmas Day mes...</td>\n",
              "      <td>News</td>\n",
              "      <td>December 25, 2017</td>\n",
              "    </tr>\n",
              "  </tbody>\n",
              "</table>\n",
              "</div>"
            ],
            "text/plain": [
              "                                               title  \\\n",
              "0   Donald Trump Sends Out Embarrassing New Year’...   \n",
              "1   Drunk Bragging Trump Staffer Started Russian ...   \n",
              "2   Sheriff David Clarke Becomes An Internet Joke...   \n",
              "3   Trump Is So Obsessed He Even Has Obama’s Name...   \n",
              "4   Pope Francis Just Called Out Donald Trump Dur...   \n",
              "\n",
              "                                                text subject  \\\n",
              "0  Donald Trump just couldn t wish all Americans ...    News   \n",
              "1  House Intelligence Committee Chairman Devin Nu...    News   \n",
              "2  On Friday, it was revealed that former Milwauk...    News   \n",
              "3  On Christmas day, Donald Trump announced that ...    News   \n",
              "4  Pope Francis used his annual Christmas Day mes...    News   \n",
              "\n",
              "                date  \n",
              "0  December 31, 2017  \n",
              "1  December 31, 2017  \n",
              "2  December 30, 2017  \n",
              "3  December 29, 2017  \n",
              "4  December 25, 2017  "
            ]
          },
          "metadata": {
            "tags": []
          },
          "execution_count": 4
        }
      ]
    },
    {
      "cell_type": "markdown",
      "metadata": {
        "id": "35oOgfp-0XZL"
      },
      "source": [
        "# Combine fake and true dataframes\n",
        "Create a new column 'truth' showing whethere the news is fake or real. Then, concatenate two datasets into one dataframe. We can choose to use either 'title' or 'text' column or concatenated 'title+text' for training. But, for the sake of processing time, we'll only use 'title'.\n"
      ]
    },
    {
      "cell_type": "code",
      "metadata": {
        "id": "cHAA7RBJ0XZL",
        "outputId": "5a1da773-f761-43ba-90aa-7087bb7feff4"
      },
      "source": [
        "true['truth'] = 1\n",
        "fake['truth'] = 0\n",
        "df = pd.concat([true, fake], axis=0, ignore_index=True)\n",
        "df.shape"
      ],
      "execution_count": null,
      "outputs": [
        {
          "output_type": "execute_result",
          "data": {
            "text/plain": [
              "(44898, 5)"
            ]
          },
          "metadata": {
            "tags": []
          },
          "execution_count": 5
        }
      ]
    },
    {
      "cell_type": "markdown",
      "metadata": {
        "id": "CV_9X5P70XZM"
      },
      "source": [
        "# Text Cleaning\n",
        "\n",
        "We need to clean the text first. If you start searching on the text cleaning domain, you realize there are many different techniques. But you may need just a few methods for the purpose of your NLP task. \n",
        "<br>\n",
        "<br>\n",
        "There are many good resources for text clearning. But, I mainly looked up the following resources for my text cleaning in this notebook: <br>\n",
        "https://machinelearningmastery.com/clean-text-machine-learning-python/ <br>\n",
        "https://mlwhiz.com/blog/2019/01/17/deeplearning_nlp_preprocess/<br>\n",
        "<br>\n",
        "Here are 5 steps that give decent text cleaning result for this task:<br>\n",
        "1.\t<b>Replace contractions</b><br>\n",
        "In English, a contraction is a word or phrase that has been shortened by dropping one or more letters, such as “I’m” instead of “I am”. We can either split the contractions (“I’m” to “ I ”+” ’m ”) or convert them to their full format (“I’m ” to “I am”). In my experience the latter works better as it's harder to find a word embedding for sub-words like “ ‘m “.<br>\n",
        "<br>\n",
        "2.\t<b>Removing punctuation</b><br>\n",
        "We want the sentences without punctuations like commas, brackets, etc. Python has a constant called string.punctuation that provides a list of punctuation characters. We’ll use this list to clean our text from punctuations.<br>\n",
        "<br>\n",
        "3.\t<b>Splitting into words</b><br>\n",
        "In order to remove stopwords, we first need to split the text into words. We do this with word_tokenize function by NLTK. This function splits the text based on white space and punctuation.<br>\n",
        "<br>\n",
        "4.\t<b>Removing stopwords</b><br>\n",
        "Stopwords are common words like “the”, “and”, … which don’t add much value to the meaning of the text. NLTK has a list of these words that can be imported and used to remove them from the text.<br>\n",
        "<br>\n",
        "5.\t<b>Removing leftover punctuations</b><br>\n",
        "I noticed after all this cleaning, there were still some words like “…but” with dots in them. I added this last step to clean them up. <br>\n",
        "<br>\n",
        "Normalizing by case is also common practice. But, since we are using keras tokenizer later, we can skip this step as tokenizer does this step by default. There are other preprocessing techniques of text like Stemming, and Lemmatization. However, in the realm of deep learning NLP they are not necessary anymore. \n"
      ]
    },
    {
      "cell_type": "code",
      "metadata": {
        "id": "LpE6U3-g0XZN",
        "outputId": "e00a8bba-bd55-4547-b2b9-1d47c74c2bc5"
      },
      "source": [
        "%%time\n",
        "def clean_text(txt):\n",
        "    \"\"\"\"\"\n",
        "    cleans the input text in the following steps\n",
        "    1- replace contractions\n",
        "    2- removing punctuation\n",
        "    3- spliting into words\n",
        "    4- removing stopwords\n",
        "    5- removing leftover punctuations\n",
        "    \"\"\"\"\"\n",
        "    contraction_dict = {\"ain't\": \"is not\", \"aren't\": \"are not\",\"can't\": \"cannot\", \"'cause\": \"because\", \"could've\": \"could have\", \"couldn't\": \"could not\", \"didn't\": \"did not\",  \"doesn't\": \"does not\", \"don't\": \"do not\", \"hadn't\": \"had not\", \"hasn't\": \"has not\", \"haven't\": \"have not\", \"he'd\": \"he would\",\"he'll\": \"he will\", \"he's\": \"he is\", \"how'd\": \"how did\", \"how'd'y\": \"how do you\", \"how'll\": \"how will\", \"how's\": \"how is\",  \"I'd\": \"I would\", \"I'd've\": \"I would have\", \"I'll\": \"I will\", \"I'll've\": \"I will have\",\"I'm\": \"I am\", \"I've\": \"I have\", \"i'd\": \"i would\", \"i'd've\": \"i would have\", \"i'll\": \"i will\",  \"i'll've\": \"i will have\",\"i'm\": \"i am\", \"i've\": \"i have\", \"isn't\": \"is not\", \"it'd\": \"it would\", \"it'd've\": \"it would have\", \"it'll\": \"it will\", \"it'll've\": \"it will have\",\"it's\": \"it is\", \"let's\": \"let us\", \"ma'am\": \"madam\", \"mayn't\": \"may not\", \"might've\": \"might have\",\"mightn't\": \"might not\",\"mightn't've\": \"might not have\", \"must've\": \"must have\", \"mustn't\": \"must not\", \"mustn't've\": \"must not have\", \"needn't\": \"need not\", \"needn't've\": \"need not have\",\"o'clock\": \"of the clock\", \"oughtn't\": \"ought not\", \"oughtn't've\": \"ought not have\", \"shan't\": \"shall not\", \"sha'n't\": \"shall not\", \"shan't've\": \"shall not have\", \"she'd\": \"she would\", \"she'd've\": \"she would have\", \"she'll\": \"she will\", \"she'll've\": \"she will have\", \"she's\": \"she is\", \"should've\": \"should have\", \"shouldn't\": \"should not\", \"shouldn't've\": \"should not have\", \"so've\": \"so have\",\"so's\": \"so as\", \"this's\": \"this is\",\"that'd\": \"that would\", \"that'd've\": \"that would have\", \"that's\": \"that is\", \"there'd\": \"there would\", \"there'd've\": \"there would have\", \"there's\": \"there is\", \"here's\": \"here is\",\"they'd\": \"they would\", \"they'd've\": \"they would have\", \"they'll\": \"they will\", \"they'll've\": \"they will have\", \"they're\": \"they are\", \"they've\": \"they have\", \"to've\": \"to have\", \"wasn't\": \"was not\", \"we'd\": \"we would\", \"we'd've\": \"we would have\", \"we'll\": \"we will\", \"we'll've\": \"we will have\", \"we're\": \"we are\", \"we've\": \"we have\", \"weren't\": \"were not\", \"what'll\": \"what will\", \"what'll've\": \"what will have\", \"what're\": \"what are\",  \"what's\": \"what is\", \"what've\": \"what have\", \"when's\": \"when is\", \"when've\": \"when have\", \"where'd\": \"where did\", \"where's\": \"where is\", \"where've\": \"where have\", \"who'll\": \"who will\", \"who'll've\": \"who will have\", \"who's\": \"who is\", \"who've\": \"who have\", \"why's\": \"why is\", \"why've\": \"why have\", \"will've\": \"will have\", \"won't\": \"will not\", \"won't've\": \"will not have\", \"would've\": \"would have\", \"wouldn't\": \"would not\", \"wouldn't've\": \"would not have\", \"y'all\": \"you all\", \"y'all'd\": \"you all would\",\"y'all'd've\": \"you all would have\",\"y'all're\": \"you all are\",\"y'all've\": \"you all have\",\"you'd\": \"you would\", \"you'd've\": \"you would have\", \"you'll\": \"you will\", \"you'll've\": \"you will have\", \"you're\": \"you are\", \"you've\": \"you have\"}\n",
        "    def _get_contractions(contraction_dict):\n",
        "        contraction_re = re.compile('(%s)' % '|'.join(contraction_dict.keys()))\n",
        "        return contraction_dict, contraction_re\n",
        "\n",
        "    def replace_contractions(text):\n",
        "        contractions, contractions_re = _get_contractions(contraction_dict)\n",
        "        def replace(match):\n",
        "            return contractions[match.group(0)]\n",
        "        return contractions_re.sub(replace, text)\n",
        "\n",
        "    # replace contractions\n",
        "    txt = replace_contractions(txt)\n",
        "    \n",
        "    #remove punctuations\n",
        "    txt  = \"\".join([char for char in txt if char not in string.punctuation])\n",
        "    txt = re.sub('[0-9]+', '', txt)\n",
        "    \n",
        "    # split into words\n",
        "    words = word_tokenize(txt)\n",
        "    \n",
        "    # remove stopwords\n",
        "    stop_words = set(stopwords.words('english'))\n",
        "    words = [w for w in words if not w in stop_words]\n",
        "    \n",
        "    # removing leftover punctuations\n",
        "    words = [word for word in words if word.isalpha()]\n",
        "    \n",
        "    cleaned_text = ' '.join(words)\n",
        "    return cleaned_text\n",
        "    \n",
        "df['data_cleaned'] = df['title'].apply(lambda txt: clean_text(txt))\n"
      ],
      "execution_count": null,
      "outputs": [
        {
          "output_type": "stream",
          "text": [
            "CPU times: user 20.4 s, sys: 751 ms, total: 21.1 s\n",
            "Wall time: 21.2 s\n"
          ],
          "name": "stdout"
        }
      ]
    },
    {
      "cell_type": "code",
      "metadata": {
        "id": "o4-R4bgb0XZP",
        "outputId": "4c48fe57-16ce-4c99-ed25-5f2bbfa3f4e1"
      },
      "source": [
        "df['data_cleaned']"
      ],
      "execution_count": null,
      "outputs": [
        {
          "output_type": "execute_result",
          "data": {
            "text/plain": [
              "0        As US budget fight looms Republicans flip fisc...\n",
              "1        US military accept transgender recruits Monday...\n",
              "2          Senior US Republican senator Let Mr Mueller job\n",
              "3        FBI Russia probe helped Australian diplomat ti...\n",
              "4        Trump wants Postal Service charge much Amazon ...\n",
              "                               ...                        \n",
              "44893    McPain John McCain Furious That Iran Treated U...\n",
              "44894    JUSTICE Yahoo Settles Email Privacy Classactio...\n",
              "44895    Sunnistan US Allied Safe Zone Plan Take Territ...\n",
              "44896    How Blow Million Al Jazeera America Finally Ca...\n",
              "44897    US Navy Sailors Held Iranian Military Signs Ne...\n",
              "Name: data_cleaned, Length: 44898, dtype: object"
            ]
          },
          "metadata": {
            "tags": []
          },
          "execution_count": 7
        }
      ]
    },
    {
      "cell_type": "markdown",
      "metadata": {
        "id": "3EYv73g_0XZP"
      },
      "source": [
        "# Prepare train and test datasets\n",
        "\n",
        "Use the usual train_test_split by sklearn to split the data. "
      ]
    },
    {
      "cell_type": "code",
      "metadata": {
        "id": "s2ksk4H00XZP",
        "outputId": "cb9b1abc-8ccf-4ec6-87ca-7d637cf62916"
      },
      "source": [
        "xtrain, xtest, ytrain, ytest = train_test_split(df['data_cleaned'], df['truth'], shuffle=True, test_size=0.2)\n",
        "# find the length of the largest sentence in training data\n",
        "max_len = xtrain.apply(lambda x: len(x)).max()\n",
        "print(f'Max number of words in a text in training data: {max_len}')"
      ],
      "execution_count": null,
      "outputs": [
        {
          "output_type": "stream",
          "text": [
            "Max number of words in a text in training data: 227\n"
          ],
          "name": "stdout"
        }
      ]
    },
    {
      "cell_type": "markdown",
      "metadata": {
        "id": "04dkUIID0XZQ"
      },
      "source": [
        "## Tokenize the input training sentences \n",
        "\n",
        "In most of the NLP tasks, we need to represent each word in the text with an integer value (index) before feeding it to any model. In this way, the text will be converted to a sequence of integer values. One of the ways of doing that is with Keras. Keras provides an API for tokenizing the text. Tokenizer in Keras finds the frequency of each unique word and sort them based on their frequency. It then assigns an integer value starting from 1 to each word from the top.  You can see the index mapping dictionary by reading tokenizer.word_index.\n",
        " \n",
        "There are two distinct steps in tokenizing in this way:\n",
        "1. fit_on_texts: We'll fit the tokenizer on our training data to create the word indices\n",
        "2. texts_to_sequences: using the word index dictionary from step above, we take this step to transform both train and test data. \n",
        "\n",
        "Here, we set num_words to a limit such as 10000 words. num_words is a parameter that defines the maximum number of words to keep, based on the word frequency. Keras actually keeps (num_words-1) words. We can leave the num_words to 'None' and tokenizer will pick all the words in the vacabulary. \n",
        "\n",
        "## Padding and truncating the input training sequences\n",
        "All your input sequences to the model need to have the same length. In order to achieve that, we can use a function that pads the short sequences with zeros (options are 'pre' or 'post' which pads either before or after each sequence). It also truncates any sequence that is longer than a predefined parameter \"maxlen\". Truncating also has the option of 'pre' or 'post' which either truncates at the beginning or at the end of the sequences. "
      ]
    },
    {
      "cell_type": "code",
      "metadata": {
        "id": "g6CmM5Qy0XZQ",
        "outputId": "f9b8e158-14a9-4158-fc94-fa8c9727c56c"
      },
      "source": [
        "max_words = 10000\n",
        "tokenizer = text.Tokenizer(num_words = max_words)\n",
        "# create the vocabulary by fitting on x_train text\n",
        "tokenizer.fit_on_texts(xtrain)\n",
        "# generate the sequence of tokens\n",
        "xtrain_seq = tokenizer.texts_to_sequences(xtrain)\n",
        "xtest_seq = tokenizer.texts_to_sequences(xtest)\n",
        "\n",
        "# pad the sequences\n",
        "xtrain_pad = sequence.pad_sequences(xtrain_seq, maxlen=max_len)\n",
        "xtest_pad = sequence.pad_sequences(xtest_seq, maxlen=max_len)\n",
        "word_index = tokenizer.word_index\n",
        "\n",
        "print('text example:', xtrain[0])\n",
        "print('sequence of indices(before padding):', xtrain_seq[0])\n",
        "print('sequence of indices(after padding):', xtrain_pad[0])"
      ],
      "execution_count": null,
      "outputs": [
        {
          "output_type": "stream",
          "text": [
            "text example: As US budget fight looms Republicans flip fiscal script\n",
            "sequence of indices(before padding): [47, 2455, 615, 996, 3704, 118, 2692, 3534]\n",
            "sequence of indices(after padding): [   0    0    0    0    0    0    0    0    0    0    0    0    0    0\n",
            "    0    0    0    0    0    0    0    0    0    0    0    0    0    0\n",
            "    0    0    0    0    0    0    0    0    0    0    0    0    0    0\n",
            "    0    0    0    0    0    0    0    0    0    0    0    0    0    0\n",
            "    0    0    0    0    0    0    0    0    0    0    0    0    0    0\n",
            "    0    0    0    0    0    0    0    0    0    0    0    0    0    0\n",
            "    0    0    0    0    0    0    0    0    0    0    0    0    0    0\n",
            "    0    0    0    0    0    0    0    0    0    0    0    0    0    0\n",
            "    0    0    0    0    0    0    0    0    0    0    0    0    0    0\n",
            "    0    0    0    0    0    0    0    0    0    0    0    0    0    0\n",
            "    0    0    0    0    0    0    0    0    0    0    0    0    0    0\n",
            "    0    0    0    0    0    0    0    0    0    0    0    0    0    0\n",
            "    0    0    0    0    0    0    0    0    0    0    0    0    0    0\n",
            "    0    0    0    0    0    0    0    0    0    0    0    0    0    0\n",
            "    0    0    0    0    0    0    0    0    0    0    0    0    0    0\n",
            "    0    0    0    0    0    0    0    0    0   47 2455  615  996 3704\n",
            "  118 2692 3534]\n"
          ],
          "name": "stdout"
        }
      ]
    },
    {
      "cell_type": "markdown",
      "metadata": {
        "id": "cNFjUnoe0XZR"
      },
      "source": [
        "# Word embedding using pre-trained GloVe vectors\n",
        "\n",
        "Now that we have tokenized the text, we use GloVe pretrained vectors. Word embeddings is a way to represent words with similar meaning to have a similar representation.  Using word embedding through GloVe, we can have a decent performance with models with even relatively small label training sets. \n",
        "\n",
        "You can download GloVe pre-trained word vectors from the link below. There are different sizes of vocabulary and embedding dimension available. \n",
        "\n",
        "https://nlp.stanford.edu/projects/glove/\n"
      ]
    },
    {
      "cell_type": "markdown",
      "metadata": {
        "id": "Op2zBYkO0XZR"
      },
      "source": [
        "## Load the GloVe vectors"
      ]
    },
    {
      "cell_type": "code",
      "metadata": {
        "id": "rxOSI7VH0XZR",
        "outputId": "46a50536-8c4e-4009-da60-677a4fdb1bc0"
      },
      "source": [
        "%%time\n",
        "embedding_vectors = {}\n",
        "# with open('/kaggle/input/glove6b100d/glove.6B.100d.txt','r',encoding='utf-8') as file:\n",
        "with open('/kaggle/input/glove42b300dtxt/glove.42B.300d.txt','r',encoding='utf-8') as file:\n",
        "    for row in file:\n",
        "        values = row.split(' ')\n",
        "        word = values[0]\n",
        "        weights = np.asarray([float(val) for val in values[1:]])\n",
        "        embedding_vectors[word] = weights\n",
        "print(f\"Size of vocabulary in GloVe: {len(embedding_vectors)}\")   \n"
      ],
      "execution_count": null,
      "outputs": [
        {
          "output_type": "stream",
          "text": [
            "Size of vocabulary in GloVe: 1917494\n",
            "CPU times: user 4min 21s, sys: 6.44 s, total: 4min 27s\n",
            "Wall time: 4min 27s\n"
          ],
          "name": "stdout"
        }
      ]
    },
    {
      "cell_type": "markdown",
      "metadata": {
        "id": "sYbfPpe-0XZS"
      },
      "source": [
        "## Create an embedding matrix with the GloVe vectors\n",
        "\n",
        "The embedding matrix has a shape of (vocabulary length, embedding dimension). \n",
        "\n",
        "Note tht vacab_len is equal to max_words if we set that limit when tokenizing. Otherwise, vocab_len is equal to lenght of all words in word_index+1. \n",
        "\n",
        "Each row of the embedding matrix belongs to one word in the vocabulary (derived from xtrain) and it contains the weights of embedding vector of that word. <br>\n",
        "\n",
        "In the code below, we initialze the embedding matrix with zeros. If a word in our word_index is not found in the embedding vectors from GloVe. \n",
        "\n",
        "The weight of that word remains as zero. Below, you can see print out of the some example words that are out of vacabulary (OOV). "
      ]
    },
    {
      "cell_type": "code",
      "metadata": {
        "scrolled": true,
        "id": "oHYkpeHc0XZS",
        "outputId": "0b254de4-f820-4eda-f73e-b33bb5edd03c"
      },
      "source": [
        "#initialize the embedding_matrix with zeros\n",
        "emb_dim = 300\n",
        "if max_words is not None: \n",
        "    vocab_len = max_words \n",
        "else:\n",
        "    vocab_len = len(word_index)+1\n",
        "embedding_matrix = np.zeros((vocab_len, emb_dim))\n",
        "oov_count = 0\n",
        "oov_words = []\n",
        "for word, idx in word_index.items():\n",
        "    if idx < vocab_len:\n",
        "        embedding_vector = embedding_vectors.get(word)\n",
        "        if embedding_vector is not None:\n",
        "            embedding_matrix[idx] = embedding_vector\n",
        "        else:\n",
        "            oov_count += 1 \n",
        "            oov_words.append(word)\n",
        "#print some of the out of vocabulary words\n",
        "print(f'Some out of valubulary words: {oov_words[0:5]}')"
      ],
      "execution_count": null,
      "outputs": [
        {
          "output_type": "stream",
          "text": [
            "Some out of valubulary words: ['brexit', 'antitrump', 'reutersipsos', 'protrump', 'blacklivesmatter']\n"
          ],
          "name": "stdout"
        }
      ]
    },
    {
      "cell_type": "code",
      "metadata": {
        "id": "wvS-nnti0XZS",
        "outputId": "64327f76-1af0-46da-8293-fb2ced92cd4e"
      },
      "source": [
        "print(f'{oov_count} out of {vocab_len} words were OOV.')"
      ],
      "execution_count": null,
      "outputs": [
        {
          "output_type": "stream",
          "text": [
            "210 out of 10000 words were OOV.\n"
          ],
          "name": "stdout"
        }
      ]
    },
    {
      "cell_type": "markdown",
      "metadata": {
        "id": "_z2qv4980XZS"
      },
      "source": [
        "# Modeling\n",
        "Now, we can create a model and pre-train the embedding layer with the embedding matrix we just created based on GloVe vectors. You can see the [model overview](#model_overview) below. \n",
        "\n",
        "The model architecture looks like the picture below. Although tokenizing is not part of the modeling, it's nice to show that this step is taken before feeding the text data to the LSTM models. This model is similar to one of the programming assignments in the \"Sequence model\" course. But, one of the LSTM layers are removed as it turned out that adding that extra layer doesn't help and even cause some overfitting. \n",
        "\n",
        "\n",
        "The first layer of the model is Embedding. Embedding layer by Keras is a flexible layer that can be used also without any pre-trained weights. In that case, the Embedding layer is initialized with random weights and will learn an embedding for all of the words in the training dataset. In this exercise, we will set the weights of the Embedding layer to the embedding matrix from GloVe pre-trained vectors.This is a tranfer learning. \n",
        "\n",
        "Another parameter in Embedding layer is \"trainable\" which can be set to True in case you want to fine-tune the word embedding or if you don't want the embedding weights to be updated you can set it to False. Here, we set it to False.<br>\n",
        "\n",
        "After the Embedding layer, we have a layer of LSTM or GRU and then a Dropout layer for regularization. \n",
        "\n",
        "Then we have a Dense layer with Sigmoid activation which transforms the output of previous layers to 0 or 1 (real or fake). \n"
      ]
    },
    {
      "cell_type": "markdown",
      "metadata": {
        "id": "aQbazJDI0XZT"
      },
      "source": [
        "<a id='model_overview'></a>\n",
        "## Model Overview\n",
        "\n",
        "![](https://github.com/Sepiafs/sepidehdoost/blob/master/_notebooks/images/modelarchitecture.png?raw=1)"
      ]
    },
    {
      "cell_type": "markdown",
      "metadata": {
        "id": "cRbcKPWB0XZT"
      },
      "source": [
        "## LSTM\n",
        "Let's start with LSTM models."
      ]
    },
    {
      "cell_type": "code",
      "metadata": {
        "scrolled": true,
        "id": "ZKrsvo8v0XZT",
        "outputId": "8d81903e-4641-4125-a71a-734713271e9f"
      },
      "source": [
        "lstm_model = Sequential()\n",
        "lstm_model.add(Embedding(vocab_len, emb_dim, trainable = False, weights=[embedding_matrix]))\n",
        "lstm_model.add(LSTM(128, return_sequences=False))\n",
        "lstm_model.add(Dropout(0.5))\n",
        "lstm_model.add(Dense(1, activation = 'sigmoid'))\n",
        "lstm_model.compile(loss='binary_crossentropy', optimizer='adam', metrics=['accuracy'])\n",
        "print(lstm_model.summary())"
      ],
      "execution_count": null,
      "outputs": [
        {
          "output_type": "stream",
          "text": [
            "Model: \"sequential\"\n",
            "_________________________________________________________________\n",
            "Layer (type)                 Output Shape              Param #   \n",
            "=================================================================\n",
            "embedding (Embedding)        (None, None, 300)         3000000   \n",
            "_________________________________________________________________\n",
            "lstm (LSTM)                  (None, 128)               219648    \n",
            "_________________________________________________________________\n",
            "dropout (Dropout)            (None, 128)               0         \n",
            "_________________________________________________________________\n",
            "dense (Dense)                (None, 1)                 129       \n",
            "=================================================================\n",
            "Total params: 3,219,777\n",
            "Trainable params: 219,777\n",
            "Non-trainable params: 3,000,000\n",
            "_________________________________________________________________\n",
            "None\n"
          ],
          "name": "stdout"
        }
      ]
    },
    {
      "cell_type": "code",
      "metadata": {
        "scrolled": true,
        "id": "2u3zC0I10XZT",
        "outputId": "e2bf2be1-c716-45f9-c752-534e313a6ff8"
      },
      "source": [
        "%%time\n",
        "batch_size = 256\n",
        "epochs  = 10\n",
        "history = lstm_model.fit(xtrain_pad, np.asarray(ytrain), validation_data=(xtest_pad, np.asarray(ytest)), batch_size = batch_size, epochs = epochs)\n"
      ],
      "execution_count": null,
      "outputs": [
        {
          "output_type": "stream",
          "text": [
            "Train on 35918 samples, validate on 8980 samples\n",
            "Epoch 1/10\n",
            "35918/35918 [==============================] - 12s 330us/sample - loss: 0.1254 - accuracy: 0.9511 - val_loss: 0.0745 - val_accuracy: 0.9731\n",
            "Epoch 2/10\n",
            "35918/35918 [==============================] - 6s 179us/sample - loss: 0.0572 - accuracy: 0.9798 - val_loss: 0.0554 - val_accuracy: 0.9812\n",
            "Epoch 3/10\n",
            "35918/35918 [==============================] - 6s 179us/sample - loss: 0.0431 - accuracy: 0.9850 - val_loss: 0.0575 - val_accuracy: 0.9791\n",
            "Epoch 4/10\n",
            "35918/35918 [==============================] - 6s 180us/sample - loss: 0.0324 - accuracy: 0.9894 - val_loss: 0.0479 - val_accuracy: 0.9827\n",
            "Epoch 5/10\n",
            "35918/35918 [==============================] - 7s 185us/sample - loss: 0.0246 - accuracy: 0.9921 - val_loss: 0.0436 - val_accuracy: 0.9852\n",
            "Epoch 6/10\n",
            "35918/35918 [==============================] - 7s 188us/sample - loss: 0.0184 - accuracy: 0.9940 - val_loss: 0.0432 - val_accuracy: 0.9853\n",
            "Epoch 7/10\n",
            "35918/35918 [==============================] - 6s 180us/sample - loss: 0.0116 - accuracy: 0.9965 - val_loss: 0.0443 - val_accuracy: 0.9875\n",
            "Epoch 8/10\n",
            "35918/35918 [==============================] - 6s 179us/sample - loss: 0.0120 - accuracy: 0.9962 - val_loss: 0.0498 - val_accuracy: 0.9862\n",
            "Epoch 9/10\n",
            "35918/35918 [==============================] - 6s 180us/sample - loss: 0.0076 - accuracy: 0.9981 - val_loss: 0.0519 - val_accuracy: 0.9875\n",
            "Epoch 10/10\n",
            "35918/35918 [==============================] - 6s 180us/sample - loss: 0.0049 - accuracy: 0.9987 - val_loss: 0.0530 - val_accuracy: 0.9878\n",
            "CPU times: user 56.6 s, sys: 8.17 s, total: 1min 4s\n",
            "Wall time: 1min 10s\n"
          ],
          "name": "stdout"
        }
      ]
    },
    {
      "cell_type": "markdown",
      "metadata": {
        "id": "Lx_c30Y10XZU"
      },
      "source": [
        "## LSTM - Evaluation\n",
        "\n",
        "Let's find the accuracy of training and testing dataset below:"
      ]
    },
    {
      "cell_type": "code",
      "metadata": {
        "id": "_iPyIApg0XZU",
        "outputId": "b80c9636-6310-4b5a-c3fa-02fa3aa2bcf6"
      },
      "source": [
        "#plot accuracy\n",
        "plt.figure(figsize=(15, 7))\n",
        "plt.plot(range(epochs), history.history['accuracy'])\n",
        "plt.plot(range(epochs), history.history['val_accuracy'])\n",
        "plt.legend(['training_acc', 'validation_acc'])\n",
        "plt.title('Accuracy')"
      ],
      "execution_count": null,
      "outputs": [
        {
          "output_type": "execute_result",
          "data": {
            "text/plain": [
              "Text(0.5, 1.0, 'Accuracy')"
            ]
          },
          "metadata": {
            "tags": []
          },
          "execution_count": 15
        },
        {
          "output_type": "display_data",
          "data": {
            "image/png": "[encoded data removed]",
            "text/plain": [
              "<Figure size 1080x504 with 1 Axes>"
            ]
          },
          "metadata": {
            "tags": [],
            "needs_background": "light"
          }
        }
      ]
    },
    {
      "cell_type": "code",
      "metadata": {
        "id": "9vJnxiOX0XZU",
        "outputId": "266d0fd4-e80b-45e2-aa38-d85ef58cc2e0"
      },
      "source": [
        "\n",
        "train_lstm_results = lstm_model.evaluate(xtrain_pad, np.asarray(ytrain), verbose=0, batch_size=256)\n",
        "test_lstm_results = lstm_model.evaluate(xtest_pad, np.asarray(ytest), verbose=0, batch_size=256)\n",
        "print(f'Train accuracy: {train_lstm_results[1]*100:0.2f}')\n",
        "print(f'Test accuracy: {test_lstm_results[1]*100:0.2f}')"
      ],
      "execution_count": null,
      "outputs": [
        {
          "output_type": "stream",
          "text": [
            "Train accuracy: 99.92\n",
            "Test accuracy: 98.78\n"
          ],
          "name": "stdout"
        }
      ]
    },
    {
      "cell_type": "markdown",
      "metadata": {
        "id": "IIqIWfmo0XZU"
      },
      "source": [
        "## GRU"
      ]
    },
    {
      "cell_type": "code",
      "metadata": {
        "id": "K38MxUR20XZU",
        "outputId": "a4f18e18-4c4b-4e82-f770-a25a876d991a"
      },
      "source": [
        "emb_dim = embedding_matrix.shape[1]\n",
        "gru_model = Sequential()\n",
        "gru_model.add(Embedding(vocab_len, emb_dim, trainable = False, weights=[embedding_matrix]))\n",
        "gru_model.add(GRU(128, return_sequences=False))\n",
        "gru_model.add(Dropout(0.5))\n",
        "gru_model.add(Dense(1, activation = 'sigmoid'))\n",
        "gru_model.compile(loss='binary_crossentropy', optimizer='adam', metrics=['accuracy'])\n",
        "print(gru_model.summary())"
      ],
      "execution_count": null,
      "outputs": [
        {
          "output_type": "stream",
          "text": [
            "Model: \"sequential_1\"\n",
            "_________________________________________________________________\n",
            "Layer (type)                 Output Shape              Param #   \n",
            "=================================================================\n",
            "embedding_1 (Embedding)      (None, None, 300)         3000000   \n",
            "_________________________________________________________________\n",
            "gru (GRU)                    (None, 128)               165120    \n",
            "_________________________________________________________________\n",
            "dropout_1 (Dropout)          (None, 128)               0         \n",
            "_________________________________________________________________\n",
            "dense_1 (Dense)              (None, 1)                 129       \n",
            "=================================================================\n",
            "Total params: 3,165,249\n",
            "Trainable params: 165,249\n",
            "Non-trainable params: 3,000,000\n",
            "_________________________________________________________________\n",
            "None\n"
          ],
          "name": "stdout"
        }
      ]
    },
    {
      "cell_type": "code",
      "metadata": {
        "scrolled": true,
        "id": "fLx3Cm7b0XZV",
        "outputId": "b2e8a75d-ada4-467f-f1d1-0ade991a107d"
      },
      "source": [
        "\n",
        "batch_size = 256\n",
        "epochs  = 10\n",
        "history = gru_model.fit(xtrain_pad, np.asarray(ytrain), validation_data=(xtest_pad, np.asarray(ytest)), batch_size = batch_size, epochs = epochs)\n"
      ],
      "execution_count": null,
      "outputs": [
        {
          "output_type": "stream",
          "text": [
            "Train on 35918 samples, validate on 8980 samples\n",
            "Epoch 1/10\n",
            "35918/35918 [==============================] - 8s 226us/sample - loss: 0.1344 - accuracy: 0.9450 - val_loss: 0.0675 - val_accuracy: 0.9762\n",
            "Epoch 2/10\n",
            "35918/35918 [==============================] - 6s 179us/sample - loss: 0.0587 - accuracy: 0.9803 - val_loss: 0.0536 - val_accuracy: 0.9820\n",
            "Epoch 3/10\n",
            "35918/35918 [==============================] - 7s 184us/sample - loss: 0.0445 - accuracy: 0.9855 - val_loss: 0.0480 - val_accuracy: 0.9836\n",
            "Epoch 4/10\n",
            "35918/35918 [==============================] - 7s 183us/sample - loss: 0.0323 - accuracy: 0.9893 - val_loss: 0.0411 - val_accuracy: 0.9856\n",
            "Epoch 5/10\n",
            "35918/35918 [==============================] - 6s 179us/sample - loss: 0.0227 - accuracy: 0.9922 - val_loss: 0.0392 - val_accuracy: 0.9880\n",
            "Epoch 6/10\n",
            "35918/35918 [==============================] - 6s 180us/sample - loss: 0.0163 - accuracy: 0.9951 - val_loss: 0.0390 - val_accuracy: 0.9875\n",
            "Epoch 7/10\n",
            "35918/35918 [==============================] - 6s 178us/sample - loss: 0.0125 - accuracy: 0.9959 - val_loss: 0.0406 - val_accuracy: 0.9882\n",
            "Epoch 8/10\n",
            "35918/35918 [==============================] - 6s 177us/sample - loss: 0.0111 - accuracy: 0.9963 - val_loss: 0.0446 - val_accuracy: 0.9871\n",
            "Epoch 9/10\n",
            "35918/35918 [==============================] - 7s 182us/sample - loss: 0.0064 - accuracy: 0.9982 - val_loss: 0.0544 - val_accuracy: 0.9863\n",
            "Epoch 10/10\n",
            "35918/35918 [==============================] - 6s 177us/sample - loss: 0.0042 - accuracy: 0.9988 - val_loss: 0.0479 - val_accuracy: 0.9888\n"
          ],
          "name": "stdout"
        }
      ]
    },
    {
      "cell_type": "markdown",
      "metadata": {
        "id": "PA7CBQl20XZV"
      },
      "source": [
        "## GRU Evaluation\n",
        "\n",
        "Let's find the accuracy of training and testing dataset with GRU model below:"
      ]
    },
    {
      "cell_type": "code",
      "metadata": {
        "id": "PocN5XpL0XZV",
        "outputId": "28ba9cad-65e4-4852-a7c2-b5f3d6e151ab"
      },
      "source": [
        "#plot accuracy\n",
        "plt.figure(figsize=(15, 7))\n",
        "plt.plot(range(epochs), history.history['accuracy'])\n",
        "plt.plot(range(epochs), history.history['val_accuracy'])\n",
        "plt.legend(['training_acc', 'validation_acc'])\n",
        "plt.title('Accuracy')"
      ],
      "execution_count": null,
      "outputs": [
        {
          "output_type": "execute_result",
          "data": {
            "text/plain": [
              "Text(0.5, 1.0, 'Accuracy')"
            ]
          },
          "metadata": {
            "tags": []
          },
          "execution_count": 19
        },
        {
          "output_type": "display_data",
          "data": {
            "image/png": "[encoded data removed]",
            "text/plain": [
              "<Figure size 1080x504 with 1 Axes>"
            ]
          },
          "metadata": {
            "tags": [],
            "needs_background": "light"
          }
        }
      ]
    },
    {
      "cell_type": "code",
      "metadata": {
        "id": "OIyM1yrt0XZV",
        "outputId": "33e7020e-9f3c-4e6d-a3a1-ce52d2f09768"
      },
      "source": [
        "train_gru_results = gru_model.evaluate(xtrain_pad, np.asarray(ytrain), verbose=0, batch_size=256)\n",
        "test_gru_results = gru_model.evaluate(xtest_pad, np.asarray(ytest), verbose=0, batch_size=256)\n",
        "print(f'Train accuracy: {train_gru_results[1]*100:0.2f}')\n",
        "print(f'Test accuracy: {test_gru_results[1]*100:0.2f}')"
      ],
      "execution_count": null,
      "outputs": [
        {
          "output_type": "stream",
          "text": [
            "Train accuracy: 99.96\n",
            "Test accuracy: 98.88\n"
          ],
          "name": "stdout"
        }
      ]
    },
    {
      "cell_type": "markdown",
      "metadata": {
        "id": "gaWiLK490XZW"
      },
      "source": [
        "As you can see in this example both GRU and LSTM perform similarly. Given the lower complexity of GRU, perhaps GRU is a better choice here. \n",
        "\n",
        "There you have it. You learned all steps required to write a text classifier using pre-trained word embeddings such as GloVe and an LSTM or GRU model. \n",
        "\n",
        "**Let me know if you have any suggestions to improve this notebook.  Thank you. **"
      ]
    }
  ]
}